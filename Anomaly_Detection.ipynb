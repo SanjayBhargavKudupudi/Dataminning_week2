{
  "nbformat": 4,
  "nbformat_minor": 0,
  "metadata": {
    "colab": {
      "provenance": [],
      "mount_file_id": "1CudjGk-lv_DNrn-18V50PLpH2ppDmqI5",
      "authorship_tag": "ABX9TyMVL+IVGPqsYjhsQF2wMPzS",
      "include_colab_link": true
    },
    "kernelspec": {
      "name": "python3",
      "display_name": "Python 3"
    },
    "language_info": {
      "name": "python"
    },
    "widgets": {
      "application/vnd.jupyter.widget-state+json": {
        "96623709ce6d44b3aa5d4a41b3b68ea3": {
          "model_module": "@jupyter-widgets/controls",
          "model_name": "HBoxModel",
          "model_module_version": "1.5.0",
          "state": {
            "_dom_classes": [],
            "_model_module": "@jupyter-widgets/controls",
            "_model_module_version": "1.5.0",
            "_model_name": "HBoxModel",
            "_view_count": null,
            "_view_module": "@jupyter-widgets/controls",
            "_view_module_version": "1.5.0",
            "_view_name": "HBoxView",
            "box_style": "",
            "children": [
              "IPY_MODEL_5232f175dfe64ecea68743f8590af435",
              "IPY_MODEL_007a17fe67c14fb88da757c0546c7239",
              "IPY_MODEL_e24dbb3a5c1e421c951b12dbab78fc2a"
            ],
            "layout": "IPY_MODEL_d43511fee0b14878a66534553acc73ca"
          }
        },
        "5232f175dfe64ecea68743f8590af435": {
          "model_module": "@jupyter-widgets/controls",
          "model_name": "HTMLModel",
          "model_module_version": "1.5.0",
          "state": {
            "_dom_classes": [],
            "_model_module": "@jupyter-widgets/controls",
            "_model_module_version": "1.5.0",
            "_model_name": "HTMLModel",
            "_view_count": null,
            "_view_module": "@jupyter-widgets/controls",
            "_view_module_version": "1.5.0",
            "_view_name": "HTMLView",
            "description": "",
            "description_tooltip": null,
            "layout": "IPY_MODEL_ed8641fd86ca446eba36850092318baa",
            "placeholder": "​",
            "style": "IPY_MODEL_2efe39abf85643758961b7cc38cbf9cc",
            "value": "Processing:  67%"
          }
        },
        "007a17fe67c14fb88da757c0546c7239": {
          "model_module": "@jupyter-widgets/controls",
          "model_name": "FloatProgressModel",
          "model_module_version": "1.5.0",
          "state": {
            "_dom_classes": [],
            "_model_module": "@jupyter-widgets/controls",
            "_model_module_version": "1.5.0",
            "_model_name": "FloatProgressModel",
            "_view_count": null,
            "_view_module": "@jupyter-widgets/controls",
            "_view_module_version": "1.5.0",
            "_view_name": "ProgressView",
            "bar_style": "",
            "description": "",
            "description_tooltip": null,
            "layout": "IPY_MODEL_741f4c3f245a4d5ebcf63cb8c9eebd9d",
            "max": 3,
            "min": 0,
            "orientation": "horizontal",
            "style": "IPY_MODEL_4140299e56b94e00ac33b7d60bba4bf4",
            "value": 3
          }
        },
        "e24dbb3a5c1e421c951b12dbab78fc2a": {
          "model_module": "@jupyter-widgets/controls",
          "model_name": "HTMLModel",
          "model_module_version": "1.5.0",
          "state": {
            "_dom_classes": [],
            "_model_module": "@jupyter-widgets/controls",
            "_model_module_version": "1.5.0",
            "_model_name": "HTMLModel",
            "_view_count": null,
            "_view_module": "@jupyter-widgets/controls",
            "_view_module_version": "1.5.0",
            "_view_name": "HTMLView",
            "description": "",
            "description_tooltip": null,
            "layout": "IPY_MODEL_feb88d1910244e6d91e6e99aa862751f",
            "placeholder": "​",
            "style": "IPY_MODEL_796409b34e7c477ea5396a61cdf5a4de",
            "value": " 2/3 [00:01&lt;00:00,  1.97it/s]"
          }
        },
        "d43511fee0b14878a66534553acc73ca": {
          "model_module": "@jupyter-widgets/base",
          "model_name": "LayoutModel",
          "model_module_version": "1.2.0",
          "state": {
            "_model_module": "@jupyter-widgets/base",
            "_model_module_version": "1.2.0",
            "_model_name": "LayoutModel",
            "_view_count": null,
            "_view_module": "@jupyter-widgets/base",
            "_view_module_version": "1.2.0",
            "_view_name": "LayoutView",
            "align_content": null,
            "align_items": null,
            "align_self": null,
            "border": null,
            "bottom": null,
            "display": null,
            "flex": null,
            "flex_flow": null,
            "grid_area": null,
            "grid_auto_columns": null,
            "grid_auto_flow": null,
            "grid_auto_rows": null,
            "grid_column": null,
            "grid_gap": null,
            "grid_row": null,
            "grid_template_areas": null,
            "grid_template_columns": null,
            "grid_template_rows": null,
            "height": null,
            "justify_content": null,
            "justify_items": null,
            "left": null,
            "margin": null,
            "max_height": null,
            "max_width": null,
            "min_height": null,
            "min_width": null,
            "object_fit": null,
            "object_position": null,
            "order": null,
            "overflow": null,
            "overflow_x": null,
            "overflow_y": null,
            "padding": null,
            "right": null,
            "top": null,
            "visibility": "hidden",
            "width": null
          }
        },
        "ed8641fd86ca446eba36850092318baa": {
          "model_module": "@jupyter-widgets/base",
          "model_name": "LayoutModel",
          "model_module_version": "1.2.0",
          "state": {
            "_model_module": "@jupyter-widgets/base",
            "_model_module_version": "1.2.0",
            "_model_name": "LayoutModel",
            "_view_count": null,
            "_view_module": "@jupyter-widgets/base",
            "_view_module_version": "1.2.0",
            "_view_name": "LayoutView",
            "align_content": null,
            "align_items": null,
            "align_self": null,
            "border": null,
            "bottom": null,
            "display": null,
            "flex": null,
            "flex_flow": null,
            "grid_area": null,
            "grid_auto_columns": null,
            "grid_auto_flow": null,
            "grid_auto_rows": null,
            "grid_column": null,
            "grid_gap": null,
            "grid_row": null,
            "grid_template_areas": null,
            "grid_template_columns": null,
            "grid_template_rows": null,
            "height": null,
            "justify_content": null,
            "justify_items": null,
            "left": null,
            "margin": null,
            "max_height": null,
            "max_width": null,
            "min_height": null,
            "min_width": null,
            "object_fit": null,
            "object_position": null,
            "order": null,
            "overflow": null,
            "overflow_x": null,
            "overflow_y": null,
            "padding": null,
            "right": null,
            "top": null,
            "visibility": null,
            "width": null
          }
        },
        "2efe39abf85643758961b7cc38cbf9cc": {
          "model_module": "@jupyter-widgets/controls",
          "model_name": "DescriptionStyleModel",
          "model_module_version": "1.5.0",
          "state": {
            "_model_module": "@jupyter-widgets/controls",
            "_model_module_version": "1.5.0",
            "_model_name": "DescriptionStyleModel",
            "_view_count": null,
            "_view_module": "@jupyter-widgets/base",
            "_view_module_version": "1.2.0",
            "_view_name": "StyleView",
            "description_width": ""
          }
        },
        "741f4c3f245a4d5ebcf63cb8c9eebd9d": {
          "model_module": "@jupyter-widgets/base",
          "model_name": "LayoutModel",
          "model_module_version": "1.2.0",
          "state": {
            "_model_module": "@jupyter-widgets/base",
            "_model_module_version": "1.2.0",
            "_model_name": "LayoutModel",
            "_view_count": null,
            "_view_module": "@jupyter-widgets/base",
            "_view_module_version": "1.2.0",
            "_view_name": "LayoutView",
            "align_content": null,
            "align_items": null,
            "align_self": null,
            "border": null,
            "bottom": null,
            "display": null,
            "flex": null,
            "flex_flow": null,
            "grid_area": null,
            "grid_auto_columns": null,
            "grid_auto_flow": null,
            "grid_auto_rows": null,
            "grid_column": null,
            "grid_gap": null,
            "grid_row": null,
            "grid_template_areas": null,
            "grid_template_columns": null,
            "grid_template_rows": null,
            "height": null,
            "justify_content": null,
            "justify_items": null,
            "left": null,
            "margin": null,
            "max_height": null,
            "max_width": null,
            "min_height": null,
            "min_width": null,
            "object_fit": null,
            "object_position": null,
            "order": null,
            "overflow": null,
            "overflow_x": null,
            "overflow_y": null,
            "padding": null,
            "right": null,
            "top": null,
            "visibility": null,
            "width": null
          }
        },
        "4140299e56b94e00ac33b7d60bba4bf4": {
          "model_module": "@jupyter-widgets/controls",
          "model_name": "ProgressStyleModel",
          "model_module_version": "1.5.0",
          "state": {
            "_model_module": "@jupyter-widgets/controls",
            "_model_module_version": "1.5.0",
            "_model_name": "ProgressStyleModel",
            "_view_count": null,
            "_view_module": "@jupyter-widgets/base",
            "_view_module_version": "1.2.0",
            "_view_name": "StyleView",
            "bar_color": null,
            "description_width": ""
          }
        },
        "feb88d1910244e6d91e6e99aa862751f": {
          "model_module": "@jupyter-widgets/base",
          "model_name": "LayoutModel",
          "model_module_version": "1.2.0",
          "state": {
            "_model_module": "@jupyter-widgets/base",
            "_model_module_version": "1.2.0",
            "_model_name": "LayoutModel",
            "_view_count": null,
            "_view_module": "@jupyter-widgets/base",
            "_view_module_version": "1.2.0",
            "_view_name": "LayoutView",
            "align_content": null,
            "align_items": null,
            "align_self": null,
            "border": null,
            "bottom": null,
            "display": null,
            "flex": null,
            "flex_flow": null,
            "grid_area": null,
            "grid_auto_columns": null,
            "grid_auto_flow": null,
            "grid_auto_rows": null,
            "grid_column": null,
            "grid_gap": null,
            "grid_row": null,
            "grid_template_areas": null,
            "grid_template_columns": null,
            "grid_template_rows": null,
            "height": null,
            "justify_content": null,
            "justify_items": null,
            "left": null,
            "margin": null,
            "max_height": null,
            "max_width": null,
            "min_height": null,
            "min_width": null,
            "object_fit": null,
            "object_position": null,
            "order": null,
            "overflow": null,
            "overflow_x": null,
            "overflow_y": null,
            "padding": null,
            "right": null,
            "top": null,
            "visibility": null,
            "width": null
          }
        },
        "796409b34e7c477ea5396a61cdf5a4de": {
          "model_module": "@jupyter-widgets/controls",
          "model_name": "DescriptionStyleModel",
          "model_module_version": "1.5.0",
          "state": {
            "_model_module": "@jupyter-widgets/controls",
            "_model_module_version": "1.5.0",
            "_model_name": "DescriptionStyleModel",
            "_view_count": null,
            "_view_module": "@jupyter-widgets/base",
            "_view_module_version": "1.2.0",
            "_view_name": "StyleView",
            "description_width": ""
          }
        }
      }
    }
  },
  "cells": [
    {
      "cell_type": "markdown",
      "metadata": {
        "id": "view-in-github",
        "colab_type": "text"
      },
      "source": [
        "<a href=\"https://colab.research.google.com/github/SanjayBhargavKudupudi/Dataminning_week2/blob/main/Anomaly_Detection.ipynb\" target=\"_parent\"><img src=\"https://colab.research.google.com/assets/colab-badge.svg\" alt=\"Open In Colab\"/></a>"
      ]
    },
    {
      "cell_type": "code",
      "execution_count": null,
      "metadata": {
        "colab": {
          "base_uri": "https://localhost:8080/"
        },
        "id": "kfnp1StWzstt",
        "outputId": "e85da3ca-dbca-4765-ce24-3eef9807f19c"
      },
      "outputs": [
        {
          "output_type": "stream",
          "name": "stdout",
          "text": [
            "Collecting pycaret\n",
            "  Downloading pycaret-3.1.0-py3-none-any.whl (483 kB)\n",
            "\u001b[2K     \u001b[90m━━━━━━━━━━━━━━━━━━━━━━━━━━━━━━━━━━━━━━━\u001b[0m \u001b[32m483.9/483.9 kB\u001b[0m \u001b[31m3.8 MB/s\u001b[0m eta \u001b[36m0:00:00\u001b[0m\n",
            "\u001b[?25hRequirement already satisfied: ipython>=5.5.0 in /usr/local/lib/python3.10/dist-packages (from pycaret) (7.34.0)\n",
            "Requirement already satisfied: ipywidgets>=7.6.5 in /usr/local/lib/python3.10/dist-packages (from pycaret) (7.7.1)\n",
            "Requirement already satisfied: tqdm>=4.62.0 in /usr/local/lib/python3.10/dist-packages (from pycaret) (4.66.1)\n",
            "Requirement already satisfied: numpy<1.24,>=1.21 in /usr/local/lib/python3.10/dist-packages (from pycaret) (1.23.5)\n",
            "Requirement already satisfied: pandas<2.0.0,>=1.3.0 in /usr/local/lib/python3.10/dist-packages (from pycaret) (1.5.3)\n",
            "Requirement already satisfied: jinja2>=1.2 in /usr/local/lib/python3.10/dist-packages (from pycaret) (3.1.2)\n",
            "Requirement already satisfied: scipy~=1.10.1 in /usr/local/lib/python3.10/dist-packages (from pycaret) (1.10.1)\n",
            "Requirement already satisfied: joblib>=1.2.0 in /usr/local/lib/python3.10/dist-packages (from pycaret) (1.3.2)\n",
            "Requirement already satisfied: scikit-learn<1.3.0,>=1.0 in /usr/local/lib/python3.10/dist-packages (from pycaret) (1.2.2)\n",
            "Collecting pyod>=1.0.8 (from pycaret)\n",
            "  Downloading pyod-1.1.0.tar.gz (153 kB)\n",
            "\u001b[2K     \u001b[90m━━━━━━━━━━━━━━━━━━━━━━━━━━━━━━━━━━━━━━\u001b[0m \u001b[32m153.4/153.4 kB\u001b[0m \u001b[31m16.8 MB/s\u001b[0m eta \u001b[36m0:00:00\u001b[0m\n",
            "\u001b[?25h  Preparing metadata (setup.py) ... \u001b[?25l\u001b[?25hdone\n",
            "Requirement already satisfied: imbalanced-learn>=0.8.1 in /usr/local/lib/python3.10/dist-packages (from pycaret) (0.10.1)\n",
            "Collecting category-encoders>=2.4.0 (from pycaret)\n",
            "  Downloading category_encoders-2.6.2-py2.py3-none-any.whl (81 kB)\n",
            "\u001b[2K     \u001b[90m━━━━━━━━━━━━━━━━━━━━━━━━━━━━━━━━━━━━━━━━\u001b[0m \u001b[32m81.8/81.8 kB\u001b[0m \u001b[31m10.0 MB/s\u001b[0m eta \u001b[36m0:00:00\u001b[0m\n",
            "\u001b[?25hRequirement already satisfied: lightgbm>=3.0.0 in /usr/local/lib/python3.10/dist-packages (from pycaret) (4.0.0)\n",
            "Requirement already satisfied: numba>=0.55.0 in /usr/local/lib/python3.10/dist-packages (from pycaret) (0.56.4)\n",
            "Requirement already satisfied: requests>=2.27.1 in /usr/local/lib/python3.10/dist-packages (from pycaret) (2.31.0)\n",
            "Requirement already satisfied: psutil>=5.9.0 in /usr/local/lib/python3.10/dist-packages (from pycaret) (5.9.5)\n",
            "Requirement already satisfied: markupsafe>=2.0.1 in /usr/local/lib/python3.10/dist-packages (from pycaret) (2.1.3)\n",
            "Requirement already satisfied: importlib-metadata>=4.12.0 in /usr/local/lib/python3.10/dist-packages (from pycaret) (6.8.0)\n",
            "Requirement already satisfied: nbformat>=4.2.0 in /usr/local/lib/python3.10/dist-packages (from pycaret) (5.9.2)\n",
            "Requirement already satisfied: cloudpickle in /usr/local/lib/python3.10/dist-packages (from pycaret) (2.2.1)\n",
            "Collecting deprecation>=2.1.0 (from pycaret)\n",
            "  Downloading deprecation-2.1.0-py2.py3-none-any.whl (11 kB)\n",
            "Collecting xxhash (from pycaret)\n",
            "  Downloading xxhash-3.3.0-cp310-cp310-manylinux_2_17_x86_64.manylinux2014_x86_64.whl (194 kB)\n",
            "\u001b[2K     \u001b[90m━━━━━━━━━━━━━━━━━━━━━━━━━━━━━━━━━━━━━━\u001b[0m \u001b[32m194.1/194.1 kB\u001b[0m \u001b[31m16.7 MB/s\u001b[0m eta \u001b[36m0:00:00\u001b[0m\n",
            "\u001b[?25hRequirement already satisfied: matplotlib>=3.3.0 in /usr/local/lib/python3.10/dist-packages (from pycaret) (3.7.1)\n",
            "Collecting scikit-plot>=0.3.7 (from pycaret)\n",
            "  Downloading scikit_plot-0.3.7-py3-none-any.whl (33 kB)\n",
            "Requirement already satisfied: yellowbrick>=1.4 in /usr/local/lib/python3.10/dist-packages (from pycaret) (1.5)\n",
            "Requirement already satisfied: plotly>=5.0.0 in /usr/local/lib/python3.10/dist-packages (from pycaret) (5.15.0)\n",
            "Collecting kaleido>=0.2.1 (from pycaret)\n",
            "  Downloading kaleido-0.2.1-py2.py3-none-manylinux1_x86_64.whl (79.9 MB)\n",
            "\u001b[2K     \u001b[90m━━━━━━━━━━━━━━━━━━━━━━━━━━━━━━━━━━━━━━━━\u001b[0m \u001b[32m79.9/79.9 MB\u001b[0m \u001b[31m13.2 MB/s\u001b[0m eta \u001b[36m0:00:00\u001b[0m\n",
            "\u001b[?25hCollecting schemdraw==0.15 (from pycaret)\n",
            "  Downloading schemdraw-0.15-py3-none-any.whl (106 kB)\n",
            "\u001b[2K     \u001b[90m━━━━━━━━━━━━━━━━━━━━━━━━━━━━━━━━━━━━━━\u001b[0m \u001b[32m106.8/106.8 kB\u001b[0m \u001b[31m13.2 MB/s\u001b[0m eta \u001b[36m0:00:00\u001b[0m\n",
            "\u001b[?25hCollecting plotly-resampler>=0.8.3.1 (from pycaret)\n",
            "  Downloading plotly_resampler-0.9.1-py3-none-any.whl (73 kB)\n",
            "\u001b[2K     \u001b[90m━━━━━━━━━━━━━━━━━━━━━━━━━━━━━━━━━━━━━━━━\u001b[0m \u001b[32m73.4/73.4 kB\u001b[0m \u001b[31m8.0 MB/s\u001b[0m eta \u001b[36m0:00:00\u001b[0m\n",
            "\u001b[?25hRequirement already satisfied: statsmodels>=0.12.1 in /usr/local/lib/python3.10/dist-packages (from pycaret) (0.14.0)\n",
            "Collecting sktime!=0.17.1,!=0.17.2,!=0.18.0,<0.22.0,>=0.16.1 (from pycaret)\n",
            "  Downloading sktime-0.21.1-py3-none-any.whl (17.1 MB)\n",
            "\u001b[2K     \u001b[90m━━━━━━━━━━━━━━━━━━━━━━━━━━━━━━━━━━━━━━━━\u001b[0m \u001b[32m17.1/17.1 MB\u001b[0m \u001b[31m80.1 MB/s\u001b[0m eta \u001b[36m0:00:00\u001b[0m\n",
            "\u001b[?25hCollecting tbats>=1.1.3 (from pycaret)\n",
            "  Downloading tbats-1.1.3-py3-none-any.whl (44 kB)\n",
            "\u001b[2K     \u001b[90m━━━━━━━━━━━━━━━━━━━━━━━━━━━━━━━━━━━━━━━━\u001b[0m \u001b[32m44.0/44.0 kB\u001b[0m \u001b[31m4.7 MB/s\u001b[0m eta \u001b[36m0:00:00\u001b[0m\n",
            "\u001b[?25hCollecting pmdarima!=1.8.1,<3.0.0,>=1.8.0 (from pycaret)\n",
            "  Downloading pmdarima-2.0.3-cp310-cp310-manylinux_2_17_x86_64.manylinux2014_x86_64.manylinux_2_28_x86_64.whl (1.8 MB)\n",
            "\u001b[2K     \u001b[90m━━━━━━━━━━━━━━━━━━━━━━━━━━━━━━━━━━━━━━━━\u001b[0m \u001b[32m1.8/1.8 MB\u001b[0m \u001b[31m56.3 MB/s\u001b[0m eta \u001b[36m0:00:00\u001b[0m\n",
            "\u001b[?25hCollecting wurlitzer (from pycaret)\n",
            "  Downloading wurlitzer-3.0.3-py3-none-any.whl (7.3 kB)\n",
            "Requirement already satisfied: patsy>=0.5.1 in /usr/local/lib/python3.10/dist-packages (from category-encoders>=2.4.0->pycaret) (0.5.3)\n",
            "Requirement already satisfied: packaging in /usr/local/lib/python3.10/dist-packages (from deprecation>=2.1.0->pycaret) (23.1)\n",
            "Requirement already satisfied: threadpoolctl>=2.0.0 in /usr/local/lib/python3.10/dist-packages (from imbalanced-learn>=0.8.1->pycaret) (3.2.0)\n",
            "Requirement already satisfied: zipp>=0.5 in /usr/local/lib/python3.10/dist-packages (from importlib-metadata>=4.12.0->pycaret) (3.16.2)\n",
            "Requirement already satisfied: setuptools>=18.5 in /usr/local/lib/python3.10/dist-packages (from ipython>=5.5.0->pycaret) (67.7.2)\n",
            "Collecting jedi>=0.16 (from ipython>=5.5.0->pycaret)\n",
            "  Downloading jedi-0.19.0-py2.py3-none-any.whl (1.6 MB)\n",
            "\u001b[2K     \u001b[90m━━━━━━━━━━━━━━━━━━━━━━━━━━━━━━━━━━━━━━━━\u001b[0m \u001b[32m1.6/1.6 MB\u001b[0m \u001b[31m67.3 MB/s\u001b[0m eta \u001b[36m0:00:00\u001b[0m\n",
            "\u001b[?25hRequirement already satisfied: decorator in /usr/local/lib/python3.10/dist-packages (from ipython>=5.5.0->pycaret) (4.4.2)\n",
            "Requirement already satisfied: pickleshare in /usr/local/lib/python3.10/dist-packages (from ipython>=5.5.0->pycaret) (0.7.5)\n",
            "Requirement already satisfied: traitlets>=4.2 in /usr/local/lib/python3.10/dist-packages (from ipython>=5.5.0->pycaret) (5.7.1)\n",
            "Requirement already satisfied: prompt-toolkit!=3.0.0,!=3.0.1,<3.1.0,>=2.0.0 in /usr/local/lib/python3.10/dist-packages (from ipython>=5.5.0->pycaret) (3.0.39)\n",
            "Requirement already satisfied: pygments in /usr/local/lib/python3.10/dist-packages (from ipython>=5.5.0->pycaret) (2.16.1)\n",
            "Requirement already satisfied: backcall in /usr/local/lib/python3.10/dist-packages (from ipython>=5.5.0->pycaret) (0.2.0)\n",
            "Requirement already satisfied: matplotlib-inline in /usr/local/lib/python3.10/dist-packages (from ipython>=5.5.0->pycaret) (0.1.6)\n",
            "Requirement already satisfied: pexpect>4.3 in /usr/local/lib/python3.10/dist-packages (from ipython>=5.5.0->pycaret) (4.8.0)\n",
            "Requirement already satisfied: ipykernel>=4.5.1 in /usr/local/lib/python3.10/dist-packages (from ipywidgets>=7.6.5->pycaret) (5.5.6)\n",
            "Requirement already satisfied: ipython-genutils~=0.2.0 in /usr/local/lib/python3.10/dist-packages (from ipywidgets>=7.6.5->pycaret) (0.2.0)\n",
            "Requirement already satisfied: widgetsnbextension~=3.6.0 in /usr/local/lib/python3.10/dist-packages (from ipywidgets>=7.6.5->pycaret) (3.6.5)\n",
            "Requirement already satisfied: jupyterlab-widgets>=1.0.0 in /usr/local/lib/python3.10/dist-packages (from ipywidgets>=7.6.5->pycaret) (3.0.8)\n",
            "Requirement already satisfied: contourpy>=1.0.1 in /usr/local/lib/python3.10/dist-packages (from matplotlib>=3.3.0->pycaret) (1.1.0)\n",
            "Requirement already satisfied: cycler>=0.10 in /usr/local/lib/python3.10/dist-packages (from matplotlib>=3.3.0->pycaret) (0.11.0)\n",
            "Requirement already satisfied: fonttools>=4.22.0 in /usr/local/lib/python3.10/dist-packages (from matplotlib>=3.3.0->pycaret) (4.42.1)\n",
            "Requirement already satisfied: kiwisolver>=1.0.1 in /usr/local/lib/python3.10/dist-packages (from matplotlib>=3.3.0->pycaret) (1.4.5)\n",
            "Requirement already satisfied: pillow>=6.2.0 in /usr/local/lib/python3.10/dist-packages (from matplotlib>=3.3.0->pycaret) (9.4.0)\n",
            "Requirement already satisfied: pyparsing>=2.3.1 in /usr/local/lib/python3.10/dist-packages (from matplotlib>=3.3.0->pycaret) (3.1.1)\n",
            "Requirement already satisfied: python-dateutil>=2.7 in /usr/local/lib/python3.10/dist-packages (from matplotlib>=3.3.0->pycaret) (2.8.2)\n",
            "Requirement already satisfied: fastjsonschema in /usr/local/lib/python3.10/dist-packages (from nbformat>=4.2.0->pycaret) (2.18.0)\n",
            "Requirement already satisfied: jsonschema>=2.6 in /usr/local/lib/python3.10/dist-packages (from nbformat>=4.2.0->pycaret) (4.19.0)\n",
            "Requirement already satisfied: jupyter-core in /usr/local/lib/python3.10/dist-packages (from nbformat>=4.2.0->pycaret) (5.3.1)\n",
            "Requirement already satisfied: llvmlite<0.40,>=0.39.0dev0 in /usr/local/lib/python3.10/dist-packages (from numba>=0.55.0->pycaret) (0.39.1)\n",
            "Requirement already satisfied: pytz>=2020.1 in /usr/local/lib/python3.10/dist-packages (from pandas<2.0.0,>=1.3.0->pycaret) (2023.3.post1)\n",
            "Requirement already satisfied: tenacity>=6.2.0 in /usr/local/lib/python3.10/dist-packages (from plotly>=5.0.0->pycaret) (8.2.3)\n",
            "Collecting dash<3.0.0,>=2.11.0 (from plotly-resampler>=0.8.3.1->pycaret)\n",
            "  Downloading dash-2.13.0-py3-none-any.whl (10.4 MB)\n",
            "\u001b[2K     \u001b[90m━━━━━━━━━━━━━━━━━━━━━━━━━━━━━━━━━━━━━━━━\u001b[0m \u001b[32m10.4/10.4 MB\u001b[0m \u001b[31m90.1 MB/s\u001b[0m eta \u001b[36m0:00:00\u001b[0m\n",
            "\u001b[?25hCollecting orjson<4.0.0,>=3.8.0 (from plotly-resampler>=0.8.3.1->pycaret)\n",
            "  Downloading orjson-3.9.7-cp310-cp310-manylinux_2_17_x86_64.manylinux2014_x86_64.whl (138 kB)\n",
            "\u001b[2K     \u001b[90m━━━━━━━━━━━━━━━━━━━━━━━━━━━━━━━━━━━━━━\u001b[0m \u001b[32m138.7/138.7 kB\u001b[0m \u001b[31m14.2 MB/s\u001b[0m eta \u001b[36m0:00:00\u001b[0m\n",
            "\u001b[?25hCollecting trace-updater>=0.0.8 (from plotly-resampler>=0.8.3.1->pycaret)\n",
            "  Downloading trace_updater-0.0.9.1-py3-none-any.whl (185 kB)\n",
            "\u001b[2K     \u001b[90m━━━━━━━━━━━━━━━━━━━━━━━━━━━━━━━━━━━━━━\u001b[0m \u001b[32m185.2/185.2 kB\u001b[0m \u001b[31m14.7 MB/s\u001b[0m eta \u001b[36m0:00:00\u001b[0m\n",
            "\u001b[?25hCollecting tsdownsample==0.1.2 (from plotly-resampler>=0.8.3.1->pycaret)\n",
            "  Downloading tsdownsample-0.1.2-cp310-cp310-manylinux_2_17_x86_64.manylinux2014_x86_64.whl (2.3 MB)\n",
            "\u001b[2K     \u001b[90m━━━━━━━━━━━━━━━━━━━━━━━━━━━━━━━━━━━━━━━━\u001b[0m \u001b[32m2.3/2.3 MB\u001b[0m \u001b[31m45.0 MB/s\u001b[0m eta \u001b[36m0:00:00\u001b[0m\n",
            "\u001b[?25hRequirement already satisfied: Cython!=0.29.18,!=0.29.31,>=0.29 in /usr/local/lib/python3.10/dist-packages (from pmdarima!=1.8.1,<3.0.0,>=1.8.0->pycaret) (0.29.36)\n",
            "Requirement already satisfied: urllib3 in /usr/local/lib/python3.10/dist-packages (from pmdarima!=1.8.1,<3.0.0,>=1.8.0->pycaret) (2.0.4)\n",
            "Requirement already satisfied: six in /usr/local/lib/python3.10/dist-packages (from pyod>=1.0.8->pycaret) (1.16.0)\n",
            "Requirement already satisfied: charset-normalizer<4,>=2 in /usr/local/lib/python3.10/dist-packages (from requests>=2.27.1->pycaret) (3.2.0)\n",
            "Requirement already satisfied: idna<4,>=2.5 in /usr/local/lib/python3.10/dist-packages (from requests>=2.27.1->pycaret) (3.4)\n",
            "Requirement already satisfied: certifi>=2017.4.17 in /usr/local/lib/python3.10/dist-packages (from requests>=2.27.1->pycaret) (2023.7.22)\n",
            "Collecting deprecated>=1.2.13 (from sktime!=0.17.1,!=0.17.2,!=0.18.0,<0.22.0,>=0.16.1->pycaret)\n",
            "  Downloading Deprecated-1.2.14-py2.py3-none-any.whl (9.6 kB)\n",
            "Collecting scikit-base<0.6.0 (from sktime!=0.17.1,!=0.17.2,!=0.18.0,<0.22.0,>=0.16.1->pycaret)\n",
            "  Downloading scikit_base-0.5.1-py3-none-any.whl (118 kB)\n",
            "\u001b[2K     \u001b[90m━━━━━━━━━━━━━━━━━━━━━━━━━━━━━━━━━━━━━━━\u001b[0m \u001b[32m118.7/118.7 kB\u001b[0m \u001b[31m6.8 MB/s\u001b[0m eta \u001b[36m0:00:00\u001b[0m\n",
            "\u001b[?25hRequirement already satisfied: Flask<2.3.0,>=1.0.4 in /usr/local/lib/python3.10/dist-packages (from dash<3.0.0,>=2.11.0->plotly-resampler>=0.8.3.1->pycaret) (2.2.5)\n",
            "Collecting Werkzeug<2.3.0 (from dash<3.0.0,>=2.11.0->plotly-resampler>=0.8.3.1->pycaret)\n",
            "  Downloading Werkzeug-2.2.3-py3-none-any.whl (233 kB)\n",
            "\u001b[2K     \u001b[90m━━━━━━━━━━━━━━━━━━━━━━━━━━━━━━━━━━━━━━\u001b[0m \u001b[32m233.6/233.6 kB\u001b[0m \u001b[31m21.1 MB/s\u001b[0m eta \u001b[36m0:00:00\u001b[0m\n",
            "\u001b[?25hCollecting dash-html-components==2.0.0 (from dash<3.0.0,>=2.11.0->plotly-resampler>=0.8.3.1->pycaret)\n",
            "  Downloading dash_html_components-2.0.0-py3-none-any.whl (4.1 kB)\n",
            "Collecting dash-core-components==2.0.0 (from dash<3.0.0,>=2.11.0->plotly-resampler>=0.8.3.1->pycaret)\n",
            "  Downloading dash_core_components-2.0.0-py3-none-any.whl (3.8 kB)\n",
            "Collecting dash-table==5.0.0 (from dash<3.0.0,>=2.11.0->plotly-resampler>=0.8.3.1->pycaret)\n",
            "  Downloading dash_table-5.0.0-py3-none-any.whl (3.9 kB)\n",
            "Requirement already satisfied: typing-extensions>=4.1.1 in /usr/local/lib/python3.10/dist-packages (from dash<3.0.0,>=2.11.0->plotly-resampler>=0.8.3.1->pycaret) (4.5.0)\n",
            "Collecting retrying (from dash<3.0.0,>=2.11.0->plotly-resampler>=0.8.3.1->pycaret)\n",
            "  Downloading retrying-1.3.4-py3-none-any.whl (11 kB)\n",
            "Collecting ansi2html (from dash<3.0.0,>=2.11.0->plotly-resampler>=0.8.3.1->pycaret)\n",
            "  Downloading ansi2html-1.8.0-py3-none-any.whl (16 kB)\n",
            "Requirement already satisfied: nest-asyncio in /usr/local/lib/python3.10/dist-packages (from dash<3.0.0,>=2.11.0->plotly-resampler>=0.8.3.1->pycaret) (1.5.7)\n",
            "Requirement already satisfied: wrapt<2,>=1.10 in /usr/local/lib/python3.10/dist-packages (from deprecated>=1.2.13->sktime!=0.17.1,!=0.17.2,!=0.18.0,<0.22.0,>=0.16.1->pycaret) (1.15.0)\n",
            "Requirement already satisfied: jupyter-client in /usr/local/lib/python3.10/dist-packages (from ipykernel>=4.5.1->ipywidgets>=7.6.5->pycaret) (6.1.12)\n",
            "Requirement already satisfied: tornado>=4.2 in /usr/local/lib/python3.10/dist-packages (from ipykernel>=4.5.1->ipywidgets>=7.6.5->pycaret) (6.3.2)\n",
            "Requirement already satisfied: parso<0.9.0,>=0.8.3 in /usr/local/lib/python3.10/dist-packages (from jedi>=0.16->ipython>=5.5.0->pycaret) (0.8.3)\n",
            "Requirement already satisfied: attrs>=22.2.0 in /usr/local/lib/python3.10/dist-packages (from jsonschema>=2.6->nbformat>=4.2.0->pycaret) (23.1.0)\n",
            "Requirement already satisfied: jsonschema-specifications>=2023.03.6 in /usr/local/lib/python3.10/dist-packages (from jsonschema>=2.6->nbformat>=4.2.0->pycaret) (2023.7.1)\n",
            "Requirement already satisfied: referencing>=0.28.4 in /usr/local/lib/python3.10/dist-packages (from jsonschema>=2.6->nbformat>=4.2.0->pycaret) (0.30.2)\n",
            "Requirement already satisfied: rpds-py>=0.7.1 in /usr/local/lib/python3.10/dist-packages (from jsonschema>=2.6->nbformat>=4.2.0->pycaret) (0.10.2)\n",
            "Requirement already satisfied: ptyprocess>=0.5 in /usr/local/lib/python3.10/dist-packages (from pexpect>4.3->ipython>=5.5.0->pycaret) (0.7.0)\n",
            "Requirement already satisfied: wcwidth in /usr/local/lib/python3.10/dist-packages (from prompt-toolkit!=3.0.0,!=3.0.1,<3.1.0,>=2.0.0->ipython>=5.5.0->pycaret) (0.2.6)\n",
            "Requirement already satisfied: notebook>=4.4.1 in /usr/local/lib/python3.10/dist-packages (from widgetsnbextension~=3.6.0->ipywidgets>=7.6.5->pycaret) (6.5.5)\n",
            "Requirement already satisfied: platformdirs>=2.5 in /usr/local/lib/python3.10/dist-packages (from jupyter-core->nbformat>=4.2.0->pycaret) (3.10.0)\n",
            "Requirement already satisfied: itsdangerous>=2.0 in /usr/local/lib/python3.10/dist-packages (from Flask<2.3.0,>=1.0.4->dash<3.0.0,>=2.11.0->plotly-resampler>=0.8.3.1->pycaret) (2.1.2)\n",
            "Requirement already satisfied: click>=8.0 in /usr/local/lib/python3.10/dist-packages (from Flask<2.3.0,>=1.0.4->dash<3.0.0,>=2.11.0->plotly-resampler>=0.8.3.1->pycaret) (8.1.7)\n",
            "Requirement already satisfied: pyzmq<25,>=17 in /usr/local/lib/python3.10/dist-packages (from notebook>=4.4.1->widgetsnbextension~=3.6.0->ipywidgets>=7.6.5->pycaret) (23.2.1)\n",
            "Requirement already satisfied: argon2-cffi in /usr/local/lib/python3.10/dist-packages (from notebook>=4.4.1->widgetsnbextension~=3.6.0->ipywidgets>=7.6.5->pycaret) (23.1.0)\n",
            "Requirement already satisfied: nbconvert>=5 in /usr/local/lib/python3.10/dist-packages (from notebook>=4.4.1->widgetsnbextension~=3.6.0->ipywidgets>=7.6.5->pycaret) (6.5.4)\n",
            "Requirement already satisfied: Send2Trash>=1.8.0 in /usr/local/lib/python3.10/dist-packages (from notebook>=4.4.1->widgetsnbextension~=3.6.0->ipywidgets>=7.6.5->pycaret) (1.8.2)\n",
            "Requirement already satisfied: terminado>=0.8.3 in /usr/local/lib/python3.10/dist-packages (from notebook>=4.4.1->widgetsnbextension~=3.6.0->ipywidgets>=7.6.5->pycaret) (0.17.1)\n",
            "Requirement already satisfied: prometheus-client in /usr/local/lib/python3.10/dist-packages (from notebook>=4.4.1->widgetsnbextension~=3.6.0->ipywidgets>=7.6.5->pycaret) (0.17.1)\n",
            "Requirement already satisfied: nbclassic>=0.4.7 in /usr/local/lib/python3.10/dist-packages (from notebook>=4.4.1->widgetsnbextension~=3.6.0->ipywidgets>=7.6.5->pycaret) (1.0.0)\n",
            "Requirement already satisfied: jupyter-server>=1.8 in /usr/local/lib/python3.10/dist-packages (from nbclassic>=0.4.7->notebook>=4.4.1->widgetsnbextension~=3.6.0->ipywidgets>=7.6.5->pycaret) (1.24.0)\n",
            "Requirement already satisfied: notebook-shim>=0.2.3 in /usr/local/lib/python3.10/dist-packages (from nbclassic>=0.4.7->notebook>=4.4.1->widgetsnbextension~=3.6.0->ipywidgets>=7.6.5->pycaret) (0.2.3)\n",
            "Requirement already satisfied: lxml in /usr/local/lib/python3.10/dist-packages (from nbconvert>=5->notebook>=4.4.1->widgetsnbextension~=3.6.0->ipywidgets>=7.6.5->pycaret) (4.9.3)\n",
            "Requirement already satisfied: beautifulsoup4 in /usr/local/lib/python3.10/dist-packages (from nbconvert>=5->notebook>=4.4.1->widgetsnbextension~=3.6.0->ipywidgets>=7.6.5->pycaret) (4.11.2)\n",
            "Requirement already satisfied: bleach in /usr/local/lib/python3.10/dist-packages (from nbconvert>=5->notebook>=4.4.1->widgetsnbextension~=3.6.0->ipywidgets>=7.6.5->pycaret) (6.0.0)\n",
            "Requirement already satisfied: defusedxml in /usr/local/lib/python3.10/dist-packages (from nbconvert>=5->notebook>=4.4.1->widgetsnbextension~=3.6.0->ipywidgets>=7.6.5->pycaret) (0.7.1)\n",
            "Requirement already satisfied: entrypoints>=0.2.2 in /usr/local/lib/python3.10/dist-packages (from nbconvert>=5->notebook>=4.4.1->widgetsnbextension~=3.6.0->ipywidgets>=7.6.5->pycaret) (0.4)\n",
            "Requirement already satisfied: jupyterlab-pygments in /usr/local/lib/python3.10/dist-packages (from nbconvert>=5->notebook>=4.4.1->widgetsnbextension~=3.6.0->ipywidgets>=7.6.5->pycaret) (0.2.2)\n",
            "Requirement already satisfied: mistune<2,>=0.8.1 in /usr/local/lib/python3.10/dist-packages (from nbconvert>=5->notebook>=4.4.1->widgetsnbextension~=3.6.0->ipywidgets>=7.6.5->pycaret) (0.8.4)\n",
            "Requirement already satisfied: nbclient>=0.5.0 in /usr/local/lib/python3.10/dist-packages (from nbconvert>=5->notebook>=4.4.1->widgetsnbextension~=3.6.0->ipywidgets>=7.6.5->pycaret) (0.8.0)\n",
            "Requirement already satisfied: pandocfilters>=1.4.1 in /usr/local/lib/python3.10/dist-packages (from nbconvert>=5->notebook>=4.4.1->widgetsnbextension~=3.6.0->ipywidgets>=7.6.5->pycaret) (1.5.0)\n",
            "Requirement already satisfied: tinycss2 in /usr/local/lib/python3.10/dist-packages (from nbconvert>=5->notebook>=4.4.1->widgetsnbextension~=3.6.0->ipywidgets>=7.6.5->pycaret) (1.2.1)\n",
            "Requirement already satisfied: argon2-cffi-bindings in /usr/local/lib/python3.10/dist-packages (from argon2-cffi->notebook>=4.4.1->widgetsnbextension~=3.6.0->ipywidgets>=7.6.5->pycaret) (21.2.0)\n",
            "Requirement already satisfied: anyio<4,>=3.1.0 in /usr/local/lib/python3.10/dist-packages (from jupyter-server>=1.8->nbclassic>=0.4.7->notebook>=4.4.1->widgetsnbextension~=3.6.0->ipywidgets>=7.6.5->pycaret) (3.7.1)\n",
            "Requirement already satisfied: websocket-client in /usr/local/lib/python3.10/dist-packages (from jupyter-server>=1.8->nbclassic>=0.4.7->notebook>=4.4.1->widgetsnbextension~=3.6.0->ipywidgets>=7.6.5->pycaret) (1.6.2)\n",
            "Requirement already satisfied: cffi>=1.0.1 in /usr/local/lib/python3.10/dist-packages (from argon2-cffi-bindings->argon2-cffi->notebook>=4.4.1->widgetsnbextension~=3.6.0->ipywidgets>=7.6.5->pycaret) (1.15.1)\n",
            "Requirement already satisfied: soupsieve>1.2 in /usr/local/lib/python3.10/dist-packages (from beautifulsoup4->nbconvert>=5->notebook>=4.4.1->widgetsnbextension~=3.6.0->ipywidgets>=7.6.5->pycaret) (2.5)\n",
            "Requirement already satisfied: webencodings in /usr/local/lib/python3.10/dist-packages (from bleach->nbconvert>=5->notebook>=4.4.1->widgetsnbextension~=3.6.0->ipywidgets>=7.6.5->pycaret) (0.5.1)\n",
            "Requirement already satisfied: sniffio>=1.1 in /usr/local/lib/python3.10/dist-packages (from anyio<4,>=3.1.0->jupyter-server>=1.8->nbclassic>=0.4.7->notebook>=4.4.1->widgetsnbextension~=3.6.0->ipywidgets>=7.6.5->pycaret) (1.3.0)\n",
            "Requirement already satisfied: exceptiongroup in /usr/local/lib/python3.10/dist-packages (from anyio<4,>=3.1.0->jupyter-server>=1.8->nbclassic>=0.4.7->notebook>=4.4.1->widgetsnbextension~=3.6.0->ipywidgets>=7.6.5->pycaret) (1.1.3)\n",
            "Requirement already satisfied: pycparser in /usr/local/lib/python3.10/dist-packages (from cffi>=1.0.1->argon2-cffi-bindings->argon2-cffi->notebook>=4.4.1->widgetsnbextension~=3.6.0->ipywidgets>=7.6.5->pycaret) (2.21)\n",
            "Building wheels for collected packages: pyod\n",
            "  Building wheel for pyod (setup.py) ... \u001b[?25l\u001b[?25hdone\n",
            "  Created wheel for pyod: filename=pyod-1.1.0-py3-none-any.whl size=185329 sha256=4a8dd8a48dfb83245a0226056ce05b0b053bcae2f802b007581d4af791e15d64\n",
            "  Stored in directory: /root/.cache/pip/wheels/36/8e/e2/e932956b10b843eb6be9eefa70b5c1bee7b561be14c423b136\n",
            "Successfully built pyod\n",
            "Installing collected packages: trace-updater, kaleido, dash-table, dash-html-components, dash-core-components, xxhash, wurlitzer, Werkzeug, tsdownsample, scikit-base, schemdraw, retrying, orjson, jedi, deprecation, deprecated, ansi2html, sktime, scikit-plot, pyod, dash, pmdarima, plotly-resampler, category-encoders, tbats, pycaret\n",
            "  Attempting uninstall: Werkzeug\n",
            "    Found existing installation: Werkzeug 2.3.7\n",
            "    Uninstalling Werkzeug-2.3.7:\n",
            "      Successfully uninstalled Werkzeug-2.3.7\n",
            "Successfully installed Werkzeug-2.2.3 ansi2html-1.8.0 category-encoders-2.6.2 dash-2.13.0 dash-core-components-2.0.0 dash-html-components-2.0.0 dash-table-5.0.0 deprecated-1.2.14 deprecation-2.1.0 jedi-0.19.0 kaleido-0.2.1 orjson-3.9.7 plotly-resampler-0.9.1 pmdarima-2.0.3 pycaret-3.1.0 pyod-1.1.0 retrying-1.3.4 schemdraw-0.15 scikit-base-0.5.1 scikit-plot-0.3.7 sktime-0.21.1 tbats-1.1.3 trace-updater-0.0.9.1 tsdownsample-0.1.2 wurlitzer-3.0.3 xxhash-3.3.0\n"
          ]
        }
      ],
      "source": [
        "pip install pycaret"
      ]
    },
    {
      "cell_type": "code",
      "source": [
        "from google.colab import drive\n",
        "drive.mount('/content/drive')"
      ],
      "metadata": {
        "colab": {
          "base_uri": "https://localhost:8080/"
        },
        "id": "T-XLDZ8Pz2Gf",
        "outputId": "eadccc54-00d2-4674-d8a9-41c6adb5e910"
      },
      "execution_count": null,
      "outputs": [
        {
          "output_type": "stream",
          "name": "stdout",
          "text": [
            "Drive already mounted at /content/drive; to attempt to forcibly remount, call drive.mount(\"/content/drive\", force_remount=True).\n"
          ]
        }
      ]
    },
    {
      "cell_type": "code",
      "source": [
        "import pandas as pd\n",
        "path = \"/content/drive/MyDrive/shopping_anomaly_dataset.csv\"\n",
        "data = pd.read_csv(path)"
      ],
      "metadata": {
        "id": "EMEYKkIr02Bw"
      },
      "execution_count": null,
      "outputs": []
    },
    {
      "cell_type": "code",
      "source": [
        "from pycaret.anomaly import *\n",
        "\n",
        "anomaly = setup(data, session_id=123)"
      ],
      "metadata": {
        "colab": {
          "base_uri": "https://localhost:8080/",
          "height": 457
        },
        "id": "UYs42TF_08RQ",
        "outputId": "24f8dda2-cb7a-4154-f528-b8f028fd50fc"
      },
      "execution_count": null,
      "outputs": [
        {
          "output_type": "display_data",
          "data": {
            "text/plain": [
              "<pandas.io.formats.style.Styler at 0x7f6e9d2bf070>"
            ],
            "text/html": [
              "<style type=\"text/css\">\n",
              "#T_cb6c8_row4_col1 {\n",
              "  background-color: lightgreen;\n",
              "}\n",
              "</style>\n",
              "<table id=\"T_cb6c8\" class=\"dataframe\">\n",
              "  <thead>\n",
              "    <tr>\n",
              "      <th class=\"blank level0\" >&nbsp;</th>\n",
              "      <th id=\"T_cb6c8_level0_col0\" class=\"col_heading level0 col0\" >Description</th>\n",
              "      <th id=\"T_cb6c8_level0_col1\" class=\"col_heading level0 col1\" >Value</th>\n",
              "    </tr>\n",
              "  </thead>\n",
              "  <tbody>\n",
              "    <tr>\n",
              "      <th id=\"T_cb6c8_level0_row0\" class=\"row_heading level0 row0\" >0</th>\n",
              "      <td id=\"T_cb6c8_row0_col0\" class=\"data row0 col0\" >Session id</td>\n",
              "      <td id=\"T_cb6c8_row0_col1\" class=\"data row0 col1\" >123</td>\n",
              "    </tr>\n",
              "    <tr>\n",
              "      <th id=\"T_cb6c8_level0_row1\" class=\"row_heading level0 row1\" >1</th>\n",
              "      <td id=\"T_cb6c8_row1_col0\" class=\"data row1 col0\" >Original data shape</td>\n",
              "      <td id=\"T_cb6c8_row1_col1\" class=\"data row1 col1\" >(1000, 4)</td>\n",
              "    </tr>\n",
              "    <tr>\n",
              "      <th id=\"T_cb6c8_level0_row2\" class=\"row_heading level0 row2\" >2</th>\n",
              "      <td id=\"T_cb6c8_row2_col0\" class=\"data row2 col0\" >Transformed data shape</td>\n",
              "      <td id=\"T_cb6c8_row2_col1\" class=\"data row2 col1\" >(1000, 4)</td>\n",
              "    </tr>\n",
              "    <tr>\n",
              "      <th id=\"T_cb6c8_level0_row3\" class=\"row_heading level0 row3\" >3</th>\n",
              "      <td id=\"T_cb6c8_row3_col0\" class=\"data row3 col0\" >Numeric features</td>\n",
              "      <td id=\"T_cb6c8_row3_col1\" class=\"data row3 col1\" >4</td>\n",
              "    </tr>\n",
              "    <tr>\n",
              "      <th id=\"T_cb6c8_level0_row4\" class=\"row_heading level0 row4\" >4</th>\n",
              "      <td id=\"T_cb6c8_row4_col0\" class=\"data row4 col0\" >Preprocess</td>\n",
              "      <td id=\"T_cb6c8_row4_col1\" class=\"data row4 col1\" >True</td>\n",
              "    </tr>\n",
              "    <tr>\n",
              "      <th id=\"T_cb6c8_level0_row5\" class=\"row_heading level0 row5\" >5</th>\n",
              "      <td id=\"T_cb6c8_row5_col0\" class=\"data row5 col0\" >Imputation type</td>\n",
              "      <td id=\"T_cb6c8_row5_col1\" class=\"data row5 col1\" >simple</td>\n",
              "    </tr>\n",
              "    <tr>\n",
              "      <th id=\"T_cb6c8_level0_row6\" class=\"row_heading level0 row6\" >6</th>\n",
              "      <td id=\"T_cb6c8_row6_col0\" class=\"data row6 col0\" >Numeric imputation</td>\n",
              "      <td id=\"T_cb6c8_row6_col1\" class=\"data row6 col1\" >mean</td>\n",
              "    </tr>\n",
              "    <tr>\n",
              "      <th id=\"T_cb6c8_level0_row7\" class=\"row_heading level0 row7\" >7</th>\n",
              "      <td id=\"T_cb6c8_row7_col0\" class=\"data row7 col0\" >Categorical imputation</td>\n",
              "      <td id=\"T_cb6c8_row7_col1\" class=\"data row7 col1\" >mode</td>\n",
              "    </tr>\n",
              "    <tr>\n",
              "      <th id=\"T_cb6c8_level0_row8\" class=\"row_heading level0 row8\" >8</th>\n",
              "      <td id=\"T_cb6c8_row8_col0\" class=\"data row8 col0\" >CPU Jobs</td>\n",
              "      <td id=\"T_cb6c8_row8_col1\" class=\"data row8 col1\" >-1</td>\n",
              "    </tr>\n",
              "    <tr>\n",
              "      <th id=\"T_cb6c8_level0_row9\" class=\"row_heading level0 row9\" >9</th>\n",
              "      <td id=\"T_cb6c8_row9_col0\" class=\"data row9 col0\" >Use GPU</td>\n",
              "      <td id=\"T_cb6c8_row9_col1\" class=\"data row9 col1\" >False</td>\n",
              "    </tr>\n",
              "    <tr>\n",
              "      <th id=\"T_cb6c8_level0_row10\" class=\"row_heading level0 row10\" >10</th>\n",
              "      <td id=\"T_cb6c8_row10_col0\" class=\"data row10 col0\" >Log Experiment</td>\n",
              "      <td id=\"T_cb6c8_row10_col1\" class=\"data row10 col1\" >False</td>\n",
              "    </tr>\n",
              "    <tr>\n",
              "      <th id=\"T_cb6c8_level0_row11\" class=\"row_heading level0 row11\" >11</th>\n",
              "      <td id=\"T_cb6c8_row11_col0\" class=\"data row11 col0\" >Experiment Name</td>\n",
              "      <td id=\"T_cb6c8_row11_col1\" class=\"data row11 col1\" >anomaly-default-name</td>\n",
              "    </tr>\n",
              "    <tr>\n",
              "      <th id=\"T_cb6c8_level0_row12\" class=\"row_heading level0 row12\" >12</th>\n",
              "      <td id=\"T_cb6c8_row12_col0\" class=\"data row12 col0\" >USI</td>\n",
              "      <td id=\"T_cb6c8_row12_col1\" class=\"data row12 col1\" >0197</td>\n",
              "    </tr>\n",
              "  </tbody>\n",
              "</table>\n"
            ]
          },
          "metadata": {}
        }
      ]
    },
    {
      "cell_type": "code",
      "source": [
        "iforest = create_model('iforest')"
      ],
      "metadata": {
        "colab": {
          "base_uri": "https://localhost:8080/",
          "height": 17,
          "referenced_widgets": [
            "96623709ce6d44b3aa5d4a41b3b68ea3",
            "5232f175dfe64ecea68743f8590af435",
            "007a17fe67c14fb88da757c0546c7239",
            "e24dbb3a5c1e421c951b12dbab78fc2a",
            "d43511fee0b14878a66534553acc73ca",
            "ed8641fd86ca446eba36850092318baa",
            "2efe39abf85643758961b7cc38cbf9cc",
            "741f4c3f245a4d5ebcf63cb8c9eebd9d",
            "4140299e56b94e00ac33b7d60bba4bf4",
            "feb88d1910244e6d91e6e99aa862751f",
            "796409b34e7c477ea5396a61cdf5a4de"
          ]
        },
        "id": "gyshH-Ky2TJ4",
        "outputId": "e5f368ca-4f92-4a1e-bbf9-e2c5e48932e9"
      },
      "execution_count": null,
      "outputs": [
        {
          "output_type": "display_data",
          "data": {
            "text/plain": [
              "<IPython.core.display.HTML object>"
            ],
            "text/html": []
          },
          "metadata": {}
        },
        {
          "output_type": "display_data",
          "data": {
            "text/plain": [
              "<IPython.core.display.HTML object>"
            ],
            "text/html": []
          },
          "metadata": {}
        },
        {
          "output_type": "display_data",
          "data": {
            "text/plain": [
              "Processing:   0%|          | 0/3 [00:00<?, ?it/s]"
            ],
            "application/vnd.jupyter.widget-view+json": {
              "version_major": 2,
              "version_minor": 0,
              "model_id": "96623709ce6d44b3aa5d4a41b3b68ea3"
            }
          },
          "metadata": {
            "application/vnd.jupyter.widget-view+json": {
              "colab": {
                "custom_widget_manager": {
                  "url": "https://ssl.gstatic.com/colaboratory-static/widgets/colab-cdn-widget-manager/b3e629b1971e1542/manager.min.js"
                }
              }
            }
          }
        },
        {
          "output_type": "display_data",
          "data": {
            "text/plain": [
              "<IPython.core.display.HTML object>"
            ],
            "text/html": []
          },
          "metadata": {}
        }
      ]
    },
    {
      "cell_type": "code",
      "source": [
        "iforest_results = assign_model(iforest)"
      ],
      "metadata": {
        "id": "ZYf2W6zT2YlU"
      },
      "execution_count": null,
      "outputs": []
    },
    {
      "cell_type": "code",
      "source": [
        "print(iforest_results.head())"
      ],
      "metadata": {
        "colab": {
          "base_uri": "https://localhost:8080/"
        },
        "id": "2xG4IgSh2bmY",
        "outputId": "ee33ad7f-8feb-4f93-f753-a700becbc2fc"
      },
      "execution_count": null,
      "outputs": [
        {
          "output_type": "stream",
          "name": "stdout",
          "text": [
            "   Age  Income  Average_Spending  Number_of_Visits  Anomaly  Anomaly_Score\n",
            "0   57    2171        301.814636                 6        0      -0.083597\n",
            "1   27    6788        183.001221                 3        0      -0.090250\n",
            "2   25    7991         92.143852                 4        0      -0.079409\n",
            "3   61    7904        244.986862                 0        0      -0.039129\n",
            "4   45    7319        476.142975                 0        0      -0.035356\n"
          ]
        }
      ]
    },
    {
      "cell_type": "code",
      "source": [
        "plot_model(iforest)"
      ],
      "metadata": {
        "colab": {
          "base_uri": "https://localhost:8080/",
          "height": 837
        },
        "id": "8SnVXKiv2epH",
        "outputId": "bc92f531-dbbb-4d92-d9e9-4b38a8821445"
      },
      "execution_count": null,
      "outputs": [
        {
          "output_type": "display_data",
          "data": {
            "text/plain": [
              "<IPython.core.display.HTML object>"
            ],
            "text/html": []
          },
          "metadata": {}
        },
        {
          "output_type": "display_data",
          "data": {
            "text/html": [
              "<html>\n",
              "<head><meta charset=\"utf-8\" /></head>\n",
              "<body>\n",
              "    <div>            <script src=\"https://cdnjs.cloudflare.com/ajax/libs/mathjax/2.7.5/MathJax.js?config=TeX-AMS-MML_SVG\"></script><script type=\"text/javascript\">if (window.MathJax && window.MathJax.Hub && window.MathJax.Hub.Config) {window.MathJax.Hub.Config({SVG: {font: \"STIX-Web\"}});}</script>                <script type=\"text/javascript\">window.PlotlyConfig = {MathJaxConfig: 'local'};</script>\n",
              "        <script charset=\"utf-8\" src=\"https://cdn.plot.ly/plotly-2.24.1.min.js\"></script>                <div id=\"4ecf9753-e1a2-41fb-ae79-6490560aba62\" class=\"plotly-graph-div\" style=\"height:800px; width:900px;\"></div>            <script type=\"text/javascript\">                                    window.PLOTLYENV=window.PLOTLYENV || {};                                    if (document.getElementById(\"4ecf9753-e1a2-41fb-ae79-6490560aba62\")) {                    Plotly.newPlot(                        \"4ecf9753-e1a2-41fb-ae79-6490560aba62\",                        [{\"customdata\":[[57],[27],[25],[61],[45],[28],[43],[32],[28],[44],[59],[69],[36],[41],[34],[47],[48],[55],[49],[39],[24],[46],[66],[33],[39],[66],[46],[49],[68],[56],[47],[19],[56],[40],[21],[33],[32],[49],[19],[38],[39],[34],[67],[25],[63],[31],[31],[39],[31],[68],[22],[32],[51],[55],[26],[41],[31],[59],[23],[23],[47],[18],[62],[39],[40],[61],[36],[42],[63],[58],[64],[56],[20],[41],[31],[25],[49],[67],[20],[41],[13],[25],[24],[30],[42],[47],[28],[48],[41],[66],[52],[28],[36],[21],[34],[19],[18],[51],[26],[63],[13],[25],[46],[31],[29],[41],[55],[68],[21],[25],[22],[61],[63],[62],[29],[24],[51],[31],[11],[63],[39],[56],[44],[21],[49],[51],[30],[43],[69],[51],[38],[21],[59],[62],[60],[50],[44],[51],[54],[22],[34],[58],[58],[51],[63],[63],[33],[22],[46],[39],[69],[55],[46],[25],[44],[47],[19],[39],[18],[47],[48],[26],[53],[54],[48],[40],[50],[67],[44],[42],[40],[69],[36],[41],[25],[50],[40],[48],[20],[69],[19],[30],[43],[44],[22],[34],[26],[22],[27],[43],[26],[58],[69],[56],[39],[24],[32],[33],[25],[29],[22],[23],[25],[34],[58],[37],[48],[34],[38],[51],[50],[65],[22],[57],[47],[42],[35],[48],[64],[18],[61],[65],[66],[44],[16],[18],[33],[34],[26],[55],[25],[33],[67],[44],[39],[43],[16],[45],[30],[19],[60],[56],[39],[46],[25],[62],[51],[35],[28],[67],[20],[22],[24],[50],[59],[33],[54],[55],[26],[36],[32],[47],[25],[18],[62],[56],[18],[60],[39],[30],[69],[50],[57],[42],[52],[43],[59],[19],[50],[57],[40],[59],[30],[60],[54],[33],[61],[61],[68],[20],[63],[59],[58],[59],[31],[28],[51],[34],[61],[44],[69],[66],[46],[27],[49],[20],[46],[31],[63],[65],[48],[21],[19],[67],[36],[44],[47],[66],[14],[62],[61],[28],[52],[34],[26],[29],[21],[28],[36],[65],[51],[19],[41],[68],[39],[58],[32],[45],[27],[49],[64],[15],[59],[33],[27],[57],[61],[62],[55],[21],[58],[56],[64],[24],[22],[68],[66],[23],[34],[66],[11],[55],[48],[23],[30],[44],[37],[66],[48],[25],[51],[40],[32],[68],[32],[27],[64],[61],[22],[66],[29],[27],[20],[44],[29],[39],[54],[66],[22],[65],[65],[50],[68],[55],[64],[47],[32],[21],[40],[43],[37],[21],[33],[62],[57],[25],[19],[26],[67],[21],[41],[34],[28],[33],[57],[50],[21],[66],[22],[26],[62],[24],[34],[30],[53],[62],[35],[52],[46],[40],[35],[49],[12],[53],[55],[18],[38],[11],[27],[62],[65],[39],[21],[59],[65],[50],[50],[13],[34],[64],[27],[44],[60],[50],[53],[35],[47],[53],[69],[69],[39],[25],[25],[13],[12],[30],[43],[22],[46],[35],[39],[18],[43],[51],[42],[27],[42],[34],[32],[34],[65],[60],[48],[33],[29],[61],[29],[35],[55],[49],[49],[29],[46],[24],[56],[32],[37],[48],[58],[56],[51],[59],[42],[57],[39],[22],[30],[36],[15],[24],[63],[54],[54],[66],[38],[32],[31],[53],[22],[20],[25],[69],[59],[39],[43],[68],[55],[62],[33],[66],[30],[69],[61],[37],[55],[48],[49],[23],[66],[27],[63],[26],[35],[37],[50],[34],[24],[29],[68],[20],[22],[50],[54],[43],[64],[47],[48],[59],[62],[38],[41],[20],[28],[42],[48],[54],[68],[43],[66],[65],[41],[27],[24],[20],[45],[29],[19],[28],[46],[55],[53],[43],[45],[37],[23],[54],[66],[65],[56],[23],[19],[41],[19],[40],[51],[26],[64],[43],[38],[34],[36],[43],[31],[54],[29],[67],[66],[39],[61],[42],[18],[64],[52],[59],[65],[42],[59],[62],[57],[58],[32],[46],[23],[57],[54],[24],[52],[69],[57],[20],[56],[16],[60],[32],[63],[58],[56],[27],[36],[31],[29],[43],[63],[37],[33],[28],[57],[45],[11],[44],[38],[24],[65],[41],[52],[25],[36],[65],[20],[67],[52],[55],[48],[62],[34],[61],[31],[15],[67],[26],[18],[21],[33],[27],[45],[45],[44],[22],[27],[21],[29],[57],[54],[27],[65],[40],[49],[53],[20],[49],[34],[67],[64],[40],[66],[65],[34],[20],[46],[35],[21],[66],[29],[57],[65],[53],[51],[24],[31],[19],[24],[48],[50],[48],[31],[47],[27],[40],[42],[62],[54],[11],[65],[65],[50],[20],[29],[46],[63],[19],[18],[59],[66],[15],[31],[19],[51],[66],[22],[48],[35],[23],[36],[46],[40],[54],[48],[68],[50],[19],[23],[25],[19],[42],[19],[32],[50],[47],[64],[59],[39],[55],[41],[28],[46],[40],[60],[18],[52],[61],[69],[63],[39],[44],[34],[26],[29],[32],[18],[38],[31],[42],[62],[47],[51],[61],[67],[25],[25],[57],[63],[30],[39],[24],[16],[23],[44],[64],[32],[63],[42],[26],[65],[62],[39],[33],[60],[30],[32],[25],[35],[50],[66],[27],[19],[65],[11],[30],[31],[36],[26],[56],[56],[19],[47],[45],[49],[38],[58],[35],[31],[42],[36],[58],[66],[43],[68],[24],[35],[59],[58],[12],[35],[41],[41],[23],[25],[33],[18],[52],[68],[60],[34],[63],[21],[29],[35],[46],[41],[38],[45],[67],[31],[67],[50],[19],[50],[65],[47],[21],[29],[46],[39],[20],[44],[31],[68],[26],[37],[30],[36],[67],[54],[21],[14],[55],[40],[52],[36],[46],[40],[67],[54],[52],[45],[43],[47],[58],[52],[60],[58],[55],[61],[35],[64],[22],[30],[47],[45],[43],[31],[24],[52],[68],[30],[47],[48],[24],[42],[68],[55],[19],[36],[61],[33],[46],[60],[68],[29],[43],[24],[52],[44],[25],[31],[26],[42],[17],[63],[41],[53],[18],[26],[41],[42],[45],[25],[53],[22],[51],[63],[65],[44],[30],[35],[20],[56],[45],[51],[65],[52],[11],[40],[32],[58],[65],[25],[68],[41],[20],[59],[55],[19],[59],[38],[53],[18],[22],[22],[62],[23],[56],[37],[55],[56],[55],[28],[54],[26],[49],[18],[33],[56],[40],[33],[18],[55],[18],[59],[33]],\"hovertemplate\":\"0=%{x}\\u003cbr\\u003e1=%{y}\\u003cbr\\u003e2=%{z}\\u003cbr\\u003eFeature=%{customdata[0]}\\u003cbr\\u003eAnomaly=%{marker.color}\\u003cextra\\u003e\\u003c\\u002fextra\\u003e\",\"legendgroup\":\"\",\"marker\":{\"color\":[0,0,0,0,0,0,0,0,0,0,0,0,0,0,0,0,0,0,0,0,0,0,0,0,0,0,0,0,0,0,0,0,0,0,0,0,0,0,0,0,0,0,0,0,0,0,0,0,0,0,0,0,0,0,0,0,0,0,0,0,0,0,0,0,1,0,0,0,0,0,0,0,0,0,0,0,0,0,0,0,1,0,0,0,0,0,0,0,0,1,0,0,0,0,0,0,0,0,0,0,1,0,0,0,0,0,0,0,0,0,0,0,0,0,0,0,0,0,1,0,0,0,0,0,0,0,0,0,0,0,0,0,0,0,0,0,0,0,0,0,0,0,0,0,0,0,0,0,0,0,0,0,0,0,0,0,0,0,1,0,0,0,0,0,0,0,0,0,0,0,0,0,0,0,0,1,0,0,0,0,0,0,0,0,0,0,0,0,0,0,0,0,0,0,0,0,0,0,0,0,0,0,0,0,0,0,0,0,0,0,0,0,0,0,0,0,0,0,0,1,0,0,0,0,0,0,0,0,0,0,0,0,0,0,0,0,0,0,0,0,0,0,0,0,0,0,0,0,0,1,0,0,0,0,0,0,0,0,0,0,0,0,0,0,0,0,0,0,0,0,0,0,0,0,0,0,0,0,0,0,0,0,0,0,0,0,0,0,0,0,0,0,0,0,0,0,0,0,0,0,0,0,0,0,0,1,0,1,0,0,0,0,1,0,0,0,0,0,1,0,0,0,0,0,0,1,0,0,0,0,0,0,0,1,0,0,0,0,0,0,1,1,0,0,0,0,0,0,0,0,1,0,0,0,0,0,0,0,0,0,1,0,0,0,0,0,0,0,0,0,0,0,0,0,0,0,0,0,0,0,0,0,0,0,0,0,0,0,0,0,0,0,1,0,0,0,0,0,0,0,0,0,0,0,1,0,0,0,0,0,0,0,0,0,0,0,0,0,0,0,0,0,0,0,0,0,0,0,0,0,0,0,1,0,0,0,0,1,0,0,0,0,0,0,0,0,0,1,0,0,0,0,0,0,0,0,0,0,0,0,0,0,0,0,1,0,0,0,0,0,0,1,0,0,0,0,0,0,1,0,0,0,0,0,0,0,0,0,0,0,0,0,0,0,0,0,0,0,0,0,0,0,0,0,0,0,0,0,0,0,1,0,0,0,0,0,1,0,0,0,0,0,0,0,0,1,0,0,0,1,0,0,0,0,0,0,0,0,0,0,0,0,0,0,0,0,0,0,0,0,0,0,0,0,0,0,0,0,0,0,0,1,0,0,0,0,0,0,0,0,0,0,0,1,0,0,0,0,0,0,0,0,0,0,0,0,0,0,0,0,1,0,0,0,0,0,0,0,0,0,0,0,0,0,0,0,0,0,0,0,0,0,0,0,0,0,0,0,0,0,0,0,0,0,0,0,0,0,0,0,0,0,0,0,0,0,0,0,0,0,0,0,0,0,0,0,0,0,1,0,0,0,0,0,0,0,0,0,0,0,0,0,0,0,0,0,0,0,0,0,1,0,0,0,0,0,0,0,0,0,0,0,0,0,1,0,0,0,0,0,0,0,1,0,0,0,0,0,0,0,0,0,0,0,0,0,0,0,0,0,0,0,0,0,0,1,0,0,0,0,0,0,0,0,0,0,0,0,0,0,0,0,0,0,0,0,0,0,0,0,0,0,0,0,0,0,0,0,0,0,0,0,0,0,0,0,0,0,0,0,0,0,0,0,0,0,0,0,0,0,0,0,0,0,0,0,0,0,0,0,0,0,0,0,0,0,0,0,0,0,0,0,0,0,0,0,0,1,0,0,0,0,0,0,0,0,0,0,0,0,0,0,0,0,0,0,1,0,0,0,0,0,0,0,0,0,0,0,0,0,0,0,0,0,0,0,1,0,0,0,0,1,0,0,0,0,0,0,0,0,0,0,0,0,0,0,0,0,0,0,0,1,0,0,0,0,0,0,0,0,0,0,0,0,0,0,1,0,0,0,0,0,0,0,1,0,0,0,0,0,0,0,0,0,0,0,0,0,0,0,0,0,0,0,0,0,0,0,0,0,0,0,0,0,0,0,0,0,0,0,0,0,0,0,0,0,0,0,0,0,0,0,0,0,0,1,0,0,0,0,0,0,0,0,0,0,0,0,1,0,0,0,0,0,0,0,0,0,0,0,0,1,0,0,0,0,0,0,0,0,0,0,0,0,0,0,0,1,0,0,0,0,0,0,0,0,0,0,0,0,0,0,0,0,0,0,0,0,0,0],\"coloraxis\":\"coloraxis\",\"opacity\":0.7,\"symbol\":\"circle\"},\"mode\":\"markers\",\"name\":\"\",\"scene\":\"scene\",\"showlegend\":false,\"x\":[11.252315,-5.071379,-7.3490496,-7.7856197,-5.8183594,14.654591,2.5313277,1.7503254,-5.3432574,-12.583658,11.578677,-5.9655952,11.003268,-13.328038,4.688012,-15.940378,-14.491705,16.215782,3.5141618,13.297215,-0.42874438,6.2195673,-0.1312173,-5.721301,-0.6610796,4.326121,-5.9132547,5.8194556,2.112378,-0.77888936,-8.972316,5.274274,7.830833,-8.563388,4.727338,-9.111664,3.194366,-5.766987,2.6120565,9.756288,-12.367514,-5.946093,-17.031738,5.667208,-14.606408,-5.7491493,1.9111636,14.604941,-1.3051857,-6.2109423,16.039219,-17.237614,0.4136069,18.006578,-5.5371037,-14.165495,-8.451888,-5.1866603,2.243432,5.3246665,-2.1209216,2.5942001,-0.55800587,4.189456,-18.896976,8.662261,-5.240332,3.6312335,-0.4430057,2.9024591,-4.5539484,-8.986059,6.1331,-3.3648963,9.486064,-15.214901,-6.204951,-18.228224,3.894073,-19.110771,-11.854029,4.7197833,-11.527243,0.25953788,-0.49197516,7.722102,-0.19051342,-11.852337,2.8287334,-19.176542,6.400589,-16.081663,0.11559557,12.995054,13.290568,-17.552769,2.9599175,-1.7287941,-18.804323,11.5306225,-15.507274,11.602273,-15.470441,-0.9423186,1.1317844,-12.810895,-4.187348,14.394148,7.4433885,12.395649,8.695602,13.0063715,14.380186,-4.7225494,-18.466389,-6.3945756,11.556385,-5.784494,-15.133871,-10.199839,-16.058018,-5.135955,-17.583452,0.6528087,11.60141,-1.7174727,-5.9277906,-14.314985,-1.0841569,17.540113,7.9346848,-0.14960928,-6.6764317,-5.903587,0.4349951,11.336807,-12.903493,14.166953,2.1009831,-8.757304,1.5302995,-0.8783158,-6.206457,18.50871,10.566018,-6.1739974,4.0015097,1.1867328,2.2738957,-9.969194,-4.8578067,-15.166693,-8.610434,0.044502497,14.605665,0.6853928,-5.7401376,16.785337,-17.858175,1.0844765,-11.148224,2.7212312,-5.8994155,-3.6810331,-7.1751556,18.798681,9.509412,-8.27919,10.60926,-17.801699,-15.615091,0.84266216,-7.583786,2.2972357,0.21669641,12.405323,0.26890782,-6.0550485,-5.680086,1.6404039,-0.20166463,18.06636,3.7425687,8.77636,-14.839266,-11.708611,17.56275,8.3184,-2.6993117,17.136873,-5.2150774,6.4896054,-5.0852885,5.280197,15.476943,-8.545446,3.6307006,8.751972,5.9540687,-6.123859,0.63394725,-1.4124544,-18.860785,9.875667,-6.055547,13.554816,16.78585,-18.863977,-6.578587,-0.88084203,0.15062328,-1.4001662,10.507676,4.6043797,10.676113,13.242661,17.511618,-17.559847,16.467443,-18.63644,-8.230993,-5.640822,6.9862437,-17.449104,-11.548332,-14.444916,2.104086,3.8961663,2.6735542,2.2392447,3.0792265,11.180969,-1.4520687,0.20347022,9.328313,-4.425396,-14.217488,0.23530947,3.7345212,8.108802,14.050283,0.21507609,8.654771,1.0169096,2.6798356,-5.9701285,-19.095697,-10.250314,12.953051,-13.199687,2.6194875,-4.5855584,0.19647579,2.1377413,0.3077631,-2.5283873,-0.5686763,-5.140318,-0.67983675,-14.118596,4.8453255,2.3624773,-17.329302,13.928179,1.0775205,14.0099325,2.3273466,-14.98757,-7.0132284,4.206648,0.39323068,10.406379,-0.023224235,-14.196173,-1.0881492,2.93203,7.725024,13.895963,-8.801792,-10.575923,9.528106,12.213021,10.447222,-6.0266223,8.180728,-0.72434026,-2.2409801,-18.917673,-10.269934,5.7965646,3.4140923,-18.38838,-7.5745845,-4.589667,-11.821498,-8.618812,9.544537,-12.905894,-8.471556,-4.989465,1.4943994,-5.9109044,-1.1096306,13.781662,-1.62016,-18.566547,4.211491,-18.751108,14.852593,11.9821615,16.563545,-6.019591,16.444056,9.993158,-5.7793636,-11.312129,-17.335512,-1.6741617,-12.620404,-18.689451,5.0216613,9.999369,-5.3511887,0.29440674,15.867672,-15.449158,-3.588211,-18.445456,1.8514069,-0.70864815,2.7497766,5.390385,3.3504422,10.968824,5.4463615,-5.795914,-5.0944495,-5.910204,-12.573319,-5.039939,11.489744,-8.75467,-11.001577,-4.6761785,-0.41094068,0.5905564,-1.840809,14.624313,-6.018889,-16.82363,-16.41643,-13.217362,8.698782,15.155028,7.914984,2.9306931,-6.203649,-15.522865,-5.215686,-1.7959688,-12.318307,-2.1030684,-15.450477,3.9633572,0.85364133,16.068087,2.3751445,-10.860255,2.980102,-5.2931833,2.7328172,9.371628,-2.9005053,-5.5084724,2.7319736,9.153153,-4.0648518,-16.68808,7.9726095,-0.7767667,-4.796851,5.2772636,-17.334513,14.91124,14.833293,-18.627855,4.093926,1.2168752,-16.926222,0.7352257,-6.8452983,16.044266,9.952342,1.4754674,-17.276081,-3.0918171,-6.1480107,7.809752,-15.911034,2.410864,15.664996,10.611309,-18.334866,-3.0733225,-16.9288,-5.1941757,1.135534,-5.8888984,4.1608796,8.629203,-6.012059,6.4692135,-10.738737,1.0258983,9.639814,0.41320738,2.350266,3.8695214,10.041999,9.889646,14.431543,11.751148,-17.320526,-12.653214,-11.505765,5.5674596,3.8412745,-14.855273,-14.71678,-1.5234523,2.7415102,1.8226454,-13.499578,-16.930683,3.0289357,-2.0555072,15.867716,-14.69512,-8.397008,-11.365358,13.425246,-8.367534,5.6378403,5.33992,3.634587,-0.89690906,13.868289,-16.868269,-6.12732,16.61271,-6.3431973,-0.5328238,1.1649772,6.4701986,-1.956764,-4.963372,2.4096346,-4.992626,0.34839243,3.1187167,-1.3353351,0.58533597,6.571186,-15.459133,-9.305894,0.5058071,6.188591,0.4564773,5.779526,-7.7958164,-4.913319,18.541624,-5.242383,7.8854117,-18.666895,7.121389,4.123588,8.196223,-14.878177,-1.41303,7.960503,16.770382,1.3225513,-6.1102114,16.367697,5.0330577,-3.7955637,-15.498448,-9.583617,3.7316525,-13.191892,0.7122994,-15.253737,-0.64044267,-6.374752,-14.47657,12.359348,-13.398594,4.5845304,6.75359,-14.728296,12.576178,-4.0418634,-8.552492,-5.7799826,6.549608,4.1779284,2.1915762,-8.633062,-9.237041,7.201109,5.5541487,1.5509534,-6.0418057,13.966933,9.338393,18.794853,-13.098186,1.841605,-1.1839235,7.8773937,2.7465785,-0.32670823,-11.8784075,-5.6265016,-19.11753,-15.232061,6.197661,-2.8868115,2.6088395,7.659153,-10.4983835,3.8398602,7.9700313,-10.396534,6.802325,7.917943,11.608808,9.471079,-11.295096,-5.871601,-0.95331573,3.4584694,2.9137416,-15.38599,-17.539934,-5.9164133,-0.5209244,-0.36623967,-1.3211172,-18.84199,-1.3835589,17.957064,6.2286654,-16.748089,9.3558445,15.215211,-6.009538,-6.171871,2.4885345,3.9940326,17.135445,-17.357832,9.762828,-3.3645508,15.941218,-9.433757,16.587875,7.759018,5.6905994,2.7509012,2.5611968,-8.902095,12.446353,-18.717703,-11.867149,11.265537,7.186711,-6.3692594,-16.88622,-2.224838,-0.8912985,8.097735,1.7280476,-5.470182,13.866855,-6.0562077,5.5239367,8.32229,-1.1249136,17.678753,-17.422121,-16.616732,0.34418145,-8.200897,-0.4121759,15.577291,3.5567913,18.188585,8.220102,-14.641524,4.5065136,10.360539,7.1101093,9.439591,-18.292805,2.0567381,7.421277,-5.497601,10.78406,-5.942639,-13.296181,9.493765,13.874305,-14.903676,11.996457,18.80062,3.3064206,-10.053843,-0.706996,-11.431745,2.657271,-8.356782,-0.17118125,-10.316371,0.40165204,1.7012459,-7.87978,-12.011955,16.84422,15.486393,-10.956205,2.998452,3.1077607,2.0148578,-1.2945032,12.103029,-0.5992224,14.350823,0.747183,-18.238598,-2.4045024,-4.6842475,-5.801567,8.323538,-6.8095307,9.345056,5.6684422,-9.890528,-6.2313266,2.3300886,8.290892,3.617448,-12.203976,1.2601823,0.9498641,-9.809065,0.085825324,-12.68675,-7.3266025,9.062632,3.1591372,-0.5493866,9.650712,12.678654,-18.335148,5.552461,-9.519508,-12.23137,4.3853855,-10.432409,0.9111399,-17.112925,0.58673525,17.404997,14.625484,1.3948668,11.48078,18.32065,8.993912,11.970766,2.8477736,16.691784,-5.789814,-14.658116,-0.48057154,-17.950655,2.7699425,0.47152528,3.772401,0.5420151,-2.3671868,-15.031233,2.5556133,12.116297,10.994194,-5.9625244,-1.6133603,-10.00484,10.742337,10.498951,-17.440657,14.1469965,-14.740137,3.7670982,0.8545576,8.29395,-0.6406086,-0.051181484,-1.5739518,-0.6873322,15.049654,-16.956787,2.3268268,9.280469,-19.255558,-7.810228,-1.2941047,7.52635,-6.3576827,-15.955398,-13.9772835,0.6491118,1.1192383,5.7017007,11.708938,-8.145155,-9.274912,8.935941,2.7226202,-18.243498,-0.116270125,14.981917,-15.728622,5.3606334,-4.171564,17.02486,-5.7507334,-1.339441,-12.14609,11.768269,16.918972,-0.9388085,3.0013425,3.0146987,2.615446,-10.360739,-4.636447,-14.8886795,-7.728151,2.3796372,-8.088995,6.08487,-12.4068,-2.5430887,9.8388815,9.894431,-6.186534,-0.67410994,-6.016295,-17.334488,0.7435112,7.351045,6.4044366,14.26578,-4.386225,-9.842863,1.4504656,-9.30991,9.94134,3.778724,18.226461,4.141584,12.9284,-8.663005,15.957573,5.991231,-0.4221349,-1.7406403,1.7592254,-1.1596345,4.148173,-16.283598,-14.565482,-5.570965,-16.837275,-2.7858956,-5.4323106,-13.752101,-0.7597399,10.356246,18.001192,-5.568519,3.4020214,-9.082372,-17.609303,-1.0185539,16.703413,-1.396919,-15.730114,3.729364,-5.655055,5.236277,-17.680634,11.334136,6.5188665,-18.729225,12.206647,-16.498661,4.8060136,-1.1333756,2.7953308,7.9200335,4.876679,-14.833463,2.647344,-16.427464,-14.82526,-15.379374,-0.2450268,0.90221834,-8.57454,-12.911437,16.537348,-2.5793526,-7.141227,13.30351,-18.504662,9.367361,18.446321,-5.531899,11.697988,-6.053786,-12.64879,-5.437278,-14.953849,3.7586675,2.299985,11.5622015,5.225672,-6.9694967,-13.232235,-1.3776053,16.629955,3.2532308,-5.991715,14.620511,5.896438,2.1196492,2.1107385,0.94183886,-19.083963,-14.1741705,3.019536,-12.242895,-0.0306412,0.14493342,-7.59831,5.958326,-0.34103566,-10.74685,-5.457306,-6.117008,-3.5404646,13.094445,12.148676,5.2826867,6.984972,-0.43861654,6.3534484,-0.98878986,4.451846,1.7242117,-17.862398,-17.184439,-1.678584,-4.874565,3.2765281,-0.2705814,-9.345297,2.7822323,-15.157884,-4.5628605,-16.913776,-16.940248,12.0533905,-17.93236,8.076778,-5.984116,7.194166,8.6380625,-18.362186,8.626922,11.9858885,8.479153,11.478046,-5.65829,-4.991793,-0.42810062,3.1444387,12.314511,18.162012,2.0163388,-2.3412645,-16.419453,14.61159,-5.8425574,-9.45949,-2.5031583,-17.225828,-6.728854,4.9394617,11.385805,-1.3548125,14.466729,-1.4500153,-12.242484,-4.3871245,2.719815,4.490675,-8.542961,3.8192313,-17.791012,-2.496088,-12.126009,1.7726679,11.420309,-6.0339556,6.196567,-2.303584,5.1063194,1.8702861,-9.839344,-8.190174,-0.68428075,-16.69953,11.904089,-8.881217,-0.50395703,1.0818535,5.9412084,7.965247,4.5916376,8.38862,12.045996,12.765689,15.42482,-17.461264,15.367024,8.522956,14.316683,2.8654468,-6.9047704,7.2504215,5.396881,-5.388946,-18.540966,4.97808,6.242986,1.8409336,-5.8146443,-14.549806,-2.4304564,-3.195679,-14.653592,11.441588,-17.403957,7.081539,1.0097239,11.9628105,9.413185,-5.316289,-17.375233,-11.309896,-0.32607478,-5.8567,7.948424,13.7999,2.4389606,-15.017406,-6.8000464,3.800304,6.1602025,9.785552,1.6324183,-12.549387,-1.6306725,-5.862551,8.313836,7.256716,12.363319,0.1739345,-18.043245,-8.577763,5.508823,15.640673,-11.280831,-8.319465,-6.623639,-0.09734266],\"y\":[1.8628916,5.311925,-5.4976482,-6.032938,-0.5051088,5.2340117,-3.4604325,-5.2244363,6.4801626,-3.3533735,3.6674056,-0.65209556,3.1749344,-6.617453,-8.900139,3.6696274,-1.4328338,5.9616556,-7.174846,5.03505,7.4169784,-9.302598,7.026756,-0.17986831,6.8425403,-9.316665,2.5505004,-5.8877244,-2.8996801,5.8184757,-5.8146734,-6.732787,-9.030123,-6.5714903,-8.578165,-6.0690923,-2.8993878,-2.6724067,-7.526484,-3.9400105,-7.053511,-2.4020054,-1.0765233,-9.404054,-4.4226875,0.96473855,-4.8163576,5.2515492,7.9883847,-2.7102184,6.048069,-0.8730221,5.158395,5.663215,5.451464,-1.1404756,-5.6990232,7.3620973,-5.173426,-7.5320725,8.936262,-7.5568395,7.372353,-7.962449,5.217561,-1.9951884,4.845381,-2.1599553,7.3299446,-7.394556,3.3567185,-6.188029,-9.261023,8.940641,-5.132602,2.2874064,-1.5436528,0.75310034,-3.325008,3.6163483,-3.4798286,-8.701869,-6.6299906,2.4862604,1.3243839,-2.0611668,1.3670956,-6.7274017,-1.4572841,3.6105185,-8.672388,2.853111,7.3287144,4.603439,4.782815,5.9328747,-4.088849,7.155937,1.5228324,3.3140504,3.8188896,3.7781515,3.0361478,6.2360363,6.5657372,-2.8561404,7.218835,5.656746,-7.7441044,2.3120406,-7.4490876,4.848116,5.6074014,3.2746563,4.825005,-4.475641,0.20293264,0.07570929,2.8511353,-4.908142,-2.7853746,6.6412644,3.432317,-2.2200832,0.7353791,8.8039465,-3.6056032,-0.49957243,4.2507725,5.142729,-1.361136,-1.1347001,-4.8599157,-2.7786772,2.976574,3.5807595,-3.8083844,5.5382633,-7.5020003,-6.461392,6.3145676,8.20424,-1.6965895,5.9299045,-2.9868069,-1.6104642,-9.127634,0.40488586,-7.4768577,-7.1656036,7.659125,-4.265512,-5.9792967,0.21075028,5.367277,7.9364996,3.3044608,6.2680335,-0.90157115,6.55452,-4.9378743,-5.363746,3.2110891,8.772098,-5.317085,5.769097,-1.4494206,-6.224556,-2.3312373,1.336105,3.5164664,7.8437867,-4.584847,-7.436798,-1.5520937,4.2359285,-2.1709745,0.726131,2.1145706,0.9478579,7.1563773,5.5990596,-8.981816,-8.027544,-3.8197505,-3.8734198,6.1055517,0.08153693,8.897476,6.2637553,6.7340317,-9.603748,7.1822157,-9.321771,5.9533195,-6.261462,-8.877353,-7.5994034,-9.45977,-1.1305137,7.6245456,3.7971067,4.4939294,2.1075072,-2.524256,5.096906,4.9164944,5.2582607,-4.7821016,6.3953433,4.688925,3.7124057,1.7915106,-8.494728,-2.4482458,5.002609,6.351279,-0.8020126,5.9920797,6.794382,-5.545206,1.254622,-8.398842,3.6998372,-3.793432,-3.6474645,-4.788245,-3.3308218,-7.3890643,-3.5945404,-6.3856325,1.98068,3.9812555,8.1192,-4.658211,3.5375226,-0.26268098,8.374891,-2.2957797,-7.888668,4.890757,2.8648522,-0.09021446,6.4878125,-4.784051,1.3509027,3.2518878,-7.223044,4.6430445,-3.4708138,-7.53001,3.0982401,1.0964472,-7.725713,8.972546,8.892072,0.8525598,6.99324,7.7504287,-0.55338347,-8.738951,-4.4627013,2.264937,5.2681055,8.22893,5.4080553,-5.569982,-3.0003567,-5.30264,-9.284252,4.814713,2.055536,4.615003,-3.2966986,5.919846,-5.4994392,-3.9237878,5.379211,-6.047352,-7.314033,-5.8791866,4.151743,-2.8168848,1.0526408,-4.1611147,7.4244094,9.466375,2.683278,-4.9203973,-6.648074,-7.94408,3.696239,-4.514687,7.5289483,-7.244655,-6.563782,-6.0014935,-3.876729,-6.4102073,2.5360637,3.1881006,-1.0024362,5.7846766,4.7579336,8.103343,5.9636836,-9.156253,1.2071955,5.442146,1.7911246,4.9045186,0.41620135,6.2836757,-1.4453198,-2.04374,-7.148134,7.08573,7.31664,-2.65598,2.7001805,-9.026103,2.3310766,5.6677485,5.8728676,6.156093,-4.4033403,8.68746,5.711484,-7.1003275,7.3593206,-5.048692,-9.505148,-2.1310115,-0.07019192,-7.5630026,-3.3543892,6.6559277,2.8396993,-6.877436,1.8608444,0.018052869,-5.507219,-7.403151,7.485151,7.2691026,-2.4564238,8.100713,5.4969325,0.86122775,4.4769073,5.714324,-3.5796318,-1.3330704,5.70792,-6.1395597,-6.308955,-3.9184062,-3.4447083,5.0358877,8.17348,-3.0217438,9.149875,3.1769474,-8.821569,-2.5542262,4.8287587,-5.704103,-7.41754,-5.517474,2.795224,1.8068857,-4.825034,6.6119113,0.61801386,0.20519027,0.657013,6.6233172,3.036312,-8.7277355,7.8263826,2.5202425,-9.111197,0.952836,5.795774,5.8104587,2.4181988,-9.198708,1.3990837,7.1371517,-0.6887394,-4.709995,6.174414,2.0982914,-1.9135514,-1.7346293,7.3304963,-3.373744,-3.5498252,-1.7119758,0.2656085,5.929831,2.8174944,6.7447724,6.985792,7.133631,4.728452,6.4770885,-3.5023432,-7.9464645,-1.19945,3.0990255,-9.583275,-7.233493,1.633527,-1.1089202,-2.3310695,0.22115698,-3.3050053,2.0515704,-1.1286044,5.5485616,1.0483342,6.1265764,-6.775135,-4.8807096,-7.2800093,-2.754269,-2.4040394,0.9102602,7.403301,2.382779,3.336576,-1.488094,4.995225,-5.4710393,9.134202,6.111924,1.2828162,-6.2181735,-7.3566723,4.973245,-6.4295774,-9.425858,-9.517059,-7.482261,7.864232,5.3324285,7.0711884,-3.086105,6.005895,-2.0581028,7.2529917,2.050855,-6.413146,7.2743154,4.46451,2.3775928,3.9528346,5.6725583,-6.96073,4.3044524,7.5290847,-9.606637,3.7148342,-5.27056,2.511661,-8.784964,7.4088907,-9.421749,-4.9806666,4.941954,5.918395,2.3740568,-3.306909,2.4305968,-4.3937078,-9.129844,-4.497553,1.8371507,8.224476,-7.702046,5.048,1.1153687,-0.7340011,4.7380185,-8.929984,7.98909,-3.8765807,-7.036132,-3.1108503,-5.717951,-1.5266175,-3.0338151,7.717,-3.9150624,-2.9312003,4.2903566,-4.330864,-8.998894,-9.09103,-4.2125187,2.710208,7.5030713,-6.557403,-2.6474497,-4.9809747,-9.20047,-5.608051,-5.555211,-6.9004335,-2.9139864,-6.962254,5.774286,2.1232772,4.7742844,-4.377208,5.770435,-6.736734,-2.8333604,4.225998,-9.038751,2.8034685,-0.391478,-7.1984224,1.0727866,5.3793864,2.4549398,-9.58725,8.895627,3.044623,-8.816395,-6.3996453,-2.7764025,-0.436024,-4.975431,-9.549226,-8.68083,3.7907045,-3.9465728,-6.8635597,2.0481553,5.0637107,-7.100416,-0.5078782,1.3217794,-1.6166296,-1.0270448,1.4884892,6.809017,8.612815,2.7872431,3.4866626,5.4046125,-6.639963,2.1134186,-6.1021323,5.938885,3.854638,-4.0995765,-7.629278,-8.729539,6.404141,-1.7584635,-5.2151074,6.4510684,6.1561,-6.978618,4.8104343,-1.5676954,-6.2850914,-7.583686,-6.578268,-5.8824587,4.2494297,2.1195889,-4.891449,2.2391064,-4.069873,-4.4588256,-1.7224215,7.184871,6.184434,-5.9599824,4.886046,1.9732689,5.1271195,0.380029,-9.484386,-0.1080344,8.249486,6.2589827,2.1585572,6.2092147,-2.2303813,-6.3001294,5.520827,5.657397,-1.6469588,5.565651,-8.233834,-3.1870856,-8.417617,-2.7486632,-8.922077,-4.5765004,5.4494534,2.6476123,-2.1418102,1.3999336,3.1402113,-3.6712632,-5.581951,-4.0718756,5.1526694,-1.8666681,2.4759269,5.616625,-1.0658998,-7.1058707,4.569191,-5.234095,-7.949047,-6.3623815,5.292063,-5.351168,-0.253246,5.2733765,-5.6070027,-7.182226,6.2667685,6.05344,-4.2761517,-6.1316204,1.032632,0.21452442,3.1136906,3.6282952,7.212504,4.8005047,8.926897,3.4598253,9.415436,4.307703,-1.947166,-0.24973497,-4.532719,1.2343246,-9.392998,-4.917037,-1.6430899,0.62286425,-0.43421024,-2.4663115,-6.5207944,-2.1931434,2.0388935,-5.06854,-1.3219459,-6.6167245,-5.453157,0.24791229,-8.823435,6.799978,-5.604105,4.379929,0.3866011,-9.318165,-5.1715326,-7.220904,-8.665419,-7.2872787,8.285309,-1.6920787,8.644459,6.4131007,4.839383,-2.9246042,3.702204,6.0933213,-5.2085,1.7037575,-3.293097,6.274855,2.2606988,0.73173887,4.7754593,2.3441238,-6.4061756,7.9907727,-7.506329,8.9284115,9.251817,2.2090073,2.5367725,3.8246725,-0.19878174,-2.9350252,8.411717,-5.226412,-2.3476775,2.7086027,1.4048607,4.790104,-1.8953936,-9.133108,-2.7748253,-8.061476,6.862869,7.5912056,8.052022,7.122113,5.4767666,6.883434,-6.9090376,-0.13608503,4.565502,-6.064289,8.229324,-6.6403184,-4.3696604,2.8789072,-0.7350086,6.639931,-1.1795166,-8.738889,0.62362945,-5.4443126,-6.5576777,-6.449211,-6.7334237,2.0720916,0.9786792,5.878151,4.2549686,-7.651979,7.460145,5.00243,4.1452975,4.943904,-6.9599676,1.599572,6.101625,6.019074,-4.500974,-6.5160303,-7.99168,-7.1905155,7.4258413,1.8071252,-5.7149134,-5.513747,-6.1819043,-8.358349,-6.1858735,9.083659,-3.9009244,-0.2995273,-1.4755398,7.739669,-3.1542249,-1.3871385,8.920439,-3.022296,-9.595993,5.173028,7.338145,-5.283204,6.4153705,-5.6477747,2.2008364,-3.3192492,5.918888,-9.26908,4.457835,-6.482476,6.1363053,-9.508963,7.4314675,7.40283,-7.1305695,8.2828,-8.654323,5.0084133,-2.249278,0.35474753,-1.9565419,7.279684,0.55245954,-3.7852447,6.7646046,2.7733314,5.666902,0.5234722,-8.954104,-5.381647,-0.33231232,8.25037,4.8028307,7.503866,1.8075945,-9.1152725,0.42046937,-7.8522177,1.9108195,0.10615901,-5.975904,6.71063,1.6804574,4.879724,-8.7737055,8.306831,-6.1158414,-8.584209,-9.204731,-0.27148896,-5.1919537,5.9046545,-0.41875237,2.1835084,5.867726,8.135269,-5.7532034,-5.0147457,6.242234,7.6453433,-5.310216,4.5799365,3.224089,-1.6535866,6.0823765,5.1933537,1.9900172,0.64402366,-7.085965,5.2507806,-4.8384666,-2.2799027,-5.2969494,0.9144011,-9.466089,-3.7852614,-1.8771468,4.75916,6.3270907,-1.1300559,0.63241625,5.614281,-7.3323393,3.8490005,-2.8055277,7.753586,5.1584477,-3.9876053,-6.610625,-4.815695,2.0732257,-1.8181714,-5.842879,-7.1750264,7.1614227,-7.3755064,0.59054416,-1.4387916,8.825317,4.50035,3.998002,-7.2983894,-5.4857054,0.9610964,-9.599676,5.7114005,-9.300911,3.5140703,6.9468718,-1.0412135,7.5384574,2.2586343,-1.562849,7.1648135,-6.939137,2.1129777,-0.84455687,3.1555836,2.4774318,7.2286777,3.676896,5.6186576,-7.9962544,-0.8525286,-9.403253,-0.14883544,6.0274444,0.33131766,3.972828,-8.263626,3.539866,0.056686215,3.2251682,7.3692484,-7.193461,2.7573524,5.82067,-5.6782846,7.234766,4.034051,5.537522,-3.1368473,-6.878699,6.3453894,-1.3335474,-4.843317,-7.451962,0.11968891,3.5069396,5.1313167,8.306399,-5.2986712,7.8968163,-6.578177,-8.367979,-5.6950536,-7.7733736,5.702556,6.792567,-7.321964,-7.2416368,0.49578613,0.20146471,-5.395477,9.173698,-9.289781,-7.3845177,-6.173855,-6.176239,3.8431764,6.2029233,3.9984927,-5.4617815,7.49466,3.372752,-9.118325,-0.76176214,-9.177114,-8.602189,3.844789,4.6700516,5.5922875,5.921367,4.7540345,-1.5790305,5.6130075,-0.50757617,-4.7253094,-9.357215,-9.381836,4.170912,5.3651576,-7.8121233,-5.755578,-5.0234375,4.5698185,0.73991513,7.981728,8.695846,-4.5480313,3.4953377,2.219647,-6.0931344,8.532004,3.796559,-6.4356713,1.3925099,0.58356595,-7.2670126,7.02499,4.6194034,-0.93881816,4.7651668,2.7063308,-4.091378,-5.046325,-7.7206674,-9.558275,-3.7856886,4.515181,-4.2436285,8.074597,-0.6431396,-3.0445235,-8.282169,3.8547938,-0.5474266,0.7554268,-5.769469,-9.343667,5.779347,-4.7926397,-6.425261,-4.592587,5.8198447],\"z\":[-3.668392,-5.9319,-1.0626189,-2.949612,-8.431488,3.2924082,7.7212706,8.713639,-4.894626,3.8696117,-1.079721,-7.8010764,-1.4601061,0.68736273,3.5272396,3.6978705,3.9567797,3.1972606,6.0149584,0.5036715,-0.09583771,-1.6693153,-0.23499946,-8.497357,1.9518303,-0.50564265,-5.9091506,-5.0511203,8.141791,4.6007643,1.2117754,-4.7156253,-1.2439668,-2.5466342,4.87853,0.7607076,7.05357,-4.0275793,3.1375692,-5.176842,0.10812809,-4.8086953,2.6646802,-1.418967,2.561069,-7.352485,8.471258,-2.2232337,-3.0438223,-5.411914,2.734193,2.570322,6.7839556,4.493189,-5.355658,4.1584096,-5.308398,-4.249084,8.141858,-4.19395,-0.85625947,3.0602863,2.9738588,5.824873,1.513506,-5.0519505,-6.0839286,6.663244,0.37868854,3.7940285,-8.364574,-4.9944334,-1.8180097,-2.0156782,-4.857088,4.1391683,-6.710174,2.0780022,5.5596457,1.4613916,3.9043224,4.318094,0.808693,7.963768,8.273509,-4.89973,8.313074,0.6826515,7.715536,1.4094558,-2.8434405,3.6503422,4.7474933,-1.2970258,-1.346878,2.4287477,7.048728,-5.401346,1.6888015,-1.9986335,3.9511576,-0.14571936,4.0038795,3.1869411,6.523167,4.0289745,-4.872986,-0.18188451,-3.6812081,-3.9770606,-3.487003,0.35232174,-0.60220397,-8.128256,1.8759997,-3.2790847,-5.031116,-7.995422,4.1898975,2.9668453,2.6592803,-4.900618,2.6269028,9.006022,-4.7471247,-0.06328505,-3.4091763,4.2444854,5.990615,5.2248564,-4.7206717,9.069896,-1.7899032,-4.4812555,7.8008704,-0.27171326,3.5627337,0.42221427,2.2038515,-0.9045284,6.87583,2.0223265,-7.9935403,4.068545,-5.305788,-8.073645,-1.215327,8.481744,2.5996146,-2.0936093,-4.006991,2.4127867,0.34844518,8.672578,-1.8980011,5.233924,-5.9851165,2.4499848,2.1127717,6.499488,2.9716716,7.300234,-5.7075987,-2.4429443,-0.9516859,4.500063,-5.053946,-1.0370636,-5.289285,2.4716105,3.9026275,5.5124526,-5.743218,2.715195,9.071496,1.7426274,9.156749,-5.5796394,-6.786196,8.308074,4.270324,4.6213484,0.96132374,-2.7740803,2.887518,3.688336,3.3582735,-4.011539,-1.7814653,2.6738183,-4.7916427,1.3732514,-4.5076485,2.85784,-0.79473054,-4.223455,-1.6989766,-3.3090076,-1.1674385,-7.35743,5.3644304,5.955029,1.6021037,-2.269898,-5.1083493,-0.7261423,5.296096,1.5352427,-2.8033767,3.102867,6.8448367,6.0451746,-3.259092,-2.8847497,-5.3093524,0.26626426,2.267491,2.3516142,3.3040152,1.5286666,-5.2611027,-7.536594,-3.1111763,2.7030084,3.7536952,3.1699932,8.260886,5.5494566,3.4255736,8.022837,6.6752715,-3.5033882,5.7212853,4.259927,-5.0477033,-8.401927,4.328389,4.1500216,6.455785,-3.3267028,-2.2857869,7.769593,-4.230116,6.4906826,7.4188237,-6.095955,1.4885514,-2.8036637,1.7111247,3.6873908,3.1436093,-8.543282,8.426319,1.5957007,3.948898,-1.6674308,8.455603,-4.6386304,-0.48108733,4.3120813,4.473748,7.913071,2.854996,1.7541316,5.601022,1.0917764,8.067732,3.2102048,-2.5060644,0.17209566,6.9342003,-2.8196008,6.763615,3.434975,2.9841166,6.5472794,-5.183043,0.8131252,-5.084064,-1.872493,-4.493493,1.3672745,-5.2890053,-5.8747783,-5.175486,1.9458108,0.37194583,1.6441944,2.965459,-4.7625823,3.7024877,2.0242534,-5.832511,-4.335954,-0.48778895,-1.7283024,-4.4206524,3.5186079,-3.56431,-8.197751,7.9483113,-4.80379,3.6007793,3.159407,-3.1332874,1.6846648,-1.3822194,1.7079437,-2.0267634,-4.1756024,5.2091303,-6.495337,1.738576,-5.1102138,-4.294873,-0.4126699,2.433966,-5.152178,4.141106,1.8331095,3.6876593,-1.9772142,-5.4127903,6.2734723,0.34418672,2.1611838,-2.5704474,1.8049511,2.4713874,2.0376723,7.230852,1.1614382,7.0570803,-4.959061,-4.1690316,-3.2312949,-4.913166,-5.8150306,0.4274032,-8.640347,-5.081397,1.6882818,-1.872861,-4.342156,0.35151634,9.053335,-3.3339136,-1.5364304,-6.05914,3.0659008,3.222139,3.6221852,-4.8897123,-1.4972205,-4.6780624,4.9704742,-4.0057006,2.6906471,-5.9893074,-3.1236126,4.0582447,-0.06949386,4.011866,-2.1346097,8.931063,5.045003,8.00196,-2.2989109,6.097489,-7.2964664,8.06236,-4.98997,-5.8576326,-8.508973,7.936941,-3.7421234,-5.4371996,3.2590926,-2.1132646,-1.0923094,-8.6204605,3.745844,2.7742512,-0.7283535,-0.43078566,1.8802074,0.77020895,8.321635,2.7181823,8.781806,-4.3097095,-0.23949027,-2.3580618,8.588279,2.3383799,-5.017865,-4.572675,-5.1678014,3.1436603,8.08861,2.6155217,-1.7115662,1.7571071,-5.436639,2.7167425,-6.2197437,6.574282,-3.4691968,5.721559,-4.8251047,-5.5168877,0.8227264,-1.1325603,8.28794,-4.972709,9.119069,8.11549,5.632061,-2.5134544,-5.020954,-1.0351051,-4.606617,2.5660853,0.57906157,3.0017114,-4.4163837,6.047023,3.5039098,4.279641,-4.9685736,8.050772,7.9260235,4.2815256,2.9475985,5.1893845,0.0302147,-0.4242883,4.3345737,-4.0981417,-1.2138096,1.6917562,-1.8332329,-1.339367,-0.23913886,5.243959,-2.524341,-0.49551266,2.7667856,-4.8156013,3.355878,-7.010539,3.1728017,8.206551,-4.807295,-5.215621,-6.727312,8.098408,-7.06944,6.461571,4.7654576,5.5440745,5.361251,1.3739138,3.9856014,2.3344066,8.011598,-2.6939387,5.262324,2.8658152,-5.5034194,-6.3818145,4.104335,-7.7486787,-5.1461587,1.8481972,-5.1734176,-1.3807942,-5.134215,4.2898955,-2.3627534,-3.5607755,5.074577,8.345246,-7.0083737,5.3773165,4.1013217,-3.7857654,2.4682608,-2.3913212,6.059689,1.757275,8.909714,3.0456598,-2.308886,-4.43772,3.4820116,-0.6752422,3.0525093,-2.0627153,-2.0179875,2.6726234,-3.697352,-4.5753965,-2.792462,-4.093486,-5.163119,1.0255234,8.248317,1.4988173,-2.158457,-5.0403724,-4.6036415,7.0927777,-5.596841,3.4035304,-5.1200104,4.496408,0.5651841,8.345315,5.8710136,-1.1478354,8.017737,8.877803,-0.3181092,-7.7383175,1.3233869,4.13478,1.6616894,-1.906472,7.985465,-2.1503365,0.9322642,6.0381327,-4.2811904,2.9169586,0.7070308,-2.2622752,0.40721962,-5.1897497,0.31079727,-6.217383,5.2927966,6.482177,7.732702,3.9888623,2.1985257,-4.8363256,8.186634,0.99334586,1.1440814,1.7077334,6.2326884,4.9244685,-4.7334385,3.2303236,-4.390808,1.0745927,-5.336913,-3.3948681,2.7106404,-2.337616,1.316054,2.2783916,-4.770058,-5.8467884,1.7231525,-2.5141575,5.383353,-4.757186,-4.917808,3.2654905,4.0350876,1.0102601,1.8325994,1.7934686,2.9485464,-3.2706525,-5.1732707,-2.0788999,2.5748463,-5.3299174,3.6925411,-4.7290263,7.4511857,-7.4888396,-1.4092927,-5.610308,2.0635116,-4.1550865,-0.1978889,2.817585,2.7884514,3.03704,9.134983,-1.6563867,5.703702,3.405746,6.9118295,4.7158465,-2.8340259,3.3015535,4.815416,-5.274369,-2.2292058,-5.0620623,1.9487275,8.092133,-4.8791595,-7.8767643,-0.8677755,-3.3182428,1.8764282,-5.1698155,2.1334321,3.652782,-3.528851,4.780882,7.3166823,-1.3589034,6.1767287,2.6729283,2.2033534,-3.4801462,6.213416,2.499069,8.760809,7.3250394,-4.6075,-0.2268063,2.524342,0.4583158,3.4653022,5.4871225,7.881535,8.253791,6.556353,-2.1395032,1.3805557,3.8006215,4.737989,2.151528,-0.09693327,-7.23919,-4.3808618,-4.254818,-4.517296,-3.1504102,2.913303,2.9007547,-6.9737844,8.133434,-4.3667927,6.577595,0.9856307,8.707178,8.201019,2.7335148,9.060361,0.80143523,-0.95047,-4.0890374,-0.16122064,1.5498929,-4.616085,2.0012336,1.9435213,3.174841,2.536783,-0.29001844,3.6926067,-2.7854257,5.357631,2.4490488,4.631642,1.6754519,3.9841344,8.63548,0.23521793,3.5750558,-4.9067154,-4.240068,7.386246,2.3423548,-6.3821826,4.2862234,6.264628,2.4061408,7.54169,4.85989,5.989765,4.392422,-0.40304598,4.2331142,8.060754,-1.8222493,-5.010906,-4.5325027,-2.0143242,2.593169,-5.310591,-1.7944816,2.7411523,3.6016955,3.7216465,-0.52607864,8.943501,-3.0319762,1.8500843,4.143189,-3.2341316,2.0439126,3.2279818,2.7258976,3.4079454,-4.429612,1.286145,-2.6145265,-1.8226987,-4.4590583,-3.530471,3.7264228,4.325538,6.1082516,8.72194,-2.7554011,-4.8729086,-5.304115,-4.252501,-4.2483525,4.209435,2.1810846,8.450789,-0.28241187,3.7864132,-4.0780444,-4.604144,5.260818,-5.6411624,4.6170535,0.29732555,-4.202542,3.2077742,3.838254,6.79512,7.0802765,1.9372908,-1.357776,-4.4720883,4.2833366,-4.0492463,7.981378,-1.4140041,-3.2860117,1.3908459,-1.0900451,-5.178969,-4.710825,-7.4027658,-2.302518,-4.48774,2.3915405,4.7336636,-5.0677752,1.0898584,2.854967,-4.670269,2.4875646,6.7895107,1.721274,-2.1673167,5.825161,4.0333877,-0.100559354,2.361515,-3.6590931,2.025017,2.4826913,-0.4343921,-4.992387,2.275845,-0.19193844,-2.5267096,3.3742602,3.6876147,-8.545708,2.5267897,-5.148018,-8.781062,3.340364,2.8448114,-1.3230548,4.483059,-8.409997,-0.8273269,2.081774,2.3951385,1.6010172,5.457215,-4.6820517,3.8363101,-0.07450892,-8.222478,-3.8512878,2.6005054,-4.997034,-4.963103,1.4699128,-4.401525,3.2455812,4.2438903,0.7330387,7.335466,-2.466351,2.7751145,4.062932,7.4606457,3.1964664,4.039338,4.049249,5.613312,5.4237847,0.9395351,2.583555,2.3955164,-4.515721,-1.0996859,2.7820275,1.9617736,-5.08313,3.6418936,-5.5087633,-3.830274,-5.75966,0.028576655,-5.589946,2.0333538,6.425401,8.076669,-4.604424,-0.82102567,-5.697304,4.240188,4.8294377,0.81439584,7.3568697,-6.4654317,1.769557,-4.3535953,7.7998343,8.146792,5.694245,1.3733217,3.0608215,4.948934,2.946678,8.062596,9.142314,-3.0665977,-4.460376,0.306773,-2.1435285,-8.6755085,-8.135708,-2.3203783,-1.7859966,-1.4281373,-4.370723,-5.036368,8.429328,1.3399087,4.231013,1.0174972,7.8712726,2.0735555,2.5714653,-4.6672463,-8.67595,7.2616696,-0.03682831,-2.0687485,8.053271,3.7871444,-8.533614,3.1302938,2.6969829,-2.0086746,2.191544,-3.2196162,-7.9540586,-0.010781997,-4.267266,1.8302423,-3.876298,-0.99039656,-2.6217847,-1.3410629,-8.510287,-7.630591,0.13437231,4.5120153,-3.4399624,4.222697,8.489362,-5.253553,3.3689523,-1.3769401,-3.9184952,-1.3076944,-6.2398996,2.4770155,-3.5761702,-4.2005377,-5.0071034,6.2493205,-2.3282135,-2.0381954,2.474487,-3.8112369,4.3146667,4.990509,-5.4636626,4.9606466,2.284273,-5.763642,-0.6435296,2.1036222,-4.825177,-5.3511043,-5.1392937,-0.47621694,2.7696943,1.9857099,1.0563678,-3.80287,6.647472,2.980435,0.5749818,1.8495797,0.14504533,7.8194857,-2.1267192,-4.4596095,-1.659018,-2.0127475,-1.655259,0.1687497,3.3896754,2.4938483,4.6878414,-4.9340944,-0.24147165,7.7684784,-4.395311,-0.24598178,2.6701877,-6.218246,1.7717041,-3.8425627,-5.0531073,8.580243,-5.3966484,4.338414,-3.7753816,-2.4950943,2.4304967,-1.4281801,2.803416,-4.8480062,5.359218,-1.6611291,-4.148072,-8.37172,2.7031837,-0.83231014,0.5603867,-5.3186965,-4.543173,3.1724336,8.051376,2.6148868,-2.9742117,5.0544834,2.164646,-5.1977367,7.5364246,3.3349621,-3.2253788,-8.38784,-5.1386223,-3.1751513,-2.0825686,8.864689,2.2238529,0.8997114,-1.566177,3.1477566,3.0902252,-2.8733723,-3.9570796,5.8757915],\"type\":\"scatter3d\"}],                        {\"template\":{\"data\":{\"histogram2dcontour\":[{\"type\":\"histogram2dcontour\",\"colorbar\":{\"outlinewidth\":0,\"ticks\":\"\"},\"colorscale\":[[0.0,\"#0d0887\"],[0.1111111111111111,\"#46039f\"],[0.2222222222222222,\"#7201a8\"],[0.3333333333333333,\"#9c179e\"],[0.4444444444444444,\"#bd3786\"],[0.5555555555555556,\"#d8576b\"],[0.6666666666666666,\"#ed7953\"],[0.7777777777777778,\"#fb9f3a\"],[0.8888888888888888,\"#fdca26\"],[1.0,\"#f0f921\"]]}],\"choropleth\":[{\"type\":\"choropleth\",\"colorbar\":{\"outlinewidth\":0,\"ticks\":\"\"}}],\"histogram2d\":[{\"type\":\"histogram2d\",\"colorbar\":{\"outlinewidth\":0,\"ticks\":\"\"},\"colorscale\":[[0.0,\"#0d0887\"],[0.1111111111111111,\"#46039f\"],[0.2222222222222222,\"#7201a8\"],[0.3333333333333333,\"#9c179e\"],[0.4444444444444444,\"#bd3786\"],[0.5555555555555556,\"#d8576b\"],[0.6666666666666666,\"#ed7953\"],[0.7777777777777778,\"#fb9f3a\"],[0.8888888888888888,\"#fdca26\"],[1.0,\"#f0f921\"]]}],\"heatmap\":[{\"type\":\"heatmap\",\"colorbar\":{\"outlinewidth\":0,\"ticks\":\"\"},\"colorscale\":[[0.0,\"#0d0887\"],[0.1111111111111111,\"#46039f\"],[0.2222222222222222,\"#7201a8\"],[0.3333333333333333,\"#9c179e\"],[0.4444444444444444,\"#bd3786\"],[0.5555555555555556,\"#d8576b\"],[0.6666666666666666,\"#ed7953\"],[0.7777777777777778,\"#fb9f3a\"],[0.8888888888888888,\"#fdca26\"],[1.0,\"#f0f921\"]]}],\"heatmapgl\":[{\"type\":\"heatmapgl\",\"colorbar\":{\"outlinewidth\":0,\"ticks\":\"\"},\"colorscale\":[[0.0,\"#0d0887\"],[0.1111111111111111,\"#46039f\"],[0.2222222222222222,\"#7201a8\"],[0.3333333333333333,\"#9c179e\"],[0.4444444444444444,\"#bd3786\"],[0.5555555555555556,\"#d8576b\"],[0.6666666666666666,\"#ed7953\"],[0.7777777777777778,\"#fb9f3a\"],[0.8888888888888888,\"#fdca26\"],[1.0,\"#f0f921\"]]}],\"contourcarpet\":[{\"type\":\"contourcarpet\",\"colorbar\":{\"outlinewidth\":0,\"ticks\":\"\"}}],\"contour\":[{\"type\":\"contour\",\"colorbar\":{\"outlinewidth\":0,\"ticks\":\"\"},\"colorscale\":[[0.0,\"#0d0887\"],[0.1111111111111111,\"#46039f\"],[0.2222222222222222,\"#7201a8\"],[0.3333333333333333,\"#9c179e\"],[0.4444444444444444,\"#bd3786\"],[0.5555555555555556,\"#d8576b\"],[0.6666666666666666,\"#ed7953\"],[0.7777777777777778,\"#fb9f3a\"],[0.8888888888888888,\"#fdca26\"],[1.0,\"#f0f921\"]]}],\"surface\":[{\"type\":\"surface\",\"colorbar\":{\"outlinewidth\":0,\"ticks\":\"\"},\"colorscale\":[[0.0,\"#0d0887\"],[0.1111111111111111,\"#46039f\"],[0.2222222222222222,\"#7201a8\"],[0.3333333333333333,\"#9c179e\"],[0.4444444444444444,\"#bd3786\"],[0.5555555555555556,\"#d8576b\"],[0.6666666666666666,\"#ed7953\"],[0.7777777777777778,\"#fb9f3a\"],[0.8888888888888888,\"#fdca26\"],[1.0,\"#f0f921\"]]}],\"mesh3d\":[{\"type\":\"mesh3d\",\"colorbar\":{\"outlinewidth\":0,\"ticks\":\"\"}}],\"scatter\":[{\"fillpattern\":{\"fillmode\":\"overlay\",\"size\":10,\"solidity\":0.2},\"type\":\"scatter\"}],\"parcoords\":[{\"type\":\"parcoords\",\"line\":{\"colorbar\":{\"outlinewidth\":0,\"ticks\":\"\"}}}],\"scatterpolargl\":[{\"type\":\"scatterpolargl\",\"marker\":{\"colorbar\":{\"outlinewidth\":0,\"ticks\":\"\"}}}],\"bar\":[{\"error_x\":{\"color\":\"#2a3f5f\"},\"error_y\":{\"color\":\"#2a3f5f\"},\"marker\":{\"line\":{\"color\":\"#E5ECF6\",\"width\":0.5},\"pattern\":{\"fillmode\":\"overlay\",\"size\":10,\"solidity\":0.2}},\"type\":\"bar\"}],\"scattergeo\":[{\"type\":\"scattergeo\",\"marker\":{\"colorbar\":{\"outlinewidth\":0,\"ticks\":\"\"}}}],\"scatterpolar\":[{\"type\":\"scatterpolar\",\"marker\":{\"colorbar\":{\"outlinewidth\":0,\"ticks\":\"\"}}}],\"histogram\":[{\"marker\":{\"pattern\":{\"fillmode\":\"overlay\",\"size\":10,\"solidity\":0.2}},\"type\":\"histogram\"}],\"scattergl\":[{\"type\":\"scattergl\",\"marker\":{\"colorbar\":{\"outlinewidth\":0,\"ticks\":\"\"}}}],\"scatter3d\":[{\"type\":\"scatter3d\",\"line\":{\"colorbar\":{\"outlinewidth\":0,\"ticks\":\"\"}},\"marker\":{\"colorbar\":{\"outlinewidth\":0,\"ticks\":\"\"}}}],\"scattermapbox\":[{\"type\":\"scattermapbox\",\"marker\":{\"colorbar\":{\"outlinewidth\":0,\"ticks\":\"\"}}}],\"scatterternary\":[{\"type\":\"scatterternary\",\"marker\":{\"colorbar\":{\"outlinewidth\":0,\"ticks\":\"\"}}}],\"scattercarpet\":[{\"type\":\"scattercarpet\",\"marker\":{\"colorbar\":{\"outlinewidth\":0,\"ticks\":\"\"}}}],\"carpet\":[{\"aaxis\":{\"endlinecolor\":\"#2a3f5f\",\"gridcolor\":\"white\",\"linecolor\":\"white\",\"minorgridcolor\":\"white\",\"startlinecolor\":\"#2a3f5f\"},\"baxis\":{\"endlinecolor\":\"#2a3f5f\",\"gridcolor\":\"white\",\"linecolor\":\"white\",\"minorgridcolor\":\"white\",\"startlinecolor\":\"#2a3f5f\"},\"type\":\"carpet\"}],\"table\":[{\"cells\":{\"fill\":{\"color\":\"#EBF0F8\"},\"line\":{\"color\":\"white\"}},\"header\":{\"fill\":{\"color\":\"#C8D4E3\"},\"line\":{\"color\":\"white\"}},\"type\":\"table\"}],\"barpolar\":[{\"marker\":{\"line\":{\"color\":\"#E5ECF6\",\"width\":0.5},\"pattern\":{\"fillmode\":\"overlay\",\"size\":10,\"solidity\":0.2}},\"type\":\"barpolar\"}],\"pie\":[{\"automargin\":true,\"type\":\"pie\"}]},\"layout\":{\"autotypenumbers\":\"strict\",\"colorway\":[\"#636efa\",\"#EF553B\",\"#00cc96\",\"#ab63fa\",\"#FFA15A\",\"#19d3f3\",\"#FF6692\",\"#B6E880\",\"#FF97FF\",\"#FECB52\"],\"font\":{\"color\":\"#2a3f5f\"},\"hovermode\":\"closest\",\"hoverlabel\":{\"align\":\"left\"},\"paper_bgcolor\":\"white\",\"plot_bgcolor\":\"#E5ECF6\",\"polar\":{\"bgcolor\":\"#E5ECF6\",\"angularaxis\":{\"gridcolor\":\"white\",\"linecolor\":\"white\",\"ticks\":\"\"},\"radialaxis\":{\"gridcolor\":\"white\",\"linecolor\":\"white\",\"ticks\":\"\"}},\"ternary\":{\"bgcolor\":\"#E5ECF6\",\"aaxis\":{\"gridcolor\":\"white\",\"linecolor\":\"white\",\"ticks\":\"\"},\"baxis\":{\"gridcolor\":\"white\",\"linecolor\":\"white\",\"ticks\":\"\"},\"caxis\":{\"gridcolor\":\"white\",\"linecolor\":\"white\",\"ticks\":\"\"}},\"coloraxis\":{\"colorbar\":{\"outlinewidth\":0,\"ticks\":\"\"}},\"colorscale\":{\"sequential\":[[0.0,\"#0d0887\"],[0.1111111111111111,\"#46039f\"],[0.2222222222222222,\"#7201a8\"],[0.3333333333333333,\"#9c179e\"],[0.4444444444444444,\"#bd3786\"],[0.5555555555555556,\"#d8576b\"],[0.6666666666666666,\"#ed7953\"],[0.7777777777777778,\"#fb9f3a\"],[0.8888888888888888,\"#fdca26\"],[1.0,\"#f0f921\"]],\"sequentialminus\":[[0.0,\"#0d0887\"],[0.1111111111111111,\"#46039f\"],[0.2222222222222222,\"#7201a8\"],[0.3333333333333333,\"#9c179e\"],[0.4444444444444444,\"#bd3786\"],[0.5555555555555556,\"#d8576b\"],[0.6666666666666666,\"#ed7953\"],[0.7777777777777778,\"#fb9f3a\"],[0.8888888888888888,\"#fdca26\"],[1.0,\"#f0f921\"]],\"diverging\":[[0,\"#8e0152\"],[0.1,\"#c51b7d\"],[0.2,\"#de77ae\"],[0.3,\"#f1b6da\"],[0.4,\"#fde0ef\"],[0.5,\"#f7f7f7\"],[0.6,\"#e6f5d0\"],[0.7,\"#b8e186\"],[0.8,\"#7fbc41\"],[0.9,\"#4d9221\"],[1,\"#276419\"]]},\"xaxis\":{\"gridcolor\":\"white\",\"linecolor\":\"white\",\"ticks\":\"\",\"title\":{\"standoff\":15},\"zerolinecolor\":\"white\",\"automargin\":true,\"zerolinewidth\":2},\"yaxis\":{\"gridcolor\":\"white\",\"linecolor\":\"white\",\"ticks\":\"\",\"title\":{\"standoff\":15},\"zerolinecolor\":\"white\",\"automargin\":true,\"zerolinewidth\":2},\"scene\":{\"xaxis\":{\"backgroundcolor\":\"#E5ECF6\",\"gridcolor\":\"white\",\"linecolor\":\"white\",\"showbackground\":true,\"ticks\":\"\",\"zerolinecolor\":\"white\",\"gridwidth\":2},\"yaxis\":{\"backgroundcolor\":\"#E5ECF6\",\"gridcolor\":\"white\",\"linecolor\":\"white\",\"showbackground\":true,\"ticks\":\"\",\"zerolinecolor\":\"white\",\"gridwidth\":2},\"zaxis\":{\"backgroundcolor\":\"#E5ECF6\",\"gridcolor\":\"white\",\"linecolor\":\"white\",\"showbackground\":true,\"ticks\":\"\",\"zerolinecolor\":\"white\",\"gridwidth\":2}},\"shapedefaults\":{\"line\":{\"color\":\"#2a3f5f\"}},\"annotationdefaults\":{\"arrowcolor\":\"#2a3f5f\",\"arrowhead\":0,\"arrowwidth\":1},\"geo\":{\"bgcolor\":\"white\",\"landcolor\":\"#E5ECF6\",\"subunitcolor\":\"white\",\"showland\":true,\"showlakes\":true,\"lakecolor\":\"white\"},\"title\":{\"x\":0.05},\"mapbox\":{\"style\":\"light\"}}},\"scene\":{\"domain\":{\"x\":[0.0,1.0],\"y\":[0.0,1.0]},\"xaxis\":{\"title\":{\"text\":\"0\"}},\"yaxis\":{\"title\":{\"text\":\"1\"}},\"zaxis\":{\"title\":{\"text\":\"2\"}}},\"coloraxis\":{\"colorbar\":{\"title\":{\"text\":\"Anomaly\"}},\"colorscale\":[[0.0,\"#0d0887\"],[0.1111111111111111,\"#46039f\"],[0.2222222222222222,\"#7201a8\"],[0.3333333333333333,\"#9c179e\"],[0.4444444444444444,\"#bd3786\"],[0.5555555555555556,\"#d8576b\"],[0.6666666666666666,\"#ed7953\"],[0.7777777777777778,\"#fb9f3a\"],[0.8888888888888888,\"#fdca26\"],[1.0,\"#f0f921\"]]},\"legend\":{\"tracegroupgap\":0},\"title\":{\"text\":\"3d TSNE Plot for Outliers\"},\"height\":800,\"width\":900},                        {\"responsive\": true}                    ).then(function(){\n",
              "                            \n",
              "var gd = document.getElementById('4ecf9753-e1a2-41fb-ae79-6490560aba62');\n",
              "var x = new MutationObserver(function (mutations, observer) {{\n",
              "        var display = window.getComputedStyle(gd).display;\n",
              "        if (!display || display === 'none') {{\n",
              "            console.log([gd, 'removed!']);\n",
              "            Plotly.purge(gd);\n",
              "            observer.disconnect();\n",
              "        }}\n",
              "}});\n",
              "\n",
              "// Listen for the removal of the full notebook cells\n",
              "var notebookContainer = gd.closest('#notebook-container');\n",
              "if (notebookContainer) {{\n",
              "    x.observe(notebookContainer, {childList: true});\n",
              "}}\n",
              "\n",
              "// Listen for the clearing of the current output cell\n",
              "var outputEl = gd.closest('.output');\n",
              "if (outputEl) {{\n",
              "    x.observe(outputEl, {childList: true});\n",
              "}}\n",
              "\n",
              "                        })                };                            </script>        </div>\n",
              "</body>\n",
              "</html>"
            ]
          },
          "metadata": {}
        }
      ]
    },
    {
      "cell_type": "code",
      "source": [
        "save_model(iforest, 'iforest_anomaly_detection_model')"
      ],
      "metadata": {
        "colab": {
          "base_uri": "https://localhost:8080/"
        },
        "id": "OXH97wuw2ibM",
        "outputId": "b779b3e2-7c5c-4510-fdf4-dcc2c2d64be8"
      },
      "execution_count": null,
      "outputs": [
        {
          "output_type": "stream",
          "name": "stdout",
          "text": [
            "Transformation Pipeline and Model Successfully Saved\n"
          ]
        },
        {
          "output_type": "execute_result",
          "data": {
            "text/plain": [
              "(Pipeline(memory=Memory(location=None),\n",
              "          steps=[('numerical_imputer',\n",
              "                  TransformerWrapper(include=['Age', 'Income',\n",
              "                                              'Average_Spending',\n",
              "                                              'Number_of_Visits'],\n",
              "                                     transformer=SimpleImputer())),\n",
              "                 ('categorical_imputer',\n",
              "                  TransformerWrapper(include=[],\n",
              "                                     transformer=SimpleImputer(strategy='most_frequent'))),\n",
              "                 ('trained_model',\n",
              "                  IForest(behaviour='new', bootstrap=False, contamination=0.05,\n",
              "     max_features=1.0, max_samples='auto', n_estimators=100, n_jobs=-1,\n",
              "     random_state=123, verbose=0))]),\n",
              " 'iforest_anomaly_detection_model.pkl')"
            ]
          },
          "metadata": {},
          "execution_count": 10
        }
      ]
    },
    {
      "cell_type": "code",
      "source": [],
      "metadata": {
        "id": "oU3YB4Ib2xlx"
      },
      "execution_count": null,
      "outputs": []
    }
  ]
}