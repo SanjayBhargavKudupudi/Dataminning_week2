{
  "nbformat": 4,
  "nbformat_minor": 0,
  "metadata": {
    "colab": {
      "provenance": [],
      "authorship_tag": "ABX9TyPYmpms5L/JX2snYFpFdzG/",
      "include_colab_link": true
    },
    "kernelspec": {
      "name": "python3",
      "display_name": "Python 3"
    },
    "language_info": {
      "name": "python"
    },
    "widgets": {
      "application/vnd.jupyter.widget-state+json": {
        "830ad914ec9c4fc3a352d4b57de89381": {
          "model_module": "@jupyter-widgets/controls",
          "model_name": "HBoxModel",
          "model_module_version": "1.5.0",
          "state": {
            "_dom_classes": [],
            "_model_module": "@jupyter-widgets/controls",
            "_model_module_version": "1.5.0",
            "_model_name": "HBoxModel",
            "_view_count": null,
            "_view_module": "@jupyter-widgets/controls",
            "_view_module_version": "1.5.0",
            "_view_name": "HBoxView",
            "box_style": "",
            "children": [
              "IPY_MODEL_c8ab4995b2de492c8fb6c36d571a53dc",
              "IPY_MODEL_835446177f984065aea71e614a271bc8",
              "IPY_MODEL_84fdfbd215db4ac4a88cee1c22a4c28d"
            ],
            "layout": "IPY_MODEL_e9633e08ecc14141b11ac386fcbd0db8"
          }
        },
        "c8ab4995b2de492c8fb6c36d571a53dc": {
          "model_module": "@jupyter-widgets/controls",
          "model_name": "HTMLModel",
          "model_module_version": "1.5.0",
          "state": {
            "_dom_classes": [],
            "_model_module": "@jupyter-widgets/controls",
            "_model_module_version": "1.5.0",
            "_model_name": "HTMLModel",
            "_view_count": null,
            "_view_module": "@jupyter-widgets/controls",
            "_view_module_version": "1.5.0",
            "_view_name": "HTMLView",
            "description": "",
            "description_tooltip": null,
            "layout": "IPY_MODEL_aa931cdf3c7f4a8ea0dfa2153df76b84",
            "placeholder": "​",
            "style": "IPY_MODEL_3bc02412eea04eed85dc8f2795e5f6b3",
            "value": "Processing:   0%"
          }
        },
        "835446177f984065aea71e614a271bc8": {
          "model_module": "@jupyter-widgets/controls",
          "model_name": "FloatProgressModel",
          "model_module_version": "1.5.0",
          "state": {
            "_dom_classes": [],
            "_model_module": "@jupyter-widgets/controls",
            "_model_module_version": "1.5.0",
            "_model_name": "FloatProgressModel",
            "_view_count": null,
            "_view_module": "@jupyter-widgets/controls",
            "_view_module_version": "1.5.0",
            "_view_name": "ProgressView",
            "bar_style": "",
            "description": "",
            "description_tooltip": null,
            "layout": "IPY_MODEL_14428eb1b00b4171934cd12cf0a4c5b5",
            "max": 3,
            "min": 0,
            "orientation": "horizontal",
            "style": "IPY_MODEL_ca1154333cde412cac6212c76dbe628f",
            "value": 3
          }
        },
        "84fdfbd215db4ac4a88cee1c22a4c28d": {
          "model_module": "@jupyter-widgets/controls",
          "model_name": "HTMLModel",
          "model_module_version": "1.5.0",
          "state": {
            "_dom_classes": [],
            "_model_module": "@jupyter-widgets/controls",
            "_model_module_version": "1.5.0",
            "_model_name": "HTMLModel",
            "_view_count": null,
            "_view_module": "@jupyter-widgets/controls",
            "_view_module_version": "1.5.0",
            "_view_name": "HTMLView",
            "description": "",
            "description_tooltip": null,
            "layout": "IPY_MODEL_bec86da2ffd24d9eb287837f1b23c7da",
            "placeholder": "​",
            "style": "IPY_MODEL_7d08e68125894ad68ead5034b277e902",
            "value": " 0/3 [00:00&lt;?, ?it/s]"
          }
        },
        "e9633e08ecc14141b11ac386fcbd0db8": {
          "model_module": "@jupyter-widgets/base",
          "model_name": "LayoutModel",
          "model_module_version": "1.2.0",
          "state": {
            "_model_module": "@jupyter-widgets/base",
            "_model_module_version": "1.2.0",
            "_model_name": "LayoutModel",
            "_view_count": null,
            "_view_module": "@jupyter-widgets/base",
            "_view_module_version": "1.2.0",
            "_view_name": "LayoutView",
            "align_content": null,
            "align_items": null,
            "align_self": null,
            "border": null,
            "bottom": null,
            "display": null,
            "flex": null,
            "flex_flow": null,
            "grid_area": null,
            "grid_auto_columns": null,
            "grid_auto_flow": null,
            "grid_auto_rows": null,
            "grid_column": null,
            "grid_gap": null,
            "grid_row": null,
            "grid_template_areas": null,
            "grid_template_columns": null,
            "grid_template_rows": null,
            "height": null,
            "justify_content": null,
            "justify_items": null,
            "left": null,
            "margin": null,
            "max_height": null,
            "max_width": null,
            "min_height": null,
            "min_width": null,
            "object_fit": null,
            "object_position": null,
            "order": null,
            "overflow": null,
            "overflow_x": null,
            "overflow_y": null,
            "padding": null,
            "right": null,
            "top": null,
            "visibility": "hidden",
            "width": null
          }
        },
        "aa931cdf3c7f4a8ea0dfa2153df76b84": {
          "model_module": "@jupyter-widgets/base",
          "model_name": "LayoutModel",
          "model_module_version": "1.2.0",
          "state": {
            "_model_module": "@jupyter-widgets/base",
            "_model_module_version": "1.2.0",
            "_model_name": "LayoutModel",
            "_view_count": null,
            "_view_module": "@jupyter-widgets/base",
            "_view_module_version": "1.2.0",
            "_view_name": "LayoutView",
            "align_content": null,
            "align_items": null,
            "align_self": null,
            "border": null,
            "bottom": null,
            "display": null,
            "flex": null,
            "flex_flow": null,
            "grid_area": null,
            "grid_auto_columns": null,
            "grid_auto_flow": null,
            "grid_auto_rows": null,
            "grid_column": null,
            "grid_gap": null,
            "grid_row": null,
            "grid_template_areas": null,
            "grid_template_columns": null,
            "grid_template_rows": null,
            "height": null,
            "justify_content": null,
            "justify_items": null,
            "left": null,
            "margin": null,
            "max_height": null,
            "max_width": null,
            "min_height": null,
            "min_width": null,
            "object_fit": null,
            "object_position": null,
            "order": null,
            "overflow": null,
            "overflow_x": null,
            "overflow_y": null,
            "padding": null,
            "right": null,
            "top": null,
            "visibility": null,
            "width": null
          }
        },
        "3bc02412eea04eed85dc8f2795e5f6b3": {
          "model_module": "@jupyter-widgets/controls",
          "model_name": "DescriptionStyleModel",
          "model_module_version": "1.5.0",
          "state": {
            "_model_module": "@jupyter-widgets/controls",
            "_model_module_version": "1.5.0",
            "_model_name": "DescriptionStyleModel",
            "_view_count": null,
            "_view_module": "@jupyter-widgets/base",
            "_view_module_version": "1.2.0",
            "_view_name": "StyleView",
            "description_width": ""
          }
        },
        "14428eb1b00b4171934cd12cf0a4c5b5": {
          "model_module": "@jupyter-widgets/base",
          "model_name": "LayoutModel",
          "model_module_version": "1.2.0",
          "state": {
            "_model_module": "@jupyter-widgets/base",
            "_model_module_version": "1.2.0",
            "_model_name": "LayoutModel",
            "_view_count": null,
            "_view_module": "@jupyter-widgets/base",
            "_view_module_version": "1.2.0",
            "_view_name": "LayoutView",
            "align_content": null,
            "align_items": null,
            "align_self": null,
            "border": null,
            "bottom": null,
            "display": null,
            "flex": null,
            "flex_flow": null,
            "grid_area": null,
            "grid_auto_columns": null,
            "grid_auto_flow": null,
            "grid_auto_rows": null,
            "grid_column": null,
            "grid_gap": null,
            "grid_row": null,
            "grid_template_areas": null,
            "grid_template_columns": null,
            "grid_template_rows": null,
            "height": null,
            "justify_content": null,
            "justify_items": null,
            "left": null,
            "margin": null,
            "max_height": null,
            "max_width": null,
            "min_height": null,
            "min_width": null,
            "object_fit": null,
            "object_position": null,
            "order": null,
            "overflow": null,
            "overflow_x": null,
            "overflow_y": null,
            "padding": null,
            "right": null,
            "top": null,
            "visibility": null,
            "width": null
          }
        },
        "ca1154333cde412cac6212c76dbe628f": {
          "model_module": "@jupyter-widgets/controls",
          "model_name": "ProgressStyleModel",
          "model_module_version": "1.5.0",
          "state": {
            "_model_module": "@jupyter-widgets/controls",
            "_model_module_version": "1.5.0",
            "_model_name": "ProgressStyleModel",
            "_view_count": null,
            "_view_module": "@jupyter-widgets/base",
            "_view_module_version": "1.2.0",
            "_view_name": "StyleView",
            "bar_color": null,
            "description_width": ""
          }
        },
        "bec86da2ffd24d9eb287837f1b23c7da": {
          "model_module": "@jupyter-widgets/base",
          "model_name": "LayoutModel",
          "model_module_version": "1.2.0",
          "state": {
            "_model_module": "@jupyter-widgets/base",
            "_model_module_version": "1.2.0",
            "_model_name": "LayoutModel",
            "_view_count": null,
            "_view_module": "@jupyter-widgets/base",
            "_view_module_version": "1.2.0",
            "_view_name": "LayoutView",
            "align_content": null,
            "align_items": null,
            "align_self": null,
            "border": null,
            "bottom": null,
            "display": null,
            "flex": null,
            "flex_flow": null,
            "grid_area": null,
            "grid_auto_columns": null,
            "grid_auto_flow": null,
            "grid_auto_rows": null,
            "grid_column": null,
            "grid_gap": null,
            "grid_row": null,
            "grid_template_areas": null,
            "grid_template_columns": null,
            "grid_template_rows": null,
            "height": null,
            "justify_content": null,
            "justify_items": null,
            "left": null,
            "margin": null,
            "max_height": null,
            "max_width": null,
            "min_height": null,
            "min_width": null,
            "object_fit": null,
            "object_position": null,
            "order": null,
            "overflow": null,
            "overflow_x": null,
            "overflow_y": null,
            "padding": null,
            "right": null,
            "top": null,
            "visibility": null,
            "width": null
          }
        },
        "7d08e68125894ad68ead5034b277e902": {
          "model_module": "@jupyter-widgets/controls",
          "model_name": "DescriptionStyleModel",
          "model_module_version": "1.5.0",
          "state": {
            "_model_module": "@jupyter-widgets/controls",
            "_model_module_version": "1.5.0",
            "_model_name": "DescriptionStyleModel",
            "_view_count": null,
            "_view_module": "@jupyter-widgets/base",
            "_view_module_version": "1.2.0",
            "_view_name": "StyleView",
            "description_width": ""
          }
        }
      }
    }
  },
  "cells": [
    {
      "cell_type": "markdown",
      "metadata": {
        "id": "view-in-github",
        "colab_type": "text"
      },
      "source": [
        "<a href=\"https://colab.research.google.com/github/SanjayBhargavKudupudi/Dataminning_week2/blob/main/Clustering_.ipynb\" target=\"_parent\"><img src=\"https://colab.research.google.com/assets/colab-badge.svg\" alt=\"Open In Colab\"/></a>"
      ]
    },
    {
      "cell_type": "code",
      "execution_count": 1,
      "metadata": {
        "colab": {
          "base_uri": "https://localhost:8080/"
        },
        "id": "ZE648V0bw6t7",
        "outputId": "17b268e3-8f19-4267-81f0-a5a0889bd7d4"
      },
      "outputs": [
        {
          "output_type": "stream",
          "name": "stdout",
          "text": [
            "Collecting pycaret\n",
            "  Downloading pycaret-3.1.0-py3-none-any.whl (483 kB)\n",
            "\u001b[2K     \u001b[90m━━━━━━━━━━━━━━━━━━━━━━━━━━━━━━━━━━━━━━━\u001b[0m \u001b[32m483.9/483.9 kB\u001b[0m \u001b[31m4.2 MB/s\u001b[0m eta \u001b[36m0:00:00\u001b[0m\n",
            "\u001b[?25hRequirement already satisfied: ipython>=5.5.0 in /usr/local/lib/python3.10/dist-packages (from pycaret) (7.34.0)\n",
            "Requirement already satisfied: ipywidgets>=7.6.5 in /usr/local/lib/python3.10/dist-packages (from pycaret) (7.7.1)\n",
            "Requirement already satisfied: tqdm>=4.62.0 in /usr/local/lib/python3.10/dist-packages (from pycaret) (4.66.1)\n",
            "Requirement already satisfied: numpy<1.24,>=1.21 in /usr/local/lib/python3.10/dist-packages (from pycaret) (1.23.5)\n",
            "Requirement already satisfied: pandas<2.0.0,>=1.3.0 in /usr/local/lib/python3.10/dist-packages (from pycaret) (1.5.3)\n",
            "Requirement already satisfied: jinja2>=1.2 in /usr/local/lib/python3.10/dist-packages (from pycaret) (3.1.2)\n",
            "Requirement already satisfied: scipy~=1.10.1 in /usr/local/lib/python3.10/dist-packages (from pycaret) (1.10.1)\n",
            "Requirement already satisfied: joblib>=1.2.0 in /usr/local/lib/python3.10/dist-packages (from pycaret) (1.3.2)\n",
            "Requirement already satisfied: scikit-learn<1.3.0,>=1.0 in /usr/local/lib/python3.10/dist-packages (from pycaret) (1.2.2)\n",
            "Collecting pyod>=1.0.8 (from pycaret)\n",
            "  Downloading pyod-1.1.0.tar.gz (153 kB)\n",
            "\u001b[2K     \u001b[90m━━━━━━━━━━━━━━━━━━━━━━━━━━━━━━━━━━━━━━━\u001b[0m \u001b[32m153.4/153.4 kB\u001b[0m \u001b[31m5.9 MB/s\u001b[0m eta \u001b[36m0:00:00\u001b[0m\n",
            "\u001b[?25h  Preparing metadata (setup.py) ... \u001b[?25l\u001b[?25hdone\n",
            "Requirement already satisfied: imbalanced-learn>=0.8.1 in /usr/local/lib/python3.10/dist-packages (from pycaret) (0.10.1)\n",
            "Collecting category-encoders>=2.4.0 (from pycaret)\n",
            "  Downloading category_encoders-2.6.2-py2.py3-none-any.whl (81 kB)\n",
            "\u001b[2K     \u001b[90m━━━━━━━━━━━━━━━━━━━━━━━━━━━━━━━━━━━━━━━━\u001b[0m \u001b[32m81.8/81.8 kB\u001b[0m \u001b[31m6.7 MB/s\u001b[0m eta \u001b[36m0:00:00\u001b[0m\n",
            "\u001b[?25hRequirement already satisfied: lightgbm>=3.0.0 in /usr/local/lib/python3.10/dist-packages (from pycaret) (4.0.0)\n",
            "Requirement already satisfied: numba>=0.55.0 in /usr/local/lib/python3.10/dist-packages (from pycaret) (0.56.4)\n",
            "Requirement already satisfied: requests>=2.27.1 in /usr/local/lib/python3.10/dist-packages (from pycaret) (2.31.0)\n",
            "Requirement already satisfied: psutil>=5.9.0 in /usr/local/lib/python3.10/dist-packages (from pycaret) (5.9.5)\n",
            "Requirement already satisfied: markupsafe>=2.0.1 in /usr/local/lib/python3.10/dist-packages (from pycaret) (2.1.3)\n",
            "Requirement already satisfied: importlib-metadata>=4.12.0 in /usr/local/lib/python3.10/dist-packages (from pycaret) (6.8.0)\n",
            "Requirement already satisfied: nbformat>=4.2.0 in /usr/local/lib/python3.10/dist-packages (from pycaret) (5.9.2)\n",
            "Requirement already satisfied: cloudpickle in /usr/local/lib/python3.10/dist-packages (from pycaret) (2.2.1)\n",
            "Collecting deprecation>=2.1.0 (from pycaret)\n",
            "  Downloading deprecation-2.1.0-py2.py3-none-any.whl (11 kB)\n",
            "Collecting xxhash (from pycaret)\n",
            "  Downloading xxhash-3.3.0-cp310-cp310-manylinux_2_17_x86_64.manylinux2014_x86_64.whl (194 kB)\n",
            "\u001b[2K     \u001b[90m━━━━━━━━━━━━━━━━━━━━━━━━━━━━━━━━━━━━━━━\u001b[0m \u001b[32m194.1/194.1 kB\u001b[0m \u001b[31m6.9 MB/s\u001b[0m eta \u001b[36m0:00:00\u001b[0m\n",
            "\u001b[?25hRequirement already satisfied: matplotlib>=3.3.0 in /usr/local/lib/python3.10/dist-packages (from pycaret) (3.7.1)\n",
            "Collecting scikit-plot>=0.3.7 (from pycaret)\n",
            "  Downloading scikit_plot-0.3.7-py3-none-any.whl (33 kB)\n",
            "Requirement already satisfied: yellowbrick>=1.4 in /usr/local/lib/python3.10/dist-packages (from pycaret) (1.5)\n",
            "Requirement already satisfied: plotly>=5.0.0 in /usr/local/lib/python3.10/dist-packages (from pycaret) (5.15.0)\n",
            "Collecting kaleido>=0.2.1 (from pycaret)\n",
            "  Downloading kaleido-0.2.1-py2.py3-none-manylinux1_x86_64.whl (79.9 MB)\n",
            "\u001b[2K     \u001b[90m━━━━━━━━━━━━━━━━━━━━━━━━━━━━━━━━━━━━━━━━\u001b[0m \u001b[32m79.9/79.9 MB\u001b[0m \u001b[31m10.0 MB/s\u001b[0m eta \u001b[36m0:00:00\u001b[0m\n",
            "\u001b[?25hCollecting schemdraw==0.15 (from pycaret)\n",
            "  Downloading schemdraw-0.15-py3-none-any.whl (106 kB)\n",
            "\u001b[2K     \u001b[90m━━━━━━━━━━━━━━━━━━━━━━━━━━━━━━━━━━━━━━\u001b[0m \u001b[32m106.8/106.8 kB\u001b[0m \u001b[31m10.0 MB/s\u001b[0m eta \u001b[36m0:00:00\u001b[0m\n",
            "\u001b[?25hCollecting plotly-resampler>=0.8.3.1 (from pycaret)\n",
            "  Downloading plotly_resampler-0.9.1-py3-none-any.whl (73 kB)\n",
            "\u001b[2K     \u001b[90m━━━━━━━━━━━━━━━━━━━━━━━━━━━━━━━━━━━━━━━━\u001b[0m \u001b[32m73.4/73.4 kB\u001b[0m \u001b[31m5.6 MB/s\u001b[0m eta \u001b[36m0:00:00\u001b[0m\n",
            "\u001b[?25hRequirement already satisfied: statsmodels>=0.12.1 in /usr/local/lib/python3.10/dist-packages (from pycaret) (0.14.0)\n",
            "Collecting sktime!=0.17.1,!=0.17.2,!=0.18.0,<0.22.0,>=0.16.1 (from pycaret)\n",
            "  Downloading sktime-0.21.1-py3-none-any.whl (17.1 MB)\n",
            "\u001b[2K     \u001b[90m━━━━━━━━━━━━━━━━━━━━━━━━━━━━━━━━━━━━━━━━\u001b[0m \u001b[32m17.1/17.1 MB\u001b[0m \u001b[31m50.0 MB/s\u001b[0m eta \u001b[36m0:00:00\u001b[0m\n",
            "\u001b[?25hCollecting tbats>=1.1.3 (from pycaret)\n",
            "  Downloading tbats-1.1.3-py3-none-any.whl (44 kB)\n",
            "\u001b[2K     \u001b[90m━━━━━━━━━━━━━━━━━━━━━━━━━━━━━━━━━━━━━━━━\u001b[0m \u001b[32m44.0/44.0 kB\u001b[0m \u001b[31m4.5 MB/s\u001b[0m eta \u001b[36m0:00:00\u001b[0m\n",
            "\u001b[?25hCollecting pmdarima!=1.8.1,<3.0.0,>=1.8.0 (from pycaret)\n",
            "  Downloading pmdarima-2.0.3-cp310-cp310-manylinux_2_17_x86_64.manylinux2014_x86_64.manylinux_2_28_x86_64.whl (1.8 MB)\n",
            "\u001b[2K     \u001b[90m━━━━━━━━━━━━━━━━━━━━━━━━━━━━━━━━━━━━━━━━\u001b[0m \u001b[32m1.8/1.8 MB\u001b[0m \u001b[31m72.1 MB/s\u001b[0m eta \u001b[36m0:00:00\u001b[0m\n",
            "\u001b[?25hCollecting wurlitzer (from pycaret)\n",
            "  Downloading wurlitzer-3.0.3-py3-none-any.whl (7.3 kB)\n",
            "Requirement already satisfied: patsy>=0.5.1 in /usr/local/lib/python3.10/dist-packages (from category-encoders>=2.4.0->pycaret) (0.5.3)\n",
            "Requirement already satisfied: packaging in /usr/local/lib/python3.10/dist-packages (from deprecation>=2.1.0->pycaret) (23.1)\n",
            "Requirement already satisfied: threadpoolctl>=2.0.0 in /usr/local/lib/python3.10/dist-packages (from imbalanced-learn>=0.8.1->pycaret) (3.2.0)\n",
            "Requirement already satisfied: zipp>=0.5 in /usr/local/lib/python3.10/dist-packages (from importlib-metadata>=4.12.0->pycaret) (3.16.2)\n",
            "Requirement already satisfied: setuptools>=18.5 in /usr/local/lib/python3.10/dist-packages (from ipython>=5.5.0->pycaret) (67.7.2)\n",
            "Collecting jedi>=0.16 (from ipython>=5.5.0->pycaret)\n",
            "  Downloading jedi-0.19.0-py2.py3-none-any.whl (1.6 MB)\n",
            "\u001b[2K     \u001b[90m━━━━━━━━━━━━━━━━━━━━━━━━━━━━━━━━━━━━━━━━\u001b[0m \u001b[32m1.6/1.6 MB\u001b[0m \u001b[31m77.3 MB/s\u001b[0m eta \u001b[36m0:00:00\u001b[0m\n",
            "\u001b[?25hRequirement already satisfied: decorator in /usr/local/lib/python3.10/dist-packages (from ipython>=5.5.0->pycaret) (4.4.2)\n",
            "Requirement already satisfied: pickleshare in /usr/local/lib/python3.10/dist-packages (from ipython>=5.5.0->pycaret) (0.7.5)\n",
            "Requirement already satisfied: traitlets>=4.2 in /usr/local/lib/python3.10/dist-packages (from ipython>=5.5.0->pycaret) (5.7.1)\n",
            "Requirement already satisfied: prompt-toolkit!=3.0.0,!=3.0.1,<3.1.0,>=2.0.0 in /usr/local/lib/python3.10/dist-packages (from ipython>=5.5.0->pycaret) (3.0.39)\n",
            "Requirement already satisfied: pygments in /usr/local/lib/python3.10/dist-packages (from ipython>=5.5.0->pycaret) (2.16.1)\n",
            "Requirement already satisfied: backcall in /usr/local/lib/python3.10/dist-packages (from ipython>=5.5.0->pycaret) (0.2.0)\n",
            "Requirement already satisfied: matplotlib-inline in /usr/local/lib/python3.10/dist-packages (from ipython>=5.5.0->pycaret) (0.1.6)\n",
            "Requirement already satisfied: pexpect>4.3 in /usr/local/lib/python3.10/dist-packages (from ipython>=5.5.0->pycaret) (4.8.0)\n",
            "Requirement already satisfied: ipykernel>=4.5.1 in /usr/local/lib/python3.10/dist-packages (from ipywidgets>=7.6.5->pycaret) (5.5.6)\n",
            "Requirement already satisfied: ipython-genutils~=0.2.0 in /usr/local/lib/python3.10/dist-packages (from ipywidgets>=7.6.5->pycaret) (0.2.0)\n",
            "Requirement already satisfied: widgetsnbextension~=3.6.0 in /usr/local/lib/python3.10/dist-packages (from ipywidgets>=7.6.5->pycaret) (3.6.5)\n",
            "Requirement already satisfied: jupyterlab-widgets>=1.0.0 in /usr/local/lib/python3.10/dist-packages (from ipywidgets>=7.6.5->pycaret) (3.0.8)\n",
            "Requirement already satisfied: contourpy>=1.0.1 in /usr/local/lib/python3.10/dist-packages (from matplotlib>=3.3.0->pycaret) (1.1.0)\n",
            "Requirement already satisfied: cycler>=0.10 in /usr/local/lib/python3.10/dist-packages (from matplotlib>=3.3.0->pycaret) (0.11.0)\n",
            "Requirement already satisfied: fonttools>=4.22.0 in /usr/local/lib/python3.10/dist-packages (from matplotlib>=3.3.0->pycaret) (4.42.1)\n",
            "Requirement already satisfied: kiwisolver>=1.0.1 in /usr/local/lib/python3.10/dist-packages (from matplotlib>=3.3.0->pycaret) (1.4.5)\n",
            "Requirement already satisfied: pillow>=6.2.0 in /usr/local/lib/python3.10/dist-packages (from matplotlib>=3.3.0->pycaret) (9.4.0)\n",
            "Requirement already satisfied: pyparsing>=2.3.1 in /usr/local/lib/python3.10/dist-packages (from matplotlib>=3.3.0->pycaret) (3.1.1)\n",
            "Requirement already satisfied: python-dateutil>=2.7 in /usr/local/lib/python3.10/dist-packages (from matplotlib>=3.3.0->pycaret) (2.8.2)\n",
            "Requirement already satisfied: fastjsonschema in /usr/local/lib/python3.10/dist-packages (from nbformat>=4.2.0->pycaret) (2.18.0)\n",
            "Requirement already satisfied: jsonschema>=2.6 in /usr/local/lib/python3.10/dist-packages (from nbformat>=4.2.0->pycaret) (4.19.0)\n",
            "Requirement already satisfied: jupyter-core in /usr/local/lib/python3.10/dist-packages (from nbformat>=4.2.0->pycaret) (5.3.1)\n",
            "Requirement already satisfied: llvmlite<0.40,>=0.39.0dev0 in /usr/local/lib/python3.10/dist-packages (from numba>=0.55.0->pycaret) (0.39.1)\n",
            "Requirement already satisfied: pytz>=2020.1 in /usr/local/lib/python3.10/dist-packages (from pandas<2.0.0,>=1.3.0->pycaret) (2023.3.post1)\n",
            "Requirement already satisfied: tenacity>=6.2.0 in /usr/local/lib/python3.10/dist-packages (from plotly>=5.0.0->pycaret) (8.2.3)\n",
            "Collecting dash<3.0.0,>=2.11.0 (from plotly-resampler>=0.8.3.1->pycaret)\n",
            "  Downloading dash-2.13.0-py3-none-any.whl (10.4 MB)\n",
            "\u001b[2K     \u001b[90m━━━━━━━━━━━━━━━━━━━━━━━━━━━━━━━━━━━━━━━━\u001b[0m \u001b[32m10.4/10.4 MB\u001b[0m \u001b[31m91.4 MB/s\u001b[0m eta \u001b[36m0:00:00\u001b[0m\n",
            "\u001b[?25hCollecting orjson<4.0.0,>=3.8.0 (from plotly-resampler>=0.8.3.1->pycaret)\n",
            "  Downloading orjson-3.9.7-cp310-cp310-manylinux_2_17_x86_64.manylinux2014_x86_64.whl (138 kB)\n",
            "\u001b[2K     \u001b[90m━━━━━━━━━━━━━━━━━━━━━━━━━━━━━━━━━━━━━━\u001b[0m \u001b[32m138.7/138.7 kB\u001b[0m \u001b[31m13.2 MB/s\u001b[0m eta \u001b[36m0:00:00\u001b[0m\n",
            "\u001b[?25hCollecting trace-updater>=0.0.8 (from plotly-resampler>=0.8.3.1->pycaret)\n",
            "  Downloading trace_updater-0.0.9.1-py3-none-any.whl (185 kB)\n",
            "\u001b[2K     \u001b[90m━━━━━━━━━━━━━━━━━━━━━━━━━━━━━━━━━━━━━━\u001b[0m \u001b[32m185.2/185.2 kB\u001b[0m \u001b[31m16.6 MB/s\u001b[0m eta \u001b[36m0:00:00\u001b[0m\n",
            "\u001b[?25hCollecting tsdownsample==0.1.2 (from plotly-resampler>=0.8.3.1->pycaret)\n",
            "  Downloading tsdownsample-0.1.2-cp310-cp310-manylinux_2_17_x86_64.manylinux2014_x86_64.whl (2.3 MB)\n",
            "\u001b[2K     \u001b[90m━━━━━━━━━━━━━━━━━━━━━━━━━━━━━━━━━━━━━━━━\u001b[0m \u001b[32m2.3/2.3 MB\u001b[0m \u001b[31m61.1 MB/s\u001b[0m eta \u001b[36m0:00:00\u001b[0m\n",
            "\u001b[?25hRequirement already satisfied: Cython!=0.29.18,!=0.29.31,>=0.29 in /usr/local/lib/python3.10/dist-packages (from pmdarima!=1.8.1,<3.0.0,>=1.8.0->pycaret) (0.29.36)\n",
            "Requirement already satisfied: urllib3 in /usr/local/lib/python3.10/dist-packages (from pmdarima!=1.8.1,<3.0.0,>=1.8.0->pycaret) (2.0.4)\n",
            "Requirement already satisfied: six in /usr/local/lib/python3.10/dist-packages (from pyod>=1.0.8->pycaret) (1.16.0)\n",
            "Requirement already satisfied: charset-normalizer<4,>=2 in /usr/local/lib/python3.10/dist-packages (from requests>=2.27.1->pycaret) (3.2.0)\n",
            "Requirement already satisfied: idna<4,>=2.5 in /usr/local/lib/python3.10/dist-packages (from requests>=2.27.1->pycaret) (3.4)\n",
            "Requirement already satisfied: certifi>=2017.4.17 in /usr/local/lib/python3.10/dist-packages (from requests>=2.27.1->pycaret) (2023.7.22)\n",
            "Collecting deprecated>=1.2.13 (from sktime!=0.17.1,!=0.17.2,!=0.18.0,<0.22.0,>=0.16.1->pycaret)\n",
            "  Downloading Deprecated-1.2.14-py2.py3-none-any.whl (9.6 kB)\n",
            "Collecting scikit-base<0.6.0 (from sktime!=0.17.1,!=0.17.2,!=0.18.0,<0.22.0,>=0.16.1->pycaret)\n",
            "  Downloading scikit_base-0.5.1-py3-none-any.whl (118 kB)\n",
            "\u001b[2K     \u001b[90m━━━━━━━━━━━━━━━━━━━━━━━━━━━━━━━━━━━━━━\u001b[0m \u001b[32m118.7/118.7 kB\u001b[0m \u001b[31m12.3 MB/s\u001b[0m eta \u001b[36m0:00:00\u001b[0m\n",
            "\u001b[?25hRequirement already satisfied: Flask<2.3.0,>=1.0.4 in /usr/local/lib/python3.10/dist-packages (from dash<3.0.0,>=2.11.0->plotly-resampler>=0.8.3.1->pycaret) (2.2.5)\n",
            "Collecting Werkzeug<2.3.0 (from dash<3.0.0,>=2.11.0->plotly-resampler>=0.8.3.1->pycaret)\n",
            "  Downloading Werkzeug-2.2.3-py3-none-any.whl (233 kB)\n",
            "\u001b[2K     \u001b[90m━━━━━━━━━━━━━━━━━━━━━━━━━━━━━━━━━━━━━━\u001b[0m \u001b[32m233.6/233.6 kB\u001b[0m \u001b[31m21.8 MB/s\u001b[0m eta \u001b[36m0:00:00\u001b[0m\n",
            "\u001b[?25hCollecting dash-html-components==2.0.0 (from dash<3.0.0,>=2.11.0->plotly-resampler>=0.8.3.1->pycaret)\n",
            "  Downloading dash_html_components-2.0.0-py3-none-any.whl (4.1 kB)\n",
            "Collecting dash-core-components==2.0.0 (from dash<3.0.0,>=2.11.0->plotly-resampler>=0.8.3.1->pycaret)\n",
            "  Downloading dash_core_components-2.0.0-py3-none-any.whl (3.8 kB)\n",
            "Collecting dash-table==5.0.0 (from dash<3.0.0,>=2.11.0->plotly-resampler>=0.8.3.1->pycaret)\n",
            "  Downloading dash_table-5.0.0-py3-none-any.whl (3.9 kB)\n",
            "Requirement already satisfied: typing-extensions>=4.1.1 in /usr/local/lib/python3.10/dist-packages (from dash<3.0.0,>=2.11.0->plotly-resampler>=0.8.3.1->pycaret) (4.5.0)\n",
            "Collecting retrying (from dash<3.0.0,>=2.11.0->plotly-resampler>=0.8.3.1->pycaret)\n",
            "  Downloading retrying-1.3.4-py3-none-any.whl (11 kB)\n",
            "Collecting ansi2html (from dash<3.0.0,>=2.11.0->plotly-resampler>=0.8.3.1->pycaret)\n",
            "  Downloading ansi2html-1.8.0-py3-none-any.whl (16 kB)\n",
            "Requirement already satisfied: nest-asyncio in /usr/local/lib/python3.10/dist-packages (from dash<3.0.0,>=2.11.0->plotly-resampler>=0.8.3.1->pycaret) (1.5.7)\n",
            "Requirement already satisfied: wrapt<2,>=1.10 in /usr/local/lib/python3.10/dist-packages (from deprecated>=1.2.13->sktime!=0.17.1,!=0.17.2,!=0.18.0,<0.22.0,>=0.16.1->pycaret) (1.15.0)\n",
            "Requirement already satisfied: jupyter-client in /usr/local/lib/python3.10/dist-packages (from ipykernel>=4.5.1->ipywidgets>=7.6.5->pycaret) (6.1.12)\n",
            "Requirement already satisfied: tornado>=4.2 in /usr/local/lib/python3.10/dist-packages (from ipykernel>=4.5.1->ipywidgets>=7.6.5->pycaret) (6.3.2)\n",
            "Requirement already satisfied: parso<0.9.0,>=0.8.3 in /usr/local/lib/python3.10/dist-packages (from jedi>=0.16->ipython>=5.5.0->pycaret) (0.8.3)\n",
            "Requirement already satisfied: attrs>=22.2.0 in /usr/local/lib/python3.10/dist-packages (from jsonschema>=2.6->nbformat>=4.2.0->pycaret) (23.1.0)\n",
            "Requirement already satisfied: jsonschema-specifications>=2023.03.6 in /usr/local/lib/python3.10/dist-packages (from jsonschema>=2.6->nbformat>=4.2.0->pycaret) (2023.7.1)\n",
            "Requirement already satisfied: referencing>=0.28.4 in /usr/local/lib/python3.10/dist-packages (from jsonschema>=2.6->nbformat>=4.2.0->pycaret) (0.30.2)\n",
            "Requirement already satisfied: rpds-py>=0.7.1 in /usr/local/lib/python3.10/dist-packages (from jsonschema>=2.6->nbformat>=4.2.0->pycaret) (0.10.2)\n",
            "Requirement already satisfied: ptyprocess>=0.5 in /usr/local/lib/python3.10/dist-packages (from pexpect>4.3->ipython>=5.5.0->pycaret) (0.7.0)\n",
            "Requirement already satisfied: wcwidth in /usr/local/lib/python3.10/dist-packages (from prompt-toolkit!=3.0.0,!=3.0.1,<3.1.0,>=2.0.0->ipython>=5.5.0->pycaret) (0.2.6)\n",
            "Requirement already satisfied: notebook>=4.4.1 in /usr/local/lib/python3.10/dist-packages (from widgetsnbextension~=3.6.0->ipywidgets>=7.6.5->pycaret) (6.5.5)\n",
            "Requirement already satisfied: platformdirs>=2.5 in /usr/local/lib/python3.10/dist-packages (from jupyter-core->nbformat>=4.2.0->pycaret) (3.10.0)\n",
            "Requirement already satisfied: itsdangerous>=2.0 in /usr/local/lib/python3.10/dist-packages (from Flask<2.3.0,>=1.0.4->dash<3.0.0,>=2.11.0->plotly-resampler>=0.8.3.1->pycaret) (2.1.2)\n",
            "Requirement already satisfied: click>=8.0 in /usr/local/lib/python3.10/dist-packages (from Flask<2.3.0,>=1.0.4->dash<3.0.0,>=2.11.0->plotly-resampler>=0.8.3.1->pycaret) (8.1.7)\n",
            "Requirement already satisfied: pyzmq<25,>=17 in /usr/local/lib/python3.10/dist-packages (from notebook>=4.4.1->widgetsnbextension~=3.6.0->ipywidgets>=7.6.5->pycaret) (23.2.1)\n",
            "Requirement already satisfied: argon2-cffi in /usr/local/lib/python3.10/dist-packages (from notebook>=4.4.1->widgetsnbextension~=3.6.0->ipywidgets>=7.6.5->pycaret) (23.1.0)\n",
            "Requirement already satisfied: nbconvert>=5 in /usr/local/lib/python3.10/dist-packages (from notebook>=4.4.1->widgetsnbextension~=3.6.0->ipywidgets>=7.6.5->pycaret) (6.5.4)\n",
            "Requirement already satisfied: Send2Trash>=1.8.0 in /usr/local/lib/python3.10/dist-packages (from notebook>=4.4.1->widgetsnbextension~=3.6.0->ipywidgets>=7.6.5->pycaret) (1.8.2)\n",
            "Requirement already satisfied: terminado>=0.8.3 in /usr/local/lib/python3.10/dist-packages (from notebook>=4.4.1->widgetsnbextension~=3.6.0->ipywidgets>=7.6.5->pycaret) (0.17.1)\n",
            "Requirement already satisfied: prometheus-client in /usr/local/lib/python3.10/dist-packages (from notebook>=4.4.1->widgetsnbextension~=3.6.0->ipywidgets>=7.6.5->pycaret) (0.17.1)\n",
            "Requirement already satisfied: nbclassic>=0.4.7 in /usr/local/lib/python3.10/dist-packages (from notebook>=4.4.1->widgetsnbextension~=3.6.0->ipywidgets>=7.6.5->pycaret) (1.0.0)\n",
            "Requirement already satisfied: jupyter-server>=1.8 in /usr/local/lib/python3.10/dist-packages (from nbclassic>=0.4.7->notebook>=4.4.1->widgetsnbextension~=3.6.0->ipywidgets>=7.6.5->pycaret) (1.24.0)\n",
            "Requirement already satisfied: notebook-shim>=0.2.3 in /usr/local/lib/python3.10/dist-packages (from nbclassic>=0.4.7->notebook>=4.4.1->widgetsnbextension~=3.6.0->ipywidgets>=7.6.5->pycaret) (0.2.3)\n",
            "Requirement already satisfied: lxml in /usr/local/lib/python3.10/dist-packages (from nbconvert>=5->notebook>=4.4.1->widgetsnbextension~=3.6.0->ipywidgets>=7.6.5->pycaret) (4.9.3)\n",
            "Requirement already satisfied: beautifulsoup4 in /usr/local/lib/python3.10/dist-packages (from nbconvert>=5->notebook>=4.4.1->widgetsnbextension~=3.6.0->ipywidgets>=7.6.5->pycaret) (4.11.2)\n",
            "Requirement already satisfied: bleach in /usr/local/lib/python3.10/dist-packages (from nbconvert>=5->notebook>=4.4.1->widgetsnbextension~=3.6.0->ipywidgets>=7.6.5->pycaret) (6.0.0)\n",
            "Requirement already satisfied: defusedxml in /usr/local/lib/python3.10/dist-packages (from nbconvert>=5->notebook>=4.4.1->widgetsnbextension~=3.6.0->ipywidgets>=7.6.5->pycaret) (0.7.1)\n",
            "Requirement already satisfied: entrypoints>=0.2.2 in /usr/local/lib/python3.10/dist-packages (from nbconvert>=5->notebook>=4.4.1->widgetsnbextension~=3.6.0->ipywidgets>=7.6.5->pycaret) (0.4)\n",
            "Requirement already satisfied: jupyterlab-pygments in /usr/local/lib/python3.10/dist-packages (from nbconvert>=5->notebook>=4.4.1->widgetsnbextension~=3.6.0->ipywidgets>=7.6.5->pycaret) (0.2.2)\n",
            "Requirement already satisfied: mistune<2,>=0.8.1 in /usr/local/lib/python3.10/dist-packages (from nbconvert>=5->notebook>=4.4.1->widgetsnbextension~=3.6.0->ipywidgets>=7.6.5->pycaret) (0.8.4)\n",
            "Requirement already satisfied: nbclient>=0.5.0 in /usr/local/lib/python3.10/dist-packages (from nbconvert>=5->notebook>=4.4.1->widgetsnbextension~=3.6.0->ipywidgets>=7.6.5->pycaret) (0.8.0)\n",
            "Requirement already satisfied: pandocfilters>=1.4.1 in /usr/local/lib/python3.10/dist-packages (from nbconvert>=5->notebook>=4.4.1->widgetsnbextension~=3.6.0->ipywidgets>=7.6.5->pycaret) (1.5.0)\n",
            "Requirement already satisfied: tinycss2 in /usr/local/lib/python3.10/dist-packages (from nbconvert>=5->notebook>=4.4.1->widgetsnbextension~=3.6.0->ipywidgets>=7.6.5->pycaret) (1.2.1)\n",
            "Requirement already satisfied: argon2-cffi-bindings in /usr/local/lib/python3.10/dist-packages (from argon2-cffi->notebook>=4.4.1->widgetsnbextension~=3.6.0->ipywidgets>=7.6.5->pycaret) (21.2.0)\n",
            "Requirement already satisfied: anyio<4,>=3.1.0 in /usr/local/lib/python3.10/dist-packages (from jupyter-server>=1.8->nbclassic>=0.4.7->notebook>=4.4.1->widgetsnbextension~=3.6.0->ipywidgets>=7.6.5->pycaret) (3.7.1)\n",
            "Requirement already satisfied: websocket-client in /usr/local/lib/python3.10/dist-packages (from jupyter-server>=1.8->nbclassic>=0.4.7->notebook>=4.4.1->widgetsnbextension~=3.6.0->ipywidgets>=7.6.5->pycaret) (1.6.2)\n",
            "Requirement already satisfied: cffi>=1.0.1 in /usr/local/lib/python3.10/dist-packages (from argon2-cffi-bindings->argon2-cffi->notebook>=4.4.1->widgetsnbextension~=3.6.0->ipywidgets>=7.6.5->pycaret) (1.15.1)\n",
            "Requirement already satisfied: soupsieve>1.2 in /usr/local/lib/python3.10/dist-packages (from beautifulsoup4->nbconvert>=5->notebook>=4.4.1->widgetsnbextension~=3.6.0->ipywidgets>=7.6.5->pycaret) (2.5)\n",
            "Requirement already satisfied: webencodings in /usr/local/lib/python3.10/dist-packages (from bleach->nbconvert>=5->notebook>=4.4.1->widgetsnbextension~=3.6.0->ipywidgets>=7.6.5->pycaret) (0.5.1)\n",
            "Requirement already satisfied: sniffio>=1.1 in /usr/local/lib/python3.10/dist-packages (from anyio<4,>=3.1.0->jupyter-server>=1.8->nbclassic>=0.4.7->notebook>=4.4.1->widgetsnbextension~=3.6.0->ipywidgets>=7.6.5->pycaret) (1.3.0)\n",
            "Requirement already satisfied: exceptiongroup in /usr/local/lib/python3.10/dist-packages (from anyio<4,>=3.1.0->jupyter-server>=1.8->nbclassic>=0.4.7->notebook>=4.4.1->widgetsnbextension~=3.6.0->ipywidgets>=7.6.5->pycaret) (1.1.3)\n",
            "Requirement already satisfied: pycparser in /usr/local/lib/python3.10/dist-packages (from cffi>=1.0.1->argon2-cffi-bindings->argon2-cffi->notebook>=4.4.1->widgetsnbextension~=3.6.0->ipywidgets>=7.6.5->pycaret) (2.21)\n",
            "Building wheels for collected packages: pyod\n",
            "  Building wheel for pyod (setup.py) ... \u001b[?25l\u001b[?25hdone\n",
            "  Created wheel for pyod: filename=pyod-1.1.0-py3-none-any.whl size=185329 sha256=edf29021c38ad0ba8644b5eed73b4a811860e4637a15bc801d923e50f561cc69\n",
            "  Stored in directory: /root/.cache/pip/wheels/36/8e/e2/e932956b10b843eb6be9eefa70b5c1bee7b561be14c423b136\n",
            "Successfully built pyod\n",
            "Installing collected packages: trace-updater, kaleido, dash-table, dash-html-components, dash-core-components, xxhash, wurlitzer, Werkzeug, tsdownsample, scikit-base, schemdraw, retrying, orjson, jedi, deprecation, deprecated, ansi2html, sktime, scikit-plot, pyod, dash, pmdarima, plotly-resampler, category-encoders, tbats, pycaret\n",
            "  Attempting uninstall: Werkzeug\n",
            "    Found existing installation: Werkzeug 2.3.7\n",
            "    Uninstalling Werkzeug-2.3.7:\n",
            "      Successfully uninstalled Werkzeug-2.3.7\n",
            "Successfully installed Werkzeug-2.2.3 ansi2html-1.8.0 category-encoders-2.6.2 dash-2.13.0 dash-core-components-2.0.0 dash-html-components-2.0.0 dash-table-5.0.0 deprecated-1.2.14 deprecation-2.1.0 jedi-0.19.0 kaleido-0.2.1 orjson-3.9.7 plotly-resampler-0.9.1 pmdarima-2.0.3 pycaret-3.1.0 pyod-1.1.0 retrying-1.3.4 schemdraw-0.15 scikit-base-0.5.1 scikit-plot-0.3.7 sktime-0.21.1 tbats-1.1.3 trace-updater-0.0.9.1 tsdownsample-0.1.2 wurlitzer-3.0.3 xxhash-3.3.0\n"
          ]
        }
      ],
      "source": [
        "pip install pycaret"
      ]
    },
    {
      "cell_type": "code",
      "source": [
        "from google.colab import drive\n",
        "drive.mount('/content/drive')"
      ],
      "metadata": {
        "colab": {
          "base_uri": "https://localhost:8080/"
        },
        "id": "yBLLpyiZxddz",
        "outputId": "fb92e044-57f1-4513-dfd2-1bb612390ff6"
      },
      "execution_count": 2,
      "outputs": [
        {
          "output_type": "stream",
          "name": "stdout",
          "text": [
            "Mounted at /content/drive\n"
          ]
        }
      ]
    },
    {
      "cell_type": "code",
      "source": [
        "import pandas as pd\n",
        "path = \"/content/drive/MyDrive/shopping_clustering_dataset.csv\"\n",
        "data = pd.read_csv(path)"
      ],
      "metadata": {
        "id": "cy6TSLnax2Mk"
      },
      "execution_count": 3,
      "outputs": []
    },
    {
      "cell_type": "code",
      "source": [
        "from pycaret.clustering import *\n",
        "\n",
        "clu1 = setup(data, session_id=123)"
      ],
      "metadata": {
        "colab": {
          "base_uri": "https://localhost:8080/",
          "height": 457
        },
        "id": "Amk7cwO1yJM2",
        "outputId": "dd74fdec-b08b-48b8-ec06-655f0b342049"
      },
      "execution_count": 4,
      "outputs": [
        {
          "output_type": "display_data",
          "data": {
            "text/plain": [
              "<pandas.io.formats.style.Styler at 0x7ff2288443d0>"
            ],
            "text/html": [
              "<style type=\"text/css\">\n",
              "#T_55ebb_row4_col1 {\n",
              "  background-color: lightgreen;\n",
              "}\n",
              "</style>\n",
              "<table id=\"T_55ebb\" class=\"dataframe\">\n",
              "  <thead>\n",
              "    <tr>\n",
              "      <th class=\"blank level0\" >&nbsp;</th>\n",
              "      <th id=\"T_55ebb_level0_col0\" class=\"col_heading level0 col0\" >Description</th>\n",
              "      <th id=\"T_55ebb_level0_col1\" class=\"col_heading level0 col1\" >Value</th>\n",
              "    </tr>\n",
              "  </thead>\n",
              "  <tbody>\n",
              "    <tr>\n",
              "      <th id=\"T_55ebb_level0_row0\" class=\"row_heading level0 row0\" >0</th>\n",
              "      <td id=\"T_55ebb_row0_col0\" class=\"data row0 col0\" >Session id</td>\n",
              "      <td id=\"T_55ebb_row0_col1\" class=\"data row0 col1\" >123</td>\n",
              "    </tr>\n",
              "    <tr>\n",
              "      <th id=\"T_55ebb_level0_row1\" class=\"row_heading level0 row1\" >1</th>\n",
              "      <td id=\"T_55ebb_row1_col0\" class=\"data row1 col0\" >Original data shape</td>\n",
              "      <td id=\"T_55ebb_row1_col1\" class=\"data row1 col1\" >(1000, 5)</td>\n",
              "    </tr>\n",
              "    <tr>\n",
              "      <th id=\"T_55ebb_level0_row2\" class=\"row_heading level0 row2\" >2</th>\n",
              "      <td id=\"T_55ebb_row2_col0\" class=\"data row2 col0\" >Transformed data shape</td>\n",
              "      <td id=\"T_55ebb_row2_col1\" class=\"data row2 col1\" >(1000, 5)</td>\n",
              "    </tr>\n",
              "    <tr>\n",
              "      <th id=\"T_55ebb_level0_row3\" class=\"row_heading level0 row3\" >3</th>\n",
              "      <td id=\"T_55ebb_row3_col0\" class=\"data row3 col0\" >Numeric features</td>\n",
              "      <td id=\"T_55ebb_row3_col1\" class=\"data row3 col1\" >5</td>\n",
              "    </tr>\n",
              "    <tr>\n",
              "      <th id=\"T_55ebb_level0_row4\" class=\"row_heading level0 row4\" >4</th>\n",
              "      <td id=\"T_55ebb_row4_col0\" class=\"data row4 col0\" >Preprocess</td>\n",
              "      <td id=\"T_55ebb_row4_col1\" class=\"data row4 col1\" >True</td>\n",
              "    </tr>\n",
              "    <tr>\n",
              "      <th id=\"T_55ebb_level0_row5\" class=\"row_heading level0 row5\" >5</th>\n",
              "      <td id=\"T_55ebb_row5_col0\" class=\"data row5 col0\" >Imputation type</td>\n",
              "      <td id=\"T_55ebb_row5_col1\" class=\"data row5 col1\" >simple</td>\n",
              "    </tr>\n",
              "    <tr>\n",
              "      <th id=\"T_55ebb_level0_row6\" class=\"row_heading level0 row6\" >6</th>\n",
              "      <td id=\"T_55ebb_row6_col0\" class=\"data row6 col0\" >Numeric imputation</td>\n",
              "      <td id=\"T_55ebb_row6_col1\" class=\"data row6 col1\" >mean</td>\n",
              "    </tr>\n",
              "    <tr>\n",
              "      <th id=\"T_55ebb_level0_row7\" class=\"row_heading level0 row7\" >7</th>\n",
              "      <td id=\"T_55ebb_row7_col0\" class=\"data row7 col0\" >Categorical imputation</td>\n",
              "      <td id=\"T_55ebb_row7_col1\" class=\"data row7 col1\" >mode</td>\n",
              "    </tr>\n",
              "    <tr>\n",
              "      <th id=\"T_55ebb_level0_row8\" class=\"row_heading level0 row8\" >8</th>\n",
              "      <td id=\"T_55ebb_row8_col0\" class=\"data row8 col0\" >CPU Jobs</td>\n",
              "      <td id=\"T_55ebb_row8_col1\" class=\"data row8 col1\" >-1</td>\n",
              "    </tr>\n",
              "    <tr>\n",
              "      <th id=\"T_55ebb_level0_row9\" class=\"row_heading level0 row9\" >9</th>\n",
              "      <td id=\"T_55ebb_row9_col0\" class=\"data row9 col0\" >Use GPU</td>\n",
              "      <td id=\"T_55ebb_row9_col1\" class=\"data row9 col1\" >False</td>\n",
              "    </tr>\n",
              "    <tr>\n",
              "      <th id=\"T_55ebb_level0_row10\" class=\"row_heading level0 row10\" >10</th>\n",
              "      <td id=\"T_55ebb_row10_col0\" class=\"data row10 col0\" >Log Experiment</td>\n",
              "      <td id=\"T_55ebb_row10_col1\" class=\"data row10 col1\" >False</td>\n",
              "    </tr>\n",
              "    <tr>\n",
              "      <th id=\"T_55ebb_level0_row11\" class=\"row_heading level0 row11\" >11</th>\n",
              "      <td id=\"T_55ebb_row11_col0\" class=\"data row11 col0\" >Experiment Name</td>\n",
              "      <td id=\"T_55ebb_row11_col1\" class=\"data row11 col1\" >cluster-default-name</td>\n",
              "    </tr>\n",
              "    <tr>\n",
              "      <th id=\"T_55ebb_level0_row12\" class=\"row_heading level0 row12\" >12</th>\n",
              "      <td id=\"T_55ebb_row12_col0\" class=\"data row12 col0\" >USI</td>\n",
              "      <td id=\"T_55ebb_row12_col1\" class=\"data row12 col1\" >46ab</td>\n",
              "    </tr>\n",
              "  </tbody>\n",
              "</table>\n"
            ]
          },
          "metadata": {}
        }
      ]
    },
    {
      "cell_type": "code",
      "source": [
        "kmeans = create_model('kmeans', num_clusters=3)"
      ],
      "metadata": {
        "colab": {
          "base_uri": "https://localhost:8080/",
          "height": 98,
          "referenced_widgets": [
            "830ad914ec9c4fc3a352d4b57de89381",
            "c8ab4995b2de492c8fb6c36d571a53dc",
            "835446177f984065aea71e614a271bc8",
            "84fdfbd215db4ac4a88cee1c22a4c28d",
            "e9633e08ecc14141b11ac386fcbd0db8",
            "aa931cdf3c7f4a8ea0dfa2153df76b84",
            "3bc02412eea04eed85dc8f2795e5f6b3",
            "14428eb1b00b4171934cd12cf0a4c5b5",
            "ca1154333cde412cac6212c76dbe628f",
            "bec86da2ffd24d9eb287837f1b23c7da",
            "7d08e68125894ad68ead5034b277e902"
          ]
        },
        "id": "ZNnxTvYgyx5T",
        "outputId": "cb52051a-284d-4a61-85d6-9f736246b8c1"
      },
      "execution_count": 5,
      "outputs": [
        {
          "output_type": "display_data",
          "data": {
            "text/plain": [
              "<IPython.core.display.HTML object>"
            ],
            "text/html": []
          },
          "metadata": {}
        },
        {
          "output_type": "display_data",
          "data": {
            "text/plain": [
              "<pandas.io.formats.style.Styler at 0x7ff221490280>"
            ],
            "text/html": [
              "<style type=\"text/css\">\n",
              "</style>\n",
              "<table id=\"T_a14fc\" class=\"dataframe\">\n",
              "  <thead>\n",
              "    <tr>\n",
              "      <th class=\"blank level0\" >&nbsp;</th>\n",
              "      <th id=\"T_a14fc_level0_col0\" class=\"col_heading level0 col0\" >Silhouette</th>\n",
              "      <th id=\"T_a14fc_level0_col1\" class=\"col_heading level0 col1\" >Calinski-Harabasz</th>\n",
              "      <th id=\"T_a14fc_level0_col2\" class=\"col_heading level0 col2\" >Davies-Bouldin</th>\n",
              "      <th id=\"T_a14fc_level0_col3\" class=\"col_heading level0 col3\" >Homogeneity</th>\n",
              "      <th id=\"T_a14fc_level0_col4\" class=\"col_heading level0 col4\" >Rand Index</th>\n",
              "      <th id=\"T_a14fc_level0_col5\" class=\"col_heading level0 col5\" >Completeness</th>\n",
              "    </tr>\n",
              "  </thead>\n",
              "  <tbody>\n",
              "    <tr>\n",
              "      <th id=\"T_a14fc_level0_row0\" class=\"row_heading level0 row0\" >0</th>\n",
              "      <td id=\"T_a14fc_row0_col0\" class=\"data row0 col0\" >0.5862</td>\n",
              "      <td id=\"T_a14fc_row0_col1\" class=\"data row0 col1\" >4012.7214</td>\n",
              "      <td id=\"T_a14fc_row0_col2\" class=\"data row0 col2\" >0.5126</td>\n",
              "      <td id=\"T_a14fc_row0_col3\" class=\"data row0 col3\" >0</td>\n",
              "      <td id=\"T_a14fc_row0_col4\" class=\"data row0 col4\" >0</td>\n",
              "      <td id=\"T_a14fc_row0_col5\" class=\"data row0 col5\" >0</td>\n",
              "    </tr>\n",
              "  </tbody>\n",
              "</table>\n"
            ]
          },
          "metadata": {}
        },
        {
          "output_type": "display_data",
          "data": {
            "text/plain": [
              "Processing:   0%|          | 0/3 [00:00<?, ?it/s]"
            ],
            "application/vnd.jupyter.widget-view+json": {
              "version_major": 2,
              "version_minor": 0,
              "model_id": "830ad914ec9c4fc3a352d4b57de89381"
            }
          },
          "metadata": {
            "application/vnd.jupyter.widget-view+json": {
              "colab": {
                "custom_widget_manager": {
                  "url": "https://ssl.gstatic.com/colaboratory-static/widgets/colab-cdn-widget-manager/b3e629b1971e1542/manager.min.js"
                }
              }
            }
          }
        },
        {
          "output_type": "display_data",
          "data": {
            "text/plain": [
              "<IPython.core.display.HTML object>"
            ],
            "text/html": []
          },
          "metadata": {}
        }
      ]
    },
    {
      "cell_type": "code",
      "source": [
        "kmeans_results = assign_model(kmeans)"
      ],
      "metadata": {
        "id": "oWVDsGwWy-64"
      },
      "execution_count": 6,
      "outputs": []
    },
    {
      "cell_type": "code",
      "source": [
        "print(kmeans_results.head())"
      ],
      "metadata": {
        "colab": {
          "base_uri": "https://localhost:8080/"
        },
        "id": "5ZsQo-5szCty",
        "outputId": "88b93050-6f46-4f9a-d2f3-9930d8aa6734"
      },
      "execution_count": 7,
      "outputs": [
        {
          "output_type": "stream",
          "name": "stdout",
          "text": [
            "   Age  Income  Gender  Number_of_Visits  Average_Spending    Cluster\n",
            "0   59    9960       1                 0        378.945679  Cluster 1\n",
            "1   47    1187       0                 1        493.451843  Cluster 2\n",
            "2   39    3480       1                 4         52.930607  Cluster 2\n",
            "3   25    5377       1                 7        194.326096  Cluster 0\n",
            "4   38    7833       0                 4         41.555870  Cluster 1\n"
          ]
        }
      ]
    },
    {
      "cell_type": "code",
      "source": [
        "plot_model(kmeans, plot='elbow')"
      ],
      "metadata": {
        "colab": {
          "base_uri": "https://localhost:8080/",
          "height": 505
        },
        "id": "zBZcupxGzG_V",
        "outputId": "744c4dfc-955e-4b5d-9516-603849322153"
      },
      "execution_count": 8,
      "outputs": [
        {
          "output_type": "display_data",
          "data": {
            "text/plain": [
              "<IPython.core.display.HTML object>"
            ],
            "text/html": []
          },
          "metadata": {}
        },
        {
          "output_type": "display_data",
          "data": {
            "text/plain": [
              "<Figure size 800x550 with 1 Axes>"
            ],
            "image/png": "[encoded data removed]"
          },
          "metadata": {}
        }
      ]
    },
    {
      "cell_type": "code",
      "source": [
        "plot_model(kmeans, plot='distribution')"
      ],
      "metadata": {
        "colab": {
          "base_uri": "https://localhost:8080/",
          "height": 617
        },
        "id": "ODKToijVzKZz",
        "outputId": "77df62b1-118a-4f55-dd3a-1d0dcde5ca1f"
      },
      "execution_count": 9,
      "outputs": [
        {
          "output_type": "display_data",
          "data": {
            "text/plain": [
              "<IPython.core.display.HTML object>"
            ],
            "text/html": []
          },
          "metadata": {}
        },
        {
          "output_type": "display_data",
          "data": {
            "text/html": [
              "<html>\n",
              "<head><meta charset=\"utf-8\" /></head>\n",
              "<body>\n",
              "    <div>            <script src=\"https://cdnjs.cloudflare.com/ajax/libs/mathjax/2.7.5/MathJax.js?config=TeX-AMS-MML_SVG\"></script><script type=\"text/javascript\">if (window.MathJax && window.MathJax.Hub && window.MathJax.Hub.Config) {window.MathJax.Hub.Config({SVG: {font: \"STIX-Web\"}});}</script>                <script type=\"text/javascript\">window.PlotlyConfig = {MathJaxConfig: 'local'};</script>\n",
              "        <script charset=\"utf-8\" src=\"https://cdn.plot.ly/plotly-2.24.1.min.js\"></script>                <div id=\"9a68ecc0-ffd8-4709-9555-97ae82767789\" class=\"plotly-graph-div\" style=\"height:600px; width:100%;\"></div>            <script type=\"text/javascript\">                                    window.PLOTLYENV=window.PLOTLYENV || {};                                    if (document.getElementById(\"9a68ecc0-ffd8-4709-9555-97ae82767789\")) {                    Plotly.newPlot(                        \"9a68ecc0-ffd8-4709-9555-97ae82767789\",                        [{\"alignmentgroup\":\"True\",\"bingroup\":\"x\",\"hovertemplate\":\"Cluster=%{x}\\u003cbr\\u003ecount=%{y}\\u003cextra\\u003e\\u003c\\u002fextra\\u003e\",\"legendgroup\":\"Cluster 0\",\"marker\":{\"color\":\"#636efa\",\"opacity\":0.7,\"pattern\":{\"shape\":\"\"}},\"name\":\"Cluster 0\",\"offsetgroup\":\"Cluster 0\",\"orientation\":\"v\",\"showlegend\":true,\"x\":[\"Cluster 0\",\"Cluster 0\",\"Cluster 0\",\"Cluster 0\",\"Cluster 0\",\"Cluster 0\",\"Cluster 0\",\"Cluster 0\",\"Cluster 0\",\"Cluster 0\",\"Cluster 0\",\"Cluster 0\",\"Cluster 0\",\"Cluster 0\",\"Cluster 0\",\"Cluster 0\",\"Cluster 0\",\"Cluster 0\",\"Cluster 0\",\"Cluster 0\",\"Cluster 0\",\"Cluster 0\",\"Cluster 0\",\"Cluster 0\",\"Cluster 0\",\"Cluster 0\",\"Cluster 0\",\"Cluster 0\",\"Cluster 0\",\"Cluster 0\",\"Cluster 0\",\"Cluster 0\",\"Cluster 0\",\"Cluster 0\",\"Cluster 0\",\"Cluster 0\",\"Cluster 0\",\"Cluster 0\",\"Cluster 0\",\"Cluster 0\",\"Cluster 0\",\"Cluster 0\",\"Cluster 0\",\"Cluster 0\",\"Cluster 0\",\"Cluster 0\",\"Cluster 0\",\"Cluster 0\",\"Cluster 0\",\"Cluster 0\",\"Cluster 0\",\"Cluster 0\",\"Cluster 0\",\"Cluster 0\",\"Cluster 0\",\"Cluster 0\",\"Cluster 0\",\"Cluster 0\",\"Cluster 0\",\"Cluster 0\",\"Cluster 0\",\"Cluster 0\",\"Cluster 0\",\"Cluster 0\",\"Cluster 0\",\"Cluster 0\",\"Cluster 0\",\"Cluster 0\",\"Cluster 0\",\"Cluster 0\",\"Cluster 0\",\"Cluster 0\",\"Cluster 0\",\"Cluster 0\",\"Cluster 0\",\"Cluster 0\",\"Cluster 0\",\"Cluster 0\",\"Cluster 0\",\"Cluster 0\",\"Cluster 0\",\"Cluster 0\",\"Cluster 0\",\"Cluster 0\",\"Cluster 0\",\"Cluster 0\",\"Cluster 0\",\"Cluster 0\",\"Cluster 0\",\"Cluster 0\",\"Cluster 0\",\"Cluster 0\",\"Cluster 0\",\"Cluster 0\",\"Cluster 0\",\"Cluster 0\",\"Cluster 0\",\"Cluster 0\",\"Cluster 0\",\"Cluster 0\",\"Cluster 0\",\"Cluster 0\",\"Cluster 0\",\"Cluster 0\",\"Cluster 0\",\"Cluster 0\",\"Cluster 0\",\"Cluster 0\",\"Cluster 0\",\"Cluster 0\",\"Cluster 0\",\"Cluster 0\",\"Cluster 0\",\"Cluster 0\",\"Cluster 0\",\"Cluster 0\",\"Cluster 0\",\"Cluster 0\",\"Cluster 0\",\"Cluster 0\",\"Cluster 0\",\"Cluster 0\",\"Cluster 0\",\"Cluster 0\",\"Cluster 0\",\"Cluster 0\",\"Cluster 0\",\"Cluster 0\",\"Cluster 0\",\"Cluster 0\",\"Cluster 0\",\"Cluster 0\",\"Cluster 0\",\"Cluster 0\",\"Cluster 0\",\"Cluster 0\",\"Cluster 0\",\"Cluster 0\",\"Cluster 0\",\"Cluster 0\",\"Cluster 0\",\"Cluster 0\",\"Cluster 0\",\"Cluster 0\",\"Cluster 0\",\"Cluster 0\",\"Cluster 0\",\"Cluster 0\",\"Cluster 0\",\"Cluster 0\",\"Cluster 0\",\"Cluster 0\",\"Cluster 0\",\"Cluster 0\",\"Cluster 0\",\"Cluster 0\",\"Cluster 0\",\"Cluster 0\",\"Cluster 0\",\"Cluster 0\",\"Cluster 0\",\"Cluster 0\",\"Cluster 0\",\"Cluster 0\",\"Cluster 0\",\"Cluster 0\",\"Cluster 0\",\"Cluster 0\",\"Cluster 0\",\"Cluster 0\",\"Cluster 0\",\"Cluster 0\",\"Cluster 0\",\"Cluster 0\",\"Cluster 0\",\"Cluster 0\",\"Cluster 0\",\"Cluster 0\",\"Cluster 0\",\"Cluster 0\",\"Cluster 0\",\"Cluster 0\",\"Cluster 0\",\"Cluster 0\",\"Cluster 0\",\"Cluster 0\",\"Cluster 0\",\"Cluster 0\",\"Cluster 0\",\"Cluster 0\",\"Cluster 0\",\"Cluster 0\",\"Cluster 0\",\"Cluster 0\",\"Cluster 0\",\"Cluster 0\",\"Cluster 0\",\"Cluster 0\",\"Cluster 0\",\"Cluster 0\",\"Cluster 0\",\"Cluster 0\",\"Cluster 0\",\"Cluster 0\",\"Cluster 0\",\"Cluster 0\",\"Cluster 0\",\"Cluster 0\",\"Cluster 0\",\"Cluster 0\",\"Cluster 0\",\"Cluster 0\",\"Cluster 0\",\"Cluster 0\",\"Cluster 0\",\"Cluster 0\",\"Cluster 0\",\"Cluster 0\",\"Cluster 0\",\"Cluster 0\",\"Cluster 0\",\"Cluster 0\",\"Cluster 0\",\"Cluster 0\",\"Cluster 0\",\"Cluster 0\",\"Cluster 0\",\"Cluster 0\",\"Cluster 0\",\"Cluster 0\",\"Cluster 0\",\"Cluster 0\",\"Cluster 0\",\"Cluster 0\",\"Cluster 0\",\"Cluster 0\",\"Cluster 0\",\"Cluster 0\",\"Cluster 0\",\"Cluster 0\",\"Cluster 0\",\"Cluster 0\",\"Cluster 0\",\"Cluster 0\",\"Cluster 0\",\"Cluster 0\",\"Cluster 0\",\"Cluster 0\",\"Cluster 0\",\"Cluster 0\",\"Cluster 0\",\"Cluster 0\",\"Cluster 0\",\"Cluster 0\",\"Cluster 0\",\"Cluster 0\",\"Cluster 0\",\"Cluster 0\",\"Cluster 0\",\"Cluster 0\",\"Cluster 0\",\"Cluster 0\",\"Cluster 0\",\"Cluster 0\",\"Cluster 0\",\"Cluster 0\",\"Cluster 0\",\"Cluster 0\",\"Cluster 0\",\"Cluster 0\",\"Cluster 0\",\"Cluster 0\",\"Cluster 0\",\"Cluster 0\",\"Cluster 0\",\"Cluster 0\",\"Cluster 0\",\"Cluster 0\",\"Cluster 0\",\"Cluster 0\",\"Cluster 0\",\"Cluster 0\",\"Cluster 0\",\"Cluster 0\",\"Cluster 0\",\"Cluster 0\",\"Cluster 0\",\"Cluster 0\",\"Cluster 0\",\"Cluster 0\",\"Cluster 0\",\"Cluster 0\",\"Cluster 0\",\"Cluster 0\",\"Cluster 0\",\"Cluster 0\",\"Cluster 0\",\"Cluster 0\",\"Cluster 0\",\"Cluster 0\",\"Cluster 0\",\"Cluster 0\",\"Cluster 0\",\"Cluster 0\",\"Cluster 0\",\"Cluster 0\",\"Cluster 0\",\"Cluster 0\",\"Cluster 0\",\"Cluster 0\",\"Cluster 0\",\"Cluster 0\",\"Cluster 0\",\"Cluster 0\",\"Cluster 0\",\"Cluster 0\",\"Cluster 0\",\"Cluster 0\",\"Cluster 0\",\"Cluster 0\",\"Cluster 0\",\"Cluster 0\",\"Cluster 0\",\"Cluster 0\",\"Cluster 0\",\"Cluster 0\",\"Cluster 0\",\"Cluster 0\",\"Cluster 0\",\"Cluster 0\",\"Cluster 0\",\"Cluster 0\",\"Cluster 0\",\"Cluster 0\",\"Cluster 0\",\"Cluster 0\"],\"xaxis\":\"x\",\"yaxis\":\"y\",\"type\":\"histogram\"},{\"alignmentgroup\":\"True\",\"customdata\":[[45.0,4445.0,0.0,3.0,317.2607727050781],[65.0,5392.0,0.0,9.0,241.29310607910156],[61.0,4568.0,0.0,8.0,203.0528564453125],[38.0,4339.0,1.0,5.0,439.3933410644531],[50.0,5755.0,1.0,5.0,332.16143798828125],[41.0,6406.0,1.0,0.0,484.9034423828125],[47.0,4863.0,0.0,6.0,76.23152923583984],[21.0,6248.0,0.0,9.0,350.2066955566406],[20.0,6120.0,0.0,5.0,482.6634521484375],[40.0,4675.0,0.0,9.0,459.80084228515625],[24.0,5450.0,1.0,4.0,302.8199157714844],[27.0,4377.0,0.0,7.0,57.2679443359375],[24.0,6174.0,0.0,0.0,410.60601806640625],[46.0,5029.0,0.0,4.0,162.61158752441406],[41.0,4141.0,1.0,1.0,145.69915771484375],[63.0,5119.0,0.0,9.0,321.0154113769531],[56.0,4191.0,1.0,6.0,115.05743408203125],[31.0,5756.0,1.0,6.0,470.988525390625],[37.0,6076.0,1.0,0.0,237.8612823486328],[51.0,4560.0,0.0,3.0,454.2004699707031],[26.0,5644.0,0.0,7.0,187.6443634033203],[26.0,4367.0,0.0,0.0,368.2629699707031],[19.0,5174.0,0.0,7.0,464.4095764160156],[43.0,5349.0,1.0,9.0,183.2353515625],[27.0,5269.0,0.0,2.0,222.86936950683594],[46.0,6554.0,1.0,3.0,67.24394226074219],[52.0,6431.0,0.0,7.0,120.9525146484375],[49.0,6549.0,0.0,6.0,195.27865600585938],[62.0,5384.0,0.0,6.0,51.713478088378906],[30.0,6920.0,1.0,6.0,59.26958084106445],[36.0,4815.0,1.0,5.0,418.8291931152344],[63.0,6873.0,0.0,1.0,59.5211296081543],[44.0,5069.0,0.0,7.0,73.63990783691406],[37.0,5716.0,1.0,5.0,64.18872833251953],[28.0,6774.0,0.0,0.0,26.38539695739746],[48.0,4002.0,1.0,7.0,364.1914978027344],[35.0,4194.0,0.0,2.0,124.9159164428711],[51.0,6903.0,0.0,8.0,308.0813903808594],[64.0,4643.0,0.0,6.0,226.36712646484375],[25.0,5971.0,0.0,1.0,45.895572662353516],[33.0,4961.0,1.0,5.0,111.93119049072266],[47.0,4763.0,1.0,1.0,270.1336975097656],[22.0,4552.0,0.0,3.0,75.56208038330078],[63.0,6178.0,0.0,9.0,341.2548828125],[47.0,6905.0,0.0,5.0,473.27777099609375],[34.0,6484.0,1.0,9.0,123.22270202636719],[63.0,5438.0,1.0,4.0,218.2194061279297],[61.0,4759.0,1.0,3.0,47.7281379699707],[56.0,5412.0,1.0,8.0,150.4765625],[56.0,4287.0,1.0,3.0,468.53997802734375],[49.0,5941.0,0.0,5.0,205.6551055908203],[47.0,7061.0,0.0,7.0,334.6010437011719],[38.0,5231.0,1.0,4.0,155.0771026611328],[38.0,6152.0,1.0,0.0,494.9759216308594],[33.0,5437.0,0.0,9.0,21.259258270263672],[58.0,5476.0,1.0,0.0,280.57342529296875],[20.0,4784.0,0.0,9.0,434.1134948730469],[44.0,5275.0,0.0,9.0,236.97869873046875],[49.0,6940.0,1.0,0.0,293.6831359863281],[39.0,4727.0,0.0,7.0,185.8749237060547],[29.0,6072.0,1.0,4.0,497.27423095703125],[23.0,5401.0,1.0,7.0,119.76683044433594],[21.0,5077.0,1.0,1.0,203.0538787841797],[23.0,4191.0,1.0,8.0,326.5398864746094],[26.0,5713.0,0.0,7.0,166.7086944580078],[23.0,4798.0,1.0,1.0,374.985107421875],[53.0,4938.0,1.0,9.0,320.37115478515625],[36.0,5214.0,0.0,7.0,371.2388000488281],[42.0,5001.0,1.0,6.0,328.9764404296875],[33.0,6697.0,0.0,9.0,392.8320617675781],[32.0,6462.0,0.0,8.0,159.86929321289062],[29.0,4355.0,0.0,2.0,68.26436614990234],[42.0,5153.0,0.0,0.0,38.91783905029297],[47.0,4683.0,0.0,3.0,293.67156982421875],[20.0,4904.0,1.0,9.0,435.412841796875],[43.0,6069.0,1.0,8.0,269.0252990722656],[40.0,6710.0,0.0,0.0,231.98599243164062],[50.0,4449.0,1.0,5.0,291.4698181152344],[19.0,5981.0,0.0,4.0,400.697998046875],[47.0,5685.0,0.0,1.0,72.1158676147461],[20.0,6313.0,1.0,8.0,439.324951171875],[29.0,5452.0,1.0,7.0,107.48481750488281],[42.0,6756.0,0.0,9.0,371.0897521972656],[38.0,5195.0,1.0,4.0,276.026611328125],[32.0,5836.0,1.0,3.0,355.81878662109375],[44.0,5501.0,0.0,2.0,32.558467864990234],[55.0,6745.0,0.0,8.0,233.95127868652344],[65.0,5305.0,0.0,3.0,450.13525390625],[48.0,6461.0,1.0,7.0,325.042724609375],[40.0,5333.0,0.0,0.0,59.361572265625],[30.0,6986.0,1.0,4.0,412.0367431640625],[59.0,6767.0,1.0,0.0,44.015865325927734],[37.0,4489.0,1.0,7.0,108.53302001953125],[30.0,4983.0,1.0,2.0,77.89514923095703],[20.0,6051.0,0.0,6.0,69.82553100585938],[24.0,5724.0,1.0,3.0,141.8118133544922],[62.0,6796.0,1.0,7.0,365.3398742675781],[62.0,4727.0,0.0,3.0,315.837890625],[25.0,6190.0,0.0,4.0,389.6783142089844],[59.0,4786.0,0.0,7.0,149.82437133789062],[63.0,6608.0,1.0,4.0,278.9883728027344],[52.0,4381.0,1.0,0.0,76.17237091064453],[49.0,6197.0,1.0,1.0,335.15325927734375],[43.0,6157.0,0.0,9.0,120.34379577636719],[64.0,5566.0,1.0,6.0,287.9437561035156],[29.0,6564.0,0.0,5.0,328.4647521972656],[18.0,4631.0,0.0,8.0,368.64093017578125],[53.0,5201.0,0.0,0.0,172.94883728027344],[48.0,6634.0,1.0,9.0,248.81268310546875],[50.0,5457.0,0.0,2.0,38.673587799072266],[46.0,6566.0,0.0,3.0,476.3255310058594],[25.0,5818.0,0.0,5.0,66.06770324707031],[52.0,4268.0,0.0,0.0,286.5750732421875],[60.0,6705.0,0.0,1.0,497.71514892578125],[49.0,5333.0,0.0,6.0,139.76490783691406],[51.0,5203.0,1.0,4.0,153.02464294433594],[30.0,6653.0,1.0,9.0,357.4647521972656],[40.0,4250.0,0.0,9.0,188.97332763671875],[36.0,5032.0,0.0,8.0,227.55628967285156],[60.0,4670.0,1.0,7.0,200.4484405517578],[65.0,6941.0,0.0,1.0,317.85040283203125],[63.0,6320.0,1.0,1.0,28.912099838256836],[52.0,4760.0,0.0,7.0,288.7195129394531],[68.0,6085.0,1.0,3.0,237.8844451904297],[35.0,6260.0,0.0,1.0,350.16400146484375],[45.0,4874.0,0.0,0.0,267.7055358886719],[54.0,6165.0,1.0,0.0,298.3842468261719],[66.0,5394.0,1.0,1.0,219.3640899658203],[42.0,5031.0,0.0,4.0,154.80445861816406],[63.0,6429.0,1.0,2.0,235.8546905517578],[48.0,4349.0,0.0,1.0,454.149169921875],[33.0,4123.0,0.0,1.0,278.6354064941406],[42.0,4151.0,0.0,6.0,342.38629150390625],[49.0,5074.0,0.0,1.0,482.3044738769531],[58.0,5598.0,0.0,3.0,494.1513977050781],[38.0,5484.0,0.0,3.0,71.13497924804688],[50.0,4989.0,1.0,1.0,47.07695007324219],[23.0,4030.0,1.0,2.0,269.1076965332031],[26.0,4814.0,0.0,0.0,164.67080688476562],[27.0,5381.0,0.0,0.0,78.1834945678711],[50.0,6624.0,0.0,6.0,113.681396484375],[51.0,6285.0,0.0,9.0,328.7532043457031],[62.0,6256.0,1.0,9.0,175.45899963378906],[41.0,4073.0,0.0,4.0,433.1919860839844],[40.0,4396.0,1.0,1.0,173.41673278808594],[42.0,6750.0,0.0,0.0,309.6145324707031],[43.0,4782.0,1.0,5.0,471.6044006347656],[22.0,5206.0,0.0,3.0,210.31863403320312],[61.0,6605.0,1.0,7.0,123.63835144042969],[46.0,5364.0,0.0,5.0,41.337013244628906],[28.0,4633.0,1.0,8.0,160.7435760498047],[34.0,4277.0,0.0,3.0,463.58135986328125],[36.0,6451.0,0.0,2.0,430.9549560546875],[65.0,4965.0,1.0,1.0,498.2637023925781],[40.0,5770.0,1.0,1.0,372.9067077636719],[51.0,4590.0,1.0,5.0,294.2365417480469],[39.0,4401.0,1.0,0.0,268.2187194824219],[19.0,6601.0,0.0,7.0,94.36210632324219],[64.0,4601.0,1.0,7.0,54.001495361328125],[48.0,6922.0,1.0,1.0,261.6135559082031],[39.0,5879.0,0.0,0.0,477.1899719238281],[35.0,6757.0,0.0,7.0,88.41908264160156],[58.0,6370.0,1.0,0.0,384.6423034667969],[36.0,5711.0,0.0,7.0,86.39128112792969],[49.0,4241.0,0.0,4.0,303.1971130371094],[38.0,4261.0,0.0,5.0,374.6612243652344],[58.0,4749.0,1.0,4.0,37.5152473449707],[37.0,4048.0,0.0,2.0,111.09346008300781],[55.0,5982.0,0.0,4.0,230.4164276123047],[57.0,6384.0,0.0,8.0,464.0193786621094],[47.0,6178.0,1.0,1.0,146.08177185058594],[35.0,4312.0,0.0,0.0,71.19297790527344],[48.0,4029.0,0.0,3.0,154.89382934570312],[26.0,4649.0,0.0,8.0,357.4585266113281],[69.0,5845.0,1.0,6.0,315.9288024902344],[40.0,6401.0,0.0,2.0,38.357852935791016],[50.0,4210.0,1.0,1.0,158.0967559814453],[24.0,4218.0,0.0,6.0,379.3143310546875],[66.0,6679.0,1.0,2.0,103.9663314819336],[24.0,6817.0,1.0,2.0,462.24835205078125],[23.0,5888.0,1.0,5.0,159.02883911132812],[25.0,6581.0,1.0,7.0,482.3162536621094],[39.0,5957.0,0.0,8.0,185.13211059570312],[51.0,4928.0,0.0,4.0,167.89035034179688],[26.0,4950.0,0.0,4.0,239.29672241210938],[19.0,5414.0,1.0,0.0,461.9820556640625],[25.0,6482.0,0.0,5.0,468.35888671875],[55.0,5818.0,1.0,0.0,341.0037536621094],[19.0,6406.0,0.0,1.0,20.531591415405273],[58.0,6603.0,1.0,8.0,240.17630004882812],[21.0,4303.0,1.0,2.0,55.873138427734375],[55.0,6603.0,1.0,5.0,51.803096771240234],[29.0,4560.0,1.0,8.0,436.48895263671875],[37.0,4856.0,1.0,7.0,100.87005615234375],[33.0,4643.0,0.0,3.0,496.6793518066406],[65.0,5362.0,1.0,9.0,494.7425231933594],[66.0,5994.0,1.0,6.0,196.37100219726562],[31.0,6564.0,1.0,0.0,396.2046203613281],[47.0,4962.0,0.0,0.0,325.59759521484375],[67.0,6754.0,1.0,3.0,286.23785400390625],[23.0,6555.0,0.0,5.0,490.0862121582031],[53.0,4812.0,1.0,6.0,82.61688995361328],[63.0,5633.0,1.0,5.0,73.88951110839844],[64.0,5073.0,0.0,8.0,491.96783447265625],[30.0,6159.0,0.0,3.0,253.3953857421875],[49.0,6730.0,0.0,8.0,272.2947998046875],[48.0,6982.0,0.0,2.0,237.1983184814453],[29.0,5291.0,1.0,6.0,348.2098083496094],[61.0,4185.0,1.0,5.0,274.285400390625],[68.0,5027.0,1.0,7.0,478.3384094238281],[65.0,4524.0,0.0,1.0,176.7267608642578],[49.0,5878.0,1.0,4.0,473.75994873046875],[24.0,4458.0,0.0,6.0,341.44122314453125],[27.0,4163.0,0.0,9.0,368.1786804199219],[27.0,4349.0,1.0,4.0,361.62554931640625],[45.0,6556.0,1.0,7.0,294.6704406738281],[67.0,6773.0,1.0,5.0,496.99188232421875],[54.0,6808.0,0.0,8.0,144.68504333496094],[56.0,4162.0,0.0,0.0,148.8899383544922],[20.0,6981.0,0.0,5.0,232.06626892089844],[23.0,6523.0,1.0,1.0,304.2354431152344],[31.0,5326.0,0.0,4.0,343.6978759765625],[43.0,4690.0,1.0,1.0,433.3457946777344],[36.0,5844.0,0.0,0.0,195.79180908203125],[20.0,6807.0,0.0,7.0,357.13446044921875],[23.0,5183.0,1.0,8.0,259.8432922363281],[52.0,6375.0,0.0,8.0,52.141571044921875],[50.0,6927.0,1.0,2.0,331.57598876953125],[66.0,4797.0,0.0,3.0,41.02515411376953],[61.0,6755.0,0.0,2.0,59.788089752197266],[26.0,6793.0,1.0,9.0,281.6023254394531],[67.0,4148.0,0.0,9.0,341.0979309082031],[25.0,5377.0,1.0,7.0,194.3260955810547],[47.0,6515.0,0.0,8.0,193.6886444091797],[52.0,5570.0,0.0,9.0,209.47557067871094],[25.0,4733.0,0.0,2.0,157.6083526611328],[54.0,4455.0,0.0,0.0,268.2933654785156],[42.0,4019.0,1.0,8.0,117.51093292236328],[42.0,4275.0,1.0,4.0,484.4046936035156],[18.0,5770.0,1.0,4.0,32.37936019897461],[24.0,5522.0,1.0,3.0,382.86590576171875],[22.0,4445.0,1.0,8.0,238.3226318359375],[56.0,5036.0,0.0,0.0,38.38008117675781],[29.0,4569.0,0.0,9.0,273.2268981933594],[31.0,5406.0,0.0,8.0,196.02365112304688],[31.0,6124.0,0.0,6.0,159.41651916503906],[38.0,6561.0,1.0,1.0,205.65594482421875],[34.0,4224.0,0.0,1.0,236.14234924316406],[42.0,6657.0,0.0,2.0,78.67048645019531],[18.0,7037.0,0.0,9.0,375.10882568359375],[50.0,5178.0,1.0,8.0,153.16387939453125],[35.0,6359.0,0.0,6.0,124.78312683105469],[47.0,6723.0,1.0,8.0,457.8398132324219],[18.0,5608.0,0.0,6.0,155.00753784179688],[62.0,6182.0,1.0,6.0,356.8714904785156],[32.0,5318.0,1.0,6.0,350.08160400390625],[55.0,6091.0,1.0,6.0,480.0389709472656],[49.0,6967.0,1.0,2.0,35.337364196777344],[27.0,5827.0,0.0,5.0,315.8749084472656],[60.0,5330.0,0.0,6.0,428.2217102050781],[41.0,4807.0,0.0,7.0,172.1683807373047],[63.0,6541.0,1.0,6.0,158.5227508544922],[29.0,5527.0,1.0,2.0,192.7465057373047],[35.0,6911.0,1.0,9.0,51.25437927246094],[38.0,5478.0,0.0,0.0,130.26205444335938],[33.0,6443.0,0.0,5.0,488.62603759765625],[55.0,4161.0,0.0,2.0,477.1556701660156],[59.0,6301.0,0.0,3.0,445.0812683105469],[49.0,5007.0,1.0,6.0,234.2539520263672],[67.0,4320.0,1.0,8.0,85.38800811767578],[64.0,5181.0,0.0,6.0,77.6522216796875],[62.0,4856.0,1.0,8.0,168.00820922851562],[40.0,5100.0,0.0,0.0,67.40390014648438],[58.0,4541.0,1.0,9.0,385.0894775390625],[23.0,4552.0,1.0,7.0,120.28606414794922],[42.0,6082.0,1.0,3.0,62.71525573730469],[65.0,4975.0,0.0,3.0,142.9874725341797],[57.0,5863.0,1.0,9.0,336.3257751464844],[27.0,6406.0,0.0,1.0,117.54051208496094],[62.0,6039.0,1.0,6.0,310.98834228515625],[26.0,4535.0,1.0,5.0,131.65472412109375],[55.0,5174.0,0.0,3.0,183.90267944335938],[30.0,6956.0,1.0,7.0,402.91241455078125],[40.0,6910.0,1.0,9.0,424.8547058105469],[22.0,4710.0,1.0,7.0,335.2414855957031],[65.0,5834.0,0.0,5.0,46.271541595458984],[35.0,5133.0,0.0,1.0,361.2110595703125],[36.0,5434.0,0.0,1.0,360.54815673828125],[56.0,5088.0,1.0,9.0,348.5439758300781],[68.0,4599.0,1.0,5.0,247.87892150878906],[18.0,6925.0,0.0,9.0,96.9604721069336],[37.0,5263.0,1.0,0.0,97.0945053100586],[51.0,5144.0,0.0,9.0,239.7609405517578],[19.0,6073.0,1.0,7.0,239.8494110107422],[29.0,5813.0,0.0,6.0,249.30816650390625],[63.0,5085.0,1.0,9.0,452.8462219238281],[60.0,4597.0,0.0,8.0,386.8535461425781],[58.0,4694.0,0.0,4.0,28.429401397705078],[31.0,5439.0,1.0,3.0,153.45498657226562],[24.0,5111.0,0.0,4.0,423.367919921875],[23.0,4749.0,0.0,9.0,373.7848205566406],[66.0,5954.0,0.0,1.0,478.3822021484375],[46.0,6940.0,1.0,4.0,467.1820983886719],[39.0,5725.0,0.0,5.0,241.5771026611328],[42.0,5103.0,1.0,2.0,40.73176956176758],[50.0,6649.0,0.0,7.0,191.03009033203125],[50.0,6740.0,0.0,9.0,266.805419921875],[51.0,5235.0,1.0,7.0,269.589111328125],[61.0,6814.0,1.0,4.0,433.3843688964844],[22.0,5589.0,0.0,4.0,107.97274017333984],[55.0,4070.0,0.0,0.0,132.9412384033203],[67.0,6392.0,1.0,4.0,387.6081237792969],[62.0,6438.0,1.0,0.0,240.35348510742188],[60.0,6998.0,1.0,8.0,186.85931396484375],[62.0,6219.0,0.0,8.0,363.377685546875],[57.0,6217.0,0.0,4.0,291.0819091796875],[58.0,4642.0,1.0,2.0,184.49923706054688],[23.0,5357.0,0.0,6.0,40.911399841308594],[63.0,4904.0,1.0,9.0,170.49562072753906],[42.0,5757.0,1.0,0.0,389.741455078125],[41.0,5959.0,1.0,4.0,124.03114318847656],[45.0,5190.0,0.0,2.0,129.3402557373047],[24.0,6313.0,1.0,7.0,364.7872009277344],[50.0,4353.0,0.0,9.0,182.2540740966797],[35.0,4793.0,0.0,6.0,162.60621643066406],[66.0,6815.0,0.0,9.0,125.55370330810547],[46.0,5749.0,0.0,6.0,293.82928466796875],[31.0,5006.0,0.0,7.0,189.59051513671875],[60.0,4792.0,1.0,8.0,406.7151794433594],[58.0,6959.0,0.0,9.0,204.41416931152344],[55.0,4136.0,0.0,1.0,340.41534423828125],[42.0,5322.0,1.0,2.0,191.3662109375],[35.0,4764.0,1.0,9.0,450.07855224609375],[47.0,5771.0,0.0,4.0,464.8323059082031],[43.0,4358.0,0.0,9.0,319.41949462890625],[32.0,5908.0,1.0,9.0,441.0756530761719]],\"hovertemplate\":\"Cluster=%{x}\\u003cbr\\u003eAge=%{customdata[0]}\\u003cbr\\u003eIncome=%{customdata[1]}\\u003cbr\\u003eGender=%{customdata[2]}\\u003cbr\\u003eNumber_of_Visits=%{customdata[3]}\\u003cbr\\u003eAverage_Spending=%{customdata[4]}\\u003cextra\\u003e\\u003c\\u002fextra\\u003e\",\"legendgroup\":\"Cluster 0\",\"marker\":{\"color\":\"#636efa\"},\"name\":\"Cluster 0\",\"notched\":true,\"offsetgroup\":\"Cluster 0\",\"showlegend\":false,\"x\":[\"Cluster 0\",\"Cluster 0\",\"Cluster 0\",\"Cluster 0\",\"Cluster 0\",\"Cluster 0\",\"Cluster 0\",\"Cluster 0\",\"Cluster 0\",\"Cluster 0\",\"Cluster 0\",\"Cluster 0\",\"Cluster 0\",\"Cluster 0\",\"Cluster 0\",\"Cluster 0\",\"Cluster 0\",\"Cluster 0\",\"Cluster 0\",\"Cluster 0\",\"Cluster 0\",\"Cluster 0\",\"Cluster 0\",\"Cluster 0\",\"Cluster 0\",\"Cluster 0\",\"Cluster 0\",\"Cluster 0\",\"Cluster 0\",\"Cluster 0\",\"Cluster 0\",\"Cluster 0\",\"Cluster 0\",\"Cluster 0\",\"Cluster 0\",\"Cluster 0\",\"Cluster 0\",\"Cluster 0\",\"Cluster 0\",\"Cluster 0\",\"Cluster 0\",\"Cluster 0\",\"Cluster 0\",\"Cluster 0\",\"Cluster 0\",\"Cluster 0\",\"Cluster 0\",\"Cluster 0\",\"Cluster 0\",\"Cluster 0\",\"Cluster 0\",\"Cluster 0\",\"Cluster 0\",\"Cluster 0\",\"Cluster 0\",\"Cluster 0\",\"Cluster 0\",\"Cluster 0\",\"Cluster 0\",\"Cluster 0\",\"Cluster 0\",\"Cluster 0\",\"Cluster 0\",\"Cluster 0\",\"Cluster 0\",\"Cluster 0\",\"Cluster 0\",\"Cluster 0\",\"Cluster 0\",\"Cluster 0\",\"Cluster 0\",\"Cluster 0\",\"Cluster 0\",\"Cluster 0\",\"Cluster 0\",\"Cluster 0\",\"Cluster 0\",\"Cluster 0\",\"Cluster 0\",\"Cluster 0\",\"Cluster 0\",\"Cluster 0\",\"Cluster 0\",\"Cluster 0\",\"Cluster 0\",\"Cluster 0\",\"Cluster 0\",\"Cluster 0\",\"Cluster 0\",\"Cluster 0\",\"Cluster 0\",\"Cluster 0\",\"Cluster 0\",\"Cluster 0\",\"Cluster 0\",\"Cluster 0\",\"Cluster 0\",\"Cluster 0\",\"Cluster 0\",\"Cluster 0\",\"Cluster 0\",\"Cluster 0\",\"Cluster 0\",\"Cluster 0\",\"Cluster 0\",\"Cluster 0\",\"Cluster 0\",\"Cluster 0\",\"Cluster 0\",\"Cluster 0\",\"Cluster 0\",\"Cluster 0\",\"Cluster 0\",\"Cluster 0\",\"Cluster 0\",\"Cluster 0\",\"Cluster 0\",\"Cluster 0\",\"Cluster 0\",\"Cluster 0\",\"Cluster 0\",\"Cluster 0\",\"Cluster 0\",\"Cluster 0\",\"Cluster 0\",\"Cluster 0\",\"Cluster 0\",\"Cluster 0\",\"Cluster 0\",\"Cluster 0\",\"Cluster 0\",\"Cluster 0\",\"Cluster 0\",\"Cluster 0\",\"Cluster 0\",\"Cluster 0\",\"Cluster 0\",\"Cluster 0\",\"Cluster 0\",\"Cluster 0\",\"Cluster 0\",\"Cluster 0\",\"Cluster 0\",\"Cluster 0\",\"Cluster 0\",\"Cluster 0\",\"Cluster 0\",\"Cluster 0\",\"Cluster 0\",\"Cluster 0\",\"Cluster 0\",\"Cluster 0\",\"Cluster 0\",\"Cluster 0\",\"Cluster 0\",\"Cluster 0\",\"Cluster 0\",\"Cluster 0\",\"Cluster 0\",\"Cluster 0\",\"Cluster 0\",\"Cluster 0\",\"Cluster 0\",\"Cluster 0\",\"Cluster 0\",\"Cluster 0\",\"Cluster 0\",\"Cluster 0\",\"Cluster 0\",\"Cluster 0\",\"Cluster 0\",\"Cluster 0\",\"Cluster 0\",\"Cluster 0\",\"Cluster 0\",\"Cluster 0\",\"Cluster 0\",\"Cluster 0\",\"Cluster 0\",\"Cluster 0\",\"Cluster 0\",\"Cluster 0\",\"Cluster 0\",\"Cluster 0\",\"Cluster 0\",\"Cluster 0\",\"Cluster 0\",\"Cluster 0\",\"Cluster 0\",\"Cluster 0\",\"Cluster 0\",\"Cluster 0\",\"Cluster 0\",\"Cluster 0\",\"Cluster 0\",\"Cluster 0\",\"Cluster 0\",\"Cluster 0\",\"Cluster 0\",\"Cluster 0\",\"Cluster 0\",\"Cluster 0\",\"Cluster 0\",\"Cluster 0\",\"Cluster 0\",\"Cluster 0\",\"Cluster 0\",\"Cluster 0\",\"Cluster 0\",\"Cluster 0\",\"Cluster 0\",\"Cluster 0\",\"Cluster 0\",\"Cluster 0\",\"Cluster 0\",\"Cluster 0\",\"Cluster 0\",\"Cluster 0\",\"Cluster 0\",\"Cluster 0\",\"Cluster 0\",\"Cluster 0\",\"Cluster 0\",\"Cluster 0\",\"Cluster 0\",\"Cluster 0\",\"Cluster 0\",\"Cluster 0\",\"Cluster 0\",\"Cluster 0\",\"Cluster 0\",\"Cluster 0\",\"Cluster 0\",\"Cluster 0\",\"Cluster 0\",\"Cluster 0\",\"Cluster 0\",\"Cluster 0\",\"Cluster 0\",\"Cluster 0\",\"Cluster 0\",\"Cluster 0\",\"Cluster 0\",\"Cluster 0\",\"Cluster 0\",\"Cluster 0\",\"Cluster 0\",\"Cluster 0\",\"Cluster 0\",\"Cluster 0\",\"Cluster 0\",\"Cluster 0\",\"Cluster 0\",\"Cluster 0\",\"Cluster 0\",\"Cluster 0\",\"Cluster 0\",\"Cluster 0\",\"Cluster 0\",\"Cluster 0\",\"Cluster 0\",\"Cluster 0\",\"Cluster 0\",\"Cluster 0\",\"Cluster 0\",\"Cluster 0\",\"Cluster 0\",\"Cluster 0\",\"Cluster 0\",\"Cluster 0\",\"Cluster 0\",\"Cluster 0\",\"Cluster 0\",\"Cluster 0\",\"Cluster 0\",\"Cluster 0\",\"Cluster 0\",\"Cluster 0\",\"Cluster 0\",\"Cluster 0\",\"Cluster 0\",\"Cluster 0\",\"Cluster 0\",\"Cluster 0\",\"Cluster 0\",\"Cluster 0\",\"Cluster 0\",\"Cluster 0\",\"Cluster 0\",\"Cluster 0\",\"Cluster 0\",\"Cluster 0\",\"Cluster 0\",\"Cluster 0\",\"Cluster 0\",\"Cluster 0\",\"Cluster 0\",\"Cluster 0\",\"Cluster 0\",\"Cluster 0\",\"Cluster 0\",\"Cluster 0\",\"Cluster 0\",\"Cluster 0\",\"Cluster 0\",\"Cluster 0\",\"Cluster 0\",\"Cluster 0\",\"Cluster 0\",\"Cluster 0\",\"Cluster 0\",\"Cluster 0\",\"Cluster 0\",\"Cluster 0\",\"Cluster 0\",\"Cluster 0\",\"Cluster 0\",\"Cluster 0\",\"Cluster 0\",\"Cluster 0\",\"Cluster 0\",\"Cluster 0\",\"Cluster 0\",\"Cluster 0\",\"Cluster 0\",\"Cluster 0\",\"Cluster 0\",\"Cluster 0\",\"Cluster 0\",\"Cluster 0\",\"Cluster 0\",\"Cluster 0\",\"Cluster 0\",\"Cluster 0\",\"Cluster 0\",\"Cluster 0\"],\"xaxis\":\"x2\",\"yaxis\":\"y2\",\"type\":\"box\"},{\"alignmentgroup\":\"True\",\"bingroup\":\"x\",\"hovertemplate\":\"Cluster=%{x}\\u003cbr\\u003ecount=%{y}\\u003cextra\\u003e\\u003c\\u002fextra\\u003e\",\"legendgroup\":\"Cluster 1\",\"marker\":{\"color\":\"#EF553B\",\"opacity\":0.7,\"pattern\":{\"shape\":\"\"}},\"name\":\"Cluster 1\",\"offsetgroup\":\"Cluster 1\",\"orientation\":\"v\",\"showlegend\":true,\"x\":[\"Cluster 1\",\"Cluster 1\",\"Cluster 1\",\"Cluster 1\",\"Cluster 1\",\"Cluster 1\",\"Cluster 1\",\"Cluster 1\",\"Cluster 1\",\"Cluster 1\",\"Cluster 1\",\"Cluster 1\",\"Cluster 1\",\"Cluster 1\",\"Cluster 1\",\"Cluster 1\",\"Cluster 1\",\"Cluster 1\",\"Cluster 1\",\"Cluster 1\",\"Cluster 1\",\"Cluster 1\",\"Cluster 1\",\"Cluster 1\",\"Cluster 1\",\"Cluster 1\",\"Cluster 1\",\"Cluster 1\",\"Cluster 1\",\"Cluster 1\",\"Cluster 1\",\"Cluster 1\",\"Cluster 1\",\"Cluster 1\",\"Cluster 1\",\"Cluster 1\",\"Cluster 1\",\"Cluster 1\",\"Cluster 1\",\"Cluster 1\",\"Cluster 1\",\"Cluster 1\",\"Cluster 1\",\"Cluster 1\",\"Cluster 1\",\"Cluster 1\",\"Cluster 1\",\"Cluster 1\",\"Cluster 1\",\"Cluster 1\",\"Cluster 1\",\"Cluster 1\",\"Cluster 1\",\"Cluster 1\",\"Cluster 1\",\"Cluster 1\",\"Cluster 1\",\"Cluster 1\",\"Cluster 1\",\"Cluster 1\",\"Cluster 1\",\"Cluster 1\",\"Cluster 1\",\"Cluster 1\",\"Cluster 1\",\"Cluster 1\",\"Cluster 1\",\"Cluster 1\",\"Cluster 1\",\"Cluster 1\",\"Cluster 1\",\"Cluster 1\",\"Cluster 1\",\"Cluster 1\",\"Cluster 1\",\"Cluster 1\",\"Cluster 1\",\"Cluster 1\",\"Cluster 1\",\"Cluster 1\",\"Cluster 1\",\"Cluster 1\",\"Cluster 1\",\"Cluster 1\",\"Cluster 1\",\"Cluster 1\",\"Cluster 1\",\"Cluster 1\",\"Cluster 1\",\"Cluster 1\",\"Cluster 1\",\"Cluster 1\",\"Cluster 1\",\"Cluster 1\",\"Cluster 1\",\"Cluster 1\",\"Cluster 1\",\"Cluster 1\",\"Cluster 1\",\"Cluster 1\",\"Cluster 1\",\"Cluster 1\",\"Cluster 1\",\"Cluster 1\",\"Cluster 1\",\"Cluster 1\",\"Cluster 1\",\"Cluster 1\",\"Cluster 1\",\"Cluster 1\",\"Cluster 1\",\"Cluster 1\",\"Cluster 1\",\"Cluster 1\",\"Cluster 1\",\"Cluster 1\",\"Cluster 1\",\"Cluster 1\",\"Cluster 1\",\"Cluster 1\",\"Cluster 1\",\"Cluster 1\",\"Cluster 1\",\"Cluster 1\",\"Cluster 1\",\"Cluster 1\",\"Cluster 1\",\"Cluster 1\",\"Cluster 1\",\"Cluster 1\",\"Cluster 1\",\"Cluster 1\",\"Cluster 1\",\"Cluster 1\",\"Cluster 1\",\"Cluster 1\",\"Cluster 1\",\"Cluster 1\",\"Cluster 1\",\"Cluster 1\",\"Cluster 1\",\"Cluster 1\",\"Cluster 1\",\"Cluster 1\",\"Cluster 1\",\"Cluster 1\",\"Cluster 1\",\"Cluster 1\",\"Cluster 1\",\"Cluster 1\",\"Cluster 1\",\"Cluster 1\",\"Cluster 1\",\"Cluster 1\",\"Cluster 1\",\"Cluster 1\",\"Cluster 1\",\"Cluster 1\",\"Cluster 1\",\"Cluster 1\",\"Cluster 1\",\"Cluster 1\",\"Cluster 1\",\"Cluster 1\",\"Cluster 1\",\"Cluster 1\",\"Cluster 1\",\"Cluster 1\",\"Cluster 1\",\"Cluster 1\",\"Cluster 1\",\"Cluster 1\",\"Cluster 1\",\"Cluster 1\",\"Cluster 1\",\"Cluster 1\",\"Cluster 1\",\"Cluster 1\",\"Cluster 1\",\"Cluster 1\",\"Cluster 1\",\"Cluster 1\",\"Cluster 1\",\"Cluster 1\",\"Cluster 1\",\"Cluster 1\",\"Cluster 1\",\"Cluster 1\",\"Cluster 1\",\"Cluster 1\",\"Cluster 1\",\"Cluster 1\",\"Cluster 1\",\"Cluster 1\",\"Cluster 1\",\"Cluster 1\",\"Cluster 1\",\"Cluster 1\",\"Cluster 1\",\"Cluster 1\",\"Cluster 1\",\"Cluster 1\",\"Cluster 1\",\"Cluster 1\",\"Cluster 1\",\"Cluster 1\",\"Cluster 1\",\"Cluster 1\",\"Cluster 1\",\"Cluster 1\",\"Cluster 1\",\"Cluster 1\",\"Cluster 1\",\"Cluster 1\",\"Cluster 1\",\"Cluster 1\",\"Cluster 1\",\"Cluster 1\",\"Cluster 1\",\"Cluster 1\",\"Cluster 1\",\"Cluster 1\",\"Cluster 1\",\"Cluster 1\",\"Cluster 1\",\"Cluster 1\",\"Cluster 1\",\"Cluster 1\",\"Cluster 1\",\"Cluster 1\",\"Cluster 1\",\"Cluster 1\",\"Cluster 1\",\"Cluster 1\",\"Cluster 1\",\"Cluster 1\",\"Cluster 1\",\"Cluster 1\",\"Cluster 1\",\"Cluster 1\",\"Cluster 1\",\"Cluster 1\",\"Cluster 1\",\"Cluster 1\",\"Cluster 1\",\"Cluster 1\",\"Cluster 1\",\"Cluster 1\",\"Cluster 1\",\"Cluster 1\",\"Cluster 1\",\"Cluster 1\",\"Cluster 1\",\"Cluster 1\",\"Cluster 1\",\"Cluster 1\",\"Cluster 1\",\"Cluster 1\",\"Cluster 1\",\"Cluster 1\",\"Cluster 1\",\"Cluster 1\",\"Cluster 1\",\"Cluster 1\",\"Cluster 1\",\"Cluster 1\",\"Cluster 1\",\"Cluster 1\",\"Cluster 1\",\"Cluster 1\",\"Cluster 1\",\"Cluster 1\",\"Cluster 1\",\"Cluster 1\",\"Cluster 1\",\"Cluster 1\",\"Cluster 1\",\"Cluster 1\",\"Cluster 1\",\"Cluster 1\",\"Cluster 1\",\"Cluster 1\",\"Cluster 1\",\"Cluster 1\",\"Cluster 1\",\"Cluster 1\",\"Cluster 1\",\"Cluster 1\",\"Cluster 1\",\"Cluster 1\",\"Cluster 1\",\"Cluster 1\",\"Cluster 1\",\"Cluster 1\",\"Cluster 1\",\"Cluster 1\",\"Cluster 1\",\"Cluster 1\",\"Cluster 1\",\"Cluster 1\",\"Cluster 1\",\"Cluster 1\",\"Cluster 1\",\"Cluster 1\",\"Cluster 1\",\"Cluster 1\",\"Cluster 1\",\"Cluster 1\",\"Cluster 1\",\"Cluster 1\",\"Cluster 1\",\"Cluster 1\",\"Cluster 1\",\"Cluster 1\",\"Cluster 1\",\"Cluster 1\"],\"xaxis\":\"x\",\"yaxis\":\"y\",\"type\":\"histogram\"},{\"alignmentgroup\":\"True\",\"customdata\":[[38.0,9836.0,0.0,8.0,439.8796691894531],[22.0,9580.0,1.0,6.0,231.74354553222656],[21.0,8192.0,0.0,2.0,106.1213150024414],[41.0,8862.0,1.0,3.0,162.121826171875],[57.0,7391.0,1.0,6.0,225.98626708984375],[47.0,7782.0,0.0,0.0,172.49453735351562],[27.0,9011.0,1.0,5.0,261.6387939453125],[41.0,7918.0,1.0,7.0,488.69970703125],[53.0,9638.0,0.0,6.0,236.2083282470703],[24.0,9529.0,1.0,3.0,178.6035919189453],[66.0,9683.0,1.0,3.0,352.5787353515625],[66.0,9803.0,0.0,6.0,280.95623779296875],[50.0,9251.0,0.0,3.0,157.0208740234375],[31.0,8755.0,0.0,1.0,285.4326477050781],[46.0,8643.0,0.0,1.0,194.2188720703125],[34.0,9043.0,1.0,7.0,151.8042449951172],[39.0,7181.0,0.0,1.0,217.02935791015625],[59.0,7418.0,1.0,6.0,407.2715148925781],[19.0,7547.0,0.0,6.0,357.8693542480469],[34.0,7298.0,1.0,9.0,347.3135681152344],[32.0,9827.0,1.0,9.0,371.4015808105469],[52.0,7426.0,1.0,1.0,284.1460876464844],[37.0,9394.0,1.0,5.0,225.74594116210938],[50.0,9961.0,0.0,5.0,96.97269439697266],[48.0,8785.0,0.0,0.0,415.5679931640625],[53.0,8878.0,1.0,9.0,177.37322998046875],[48.0,9670.0,0.0,1.0,356.84014892578125],[66.0,8246.0,0.0,1.0,296.92816162109375],[67.0,8742.0,1.0,8.0,296.1684875488281],[57.0,9331.0,1.0,5.0,368.9001770019531],[18.0,8776.0,1.0,4.0,48.45539855957031],[59.0,9960.0,1.0,0.0,378.9456787109375],[64.0,8951.0,0.0,1.0,426.70489501953125],[18.0,8311.0,0.0,0.0,385.9786682128906],[63.0,7857.0,0.0,0.0,384.8680114746094],[37.0,7874.0,1.0,5.0,75.51744842529297],[43.0,9526.0,0.0,7.0,119.5630874633789],[49.0,7773.0,0.0,8.0,255.52589416503906],[47.0,8087.0,1.0,9.0,366.1595764160156],[45.0,7324.0,1.0,6.0,461.81103515625],[63.0,7127.0,0.0,7.0,20.633962631225586],[48.0,7638.0,1.0,8.0,152.1511688232422],[38.0,8445.0,0.0,5.0,316.1153259277344],[38.0,8643.0,1.0,5.0,473.4443664550781],[51.0,9407.0,1.0,8.0,220.28555297851562],[19.0,8292.0,1.0,9.0,225.54049682617188],[19.0,9802.0,0.0,1.0,254.59848022460938],[47.0,9491.0,0.0,5.0,154.73731994628906],[60.0,7488.0,1.0,8.0,320.6823425292969],[66.0,7950.0,1.0,4.0,107.51409149169922],[46.0,8575.0,1.0,9.0,465.8153076171875],[47.0,8800.0,0.0,8.0,349.0520935058594],[68.0,8407.0,1.0,6.0,376.7955627441406],[44.0,8013.0,1.0,3.0,255.8890838623047],[47.0,8315.0,0.0,7.0,385.07720947265625],[59.0,7814.0,0.0,2.0,100.30469512939453],[59.0,9510.0,1.0,6.0,21.677631378173828],[50.0,7777.0,0.0,5.0,455.1538391113281],[19.0,7992.0,0.0,8.0,62.12347412109375],[50.0,8830.0,0.0,9.0,41.529937744140625],[61.0,7959.0,0.0,8.0,233.26560974121094],[55.0,9230.0,1.0,4.0,131.60879516601562],[31.0,7158.0,0.0,8.0,60.068729400634766],[62.0,7617.0,0.0,9.0,159.20948791503906],[62.0,7788.0,0.0,9.0,281.6580810546875],[69.0,7866.0,0.0,3.0,490.4710388183594],[61.0,9415.0,0.0,2.0,229.40321350097656],[45.0,8707.0,1.0,9.0,235.11474609375],[67.0,7639.0,0.0,6.0,221.83815002441406],[49.0,9050.0,1.0,6.0,85.96465301513672],[54.0,8955.0,1.0,7.0,331.2394104003906],[61.0,7769.0,0.0,3.0,61.72277069091797],[36.0,7672.0,0.0,4.0,36.416282653808594],[43.0,7945.0,0.0,7.0,381.4847106933594],[42.0,7335.0,1.0,0.0,204.82652282714844],[32.0,9468.0,1.0,4.0,193.83355712890625],[52.0,9852.0,0.0,4.0,101.68013763427734],[27.0,7141.0,0.0,1.0,90.51153564453125],[48.0,8716.0,1.0,8.0,449.4864196777344],[26.0,9055.0,0.0,5.0,277.6490783691406],[34.0,8892.0,0.0,5.0,233.42352294921875],[19.0,7581.0,1.0,5.0,444.91033935546875],[68.0,7553.0,0.0,5.0,174.4195556640625],[51.0,8073.0,1.0,8.0,95.39527893066406],[22.0,7151.0,1.0,7.0,149.50038146972656],[51.0,9292.0,1.0,7.0,224.258056640625],[27.0,9521.0,0.0,0.0,389.0057373046875],[63.0,9099.0,0.0,5.0,290.506103515625],[46.0,8343.0,1.0,4.0,340.25982666015625],[45.0,7840.0,0.0,5.0,329.88775634765625],[61.0,8173.0,0.0,2.0,97.97298431396484],[18.0,7141.0,0.0,8.0,128.21998596191406],[53.0,7138.0,0.0,5.0,188.4551239013672],[32.0,7852.0,1.0,9.0,103.68926239013672],[55.0,7373.0,0.0,1.0,250.85787963867188],[69.0,9485.0,0.0,5.0,484.52996826171875],[59.0,8720.0,0.0,5.0,312.2203674316406],[45.0,8878.0,0.0,7.0,367.3919982910156],[39.0,9529.0,0.0,5.0,68.55316162109375],[40.0,8746.0,1.0,0.0,445.8301086425781],[24.0,8100.0,1.0,2.0,79.67745971679688],[41.0,9965.0,1.0,8.0,421.6057434082031],[29.0,8323.0,1.0,0.0,70.76348114013672],[63.0,9555.0,0.0,7.0,161.34803771972656],[25.0,8148.0,1.0,7.0,235.05294799804688],[28.0,7328.0,1.0,9.0,167.6951141357422],[57.0,9679.0,1.0,5.0,91.9521484375],[57.0,8538.0,0.0,2.0,315.0369873046875],[44.0,9657.0,0.0,7.0,487.8752136230469],[20.0,9468.0,0.0,7.0,78.85868835449219],[43.0,9951.0,0.0,5.0,219.28175354003906],[44.0,9371.0,1.0,4.0,160.41415405273438],[67.0,7433.0,1.0,4.0,134.06817626953125],[65.0,9459.0,0.0,1.0,85.31854248046875],[55.0,9260.0,1.0,5.0,361.6011657714844],[62.0,7158.0,0.0,0.0,368.9881591796875],[49.0,8894.0,1.0,6.0,409.84429931640625],[18.0,9253.0,0.0,7.0,139.79013061523438],[31.0,9618.0,0.0,4.0,106.7027359008789],[62.0,9492.0,0.0,4.0,267.8520202636719],[54.0,8888.0,0.0,6.0,98.14844512939453],[38.0,7988.0,0.0,2.0,284.1083068847656],[36.0,7144.0,1.0,5.0,387.3227233886719],[58.0,9093.0,0.0,4.0,38.01127624511719],[41.0,8609.0,1.0,8.0,141.13607788085938],[20.0,7702.0,1.0,3.0,277.6227111816406],[39.0,9189.0,1.0,4.0,392.3627624511719],[64.0,7379.0,1.0,6.0,63.94411849975586],[64.0,8904.0,0.0,3.0,168.5087127685547],[65.0,9912.0,1.0,7.0,273.79901123046875],[49.0,9163.0,0.0,6.0,228.29977416992188],[45.0,9621.0,0.0,7.0,387.0682678222656],[64.0,8643.0,0.0,0.0,264.4722900390625],[34.0,9505.0,0.0,9.0,400.4071960449219],[36.0,8264.0,1.0,2.0,55.573368072509766],[24.0,7598.0,0.0,9.0,179.02371215820312],[44.0,7602.0,1.0,4.0,126.67127227783203],[46.0,7379.0,1.0,8.0,413.2303771972656],[55.0,9522.0,1.0,3.0,185.0869598388672],[50.0,8913.0,0.0,2.0,438.68841552734375],[25.0,8492.0,1.0,7.0,296.48822021484375],[41.0,8520.0,0.0,4.0,421.4812316894531],[21.0,7274.0,0.0,2.0,356.97955322265625],[47.0,8308.0,0.0,6.0,243.68740844726562],[30.0,8001.0,0.0,5.0,122.11620330810547],[29.0,9160.0,1.0,8.0,311.4324645996094],[62.0,8090.0,0.0,6.0,103.81948852539062],[38.0,8838.0,0.0,3.0,273.1114196777344],[48.0,9338.0,1.0,8.0,81.99615478515625],[21.0,8288.0,0.0,6.0,22.75899314880371],[47.0,9061.0,1.0,3.0,279.319091796875],[27.0,8824.0,0.0,3.0,302.5352783203125],[59.0,9303.0,0.0,1.0,321.2958679199219],[18.0,7690.0,0.0,6.0,98.29426574707031],[53.0,7883.0,0.0,4.0,225.84225463867188],[22.0,9210.0,1.0,6.0,239.193115234375],[66.0,9122.0,1.0,6.0,363.36236572265625],[27.0,7436.0,0.0,3.0,483.1986999511719],[39.0,7909.0,0.0,8.0,387.5653381347656],[53.0,8579.0,0.0,4.0,292.6396789550781],[25.0,9900.0,1.0,3.0,108.33338165283203],[24.0,9175.0,0.0,7.0,462.50775146484375],[50.0,9110.0,1.0,8.0,122.31871032714844],[55.0,9874.0,1.0,6.0,477.24859619140625],[32.0,7597.0,1.0,6.0,310.14483642578125],[22.0,7360.0,1.0,2.0,206.32281494140625],[59.0,8079.0,1.0,4.0,165.84768676757812],[46.0,8585.0,0.0,1.0,110.51011657714844],[45.0,9634.0,0.0,1.0,498.2127990722656],[52.0,7377.0,1.0,0.0,423.0657653808594],[49.0,8154.0,1.0,5.0,191.1005859375],[49.0,9881.0,1.0,2.0,201.87364196777344],[20.0,9840.0,0.0,1.0,181.60284423828125],[44.0,8313.0,1.0,2.0,251.02642822265625],[55.0,8379.0,0.0,8.0,225.24757385253906],[39.0,8941.0,0.0,6.0,338.13885498046875],[25.0,8680.0,0.0,7.0,219.1646270751953],[36.0,7746.0,0.0,4.0,431.006103515625],[20.0,9851.0,1.0,0.0,483.8216857910156],[42.0,7708.0,1.0,1.0,366.7670593261719],[64.0,9460.0,1.0,8.0,149.34605407714844],[38.0,8956.0,1.0,2.0,477.1371765136719],[54.0,8062.0,0.0,6.0,377.8153381347656],[22.0,7712.0,1.0,3.0,188.4109649658203],[60.0,9330.0,1.0,2.0,312.8411865234375],[61.0,9815.0,1.0,9.0,412.7150573730469],[27.0,8386.0,0.0,7.0,94.81922912597656],[55.0,9334.0,1.0,6.0,239.83163452148438],[33.0,7893.0,0.0,2.0,415.0191650390625],[30.0,7968.0,0.0,2.0,423.7240905761719],[34.0,9578.0,1.0,2.0,305.85565185546875],[32.0,9698.0,0.0,8.0,50.146644592285156],[59.0,9355.0,1.0,1.0,327.6845703125],[57.0,9687.0,1.0,0.0,238.85902404785156],[46.0,9125.0,1.0,7.0,380.18585205078125],[46.0,8670.0,1.0,5.0,31.011232376098633],[37.0,8488.0,1.0,8.0,62.93400192260742],[23.0,8429.0,0.0,7.0,49.607513427734375],[30.0,9007.0,1.0,7.0,280.45721435546875],[61.0,7204.0,1.0,7.0,97.67610168457031],[60.0,9223.0,1.0,4.0,373.81488037109375],[46.0,8109.0,0.0,7.0,356.2718200683594],[47.0,8457.0,1.0,2.0,327.40277099609375],[55.0,9611.0,1.0,8.0,301.7321472167969],[59.0,8083.0,0.0,9.0,499.94256591796875],[52.0,7402.0,0.0,8.0,264.55035400390625],[41.0,8925.0,0.0,1.0,134.27261352539062],[62.0,7594.0,0.0,3.0,430.9268798828125],[67.0,9318.0,1.0,6.0,277.8505554199219],[66.0,7496.0,0.0,1.0,67.87887573242188],[21.0,8586.0,0.0,0.0,341.0584716796875],[43.0,7111.0,1.0,7.0,170.36000061035156],[30.0,7718.0,1.0,6.0,289.3525695800781],[52.0,8794.0,1.0,1.0,250.46023559570312],[20.0,9999.0,0.0,1.0,67.04237365722656],[52.0,8768.0,1.0,7.0,275.273193359375],[21.0,8980.0,0.0,1.0,157.20596313476562],[50.0,7475.0,0.0,1.0,55.49179458618164],[25.0,8932.0,1.0,0.0,371.3025207519531],[64.0,9958.0,0.0,2.0,158.84774780273438],[41.0,8110.0,1.0,0.0,447.248046875],[51.0,9960.0,0.0,6.0,254.27566528320312],[26.0,9399.0,0.0,9.0,477.0852355957031],[53.0,8810.0,0.0,2.0,180.082763671875],[62.0,8507.0,0.0,2.0,259.0694885253906],[44.0,9975.0,0.0,1.0,43.436119079589844],[56.0,9950.0,1.0,9.0,446.6312561035156],[64.0,8409.0,0.0,1.0,204.64833068847656],[59.0,9132.0,0.0,5.0,340.7962951660156],[29.0,9910.0,0.0,0.0,391.3883361816406],[61.0,7180.0,1.0,5.0,312.1356506347656],[47.0,9225.0,1.0,2.0,324.17041015625],[25.0,8722.0,0.0,8.0,478.9890441894531],[24.0,8761.0,0.0,0.0,74.19558715820312],[19.0,7976.0,0.0,6.0,324.43316650390625],[59.0,9962.0,1.0,0.0,344.8623962402344],[41.0,9940.0,1.0,3.0,196.5749053955078],[33.0,7460.0,0.0,4.0,250.5133514404297],[55.0,9281.0,0.0,9.0,92.66896057128906],[23.0,9808.0,1.0,6.0,494.9064636230469],[22.0,8903.0,0.0,0.0,126.8773193359375],[31.0,7259.0,1.0,7.0,238.72125244140625],[56.0,9981.0,0.0,0.0,208.06202697753906],[58.0,9310.0,0.0,2.0,154.44529724121094],[58.0,8479.0,1.0,0.0,350.6364440917969],[60.0,9803.0,1.0,7.0,272.541015625],[27.0,7810.0,0.0,2.0,449.0411682128906],[67.0,9307.0,0.0,5.0,115.68878173828125],[69.0,9676.0,1.0,3.0,225.55059814453125],[23.0,9988.0,1.0,8.0,396.0423278808594],[26.0,7625.0,0.0,7.0,407.8466796875],[40.0,7577.0,1.0,7.0,116.64060974121094],[64.0,7110.0,1.0,0.0,232.68019104003906],[31.0,7410.0,1.0,1.0,187.65391540527344],[44.0,9899.0,0.0,9.0,355.93560791015625],[35.0,9287.0,0.0,7.0,420.71630859375],[69.0,9151.0,0.0,9.0,123.44068908691406],[51.0,7082.0,1.0,4.0,289.1603088378906],[18.0,7425.0,1.0,2.0,23.520214080810547],[57.0,7765.0,1.0,4.0,411.22833251953125],[35.0,7140.0,0.0,5.0,292.6027526855469],[21.0,9555.0,1.0,9.0,449.3623046875],[29.0,8851.0,1.0,6.0,52.42756652832031],[37.0,8622.0,0.0,5.0,402.5509948730469],[48.0,9261.0,0.0,5.0,343.2552795410156],[27.0,9140.0,0.0,4.0,179.79339599609375],[29.0,8882.0,0.0,6.0,313.188232421875],[27.0,9420.0,0.0,0.0,306.4032287597656],[60.0,9315.0,0.0,5.0,470.812255859375],[38.0,7950.0,0.0,7.0,436.4924621582031],[65.0,8912.0,0.0,0.0,145.9000701904297],[48.0,9531.0,1.0,8.0,394.08233642578125],[33.0,7569.0,0.0,3.0,392.9451904296875],[55.0,9846.0,0.0,1.0,292.7741394042969],[31.0,8589.0,0.0,4.0,164.46026611328125],[58.0,8752.0,1.0,0.0,86.77068328857422],[30.0,8282.0,0.0,7.0,71.23658752441406],[38.0,8913.0,1.0,1.0,25.749530792236328],[67.0,8139.0,1.0,6.0,108.90088653564453],[55.0,8349.0,1.0,8.0,98.06119537353516],[25.0,8686.0,0.0,3.0,399.3348388671875],[56.0,9687.0,1.0,6.0,459.1861877441406],[51.0,8629.0,1.0,0.0,189.3258819580078],[52.0,9280.0,0.0,4.0,327.8652648925781],[40.0,7087.0,1.0,3.0,324.0381164550781],[22.0,7161.0,1.0,3.0,122.74954223632812],[46.0,9375.0,1.0,3.0,243.97145080566406],[43.0,8921.0,0.0,4.0,50.2896614074707],[30.0,7248.0,1.0,0.0,147.43185424804688],[30.0,8342.0,1.0,4.0,380.7020263671875],[49.0,8469.0,1.0,5.0,406.61474609375],[52.0,8194.0,1.0,6.0,256.111328125],[68.0,8924.0,0.0,2.0,334.9415588378906],[24.0,8789.0,0.0,3.0,160.21742248535156],[61.0,8559.0,1.0,6.0,70.72273254394531],[45.0,9102.0,1.0,9.0,449.1882019042969],[62.0,9839.0,1.0,3.0,141.52708435058594],[24.0,9447.0,1.0,3.0,375.3203430175781],[48.0,8514.0,1.0,7.0,445.9508056640625],[21.0,8927.0,1.0,8.0,287.0323486328125],[63.0,9375.0,1.0,9.0,201.7897186279297],[50.0,7159.0,0.0,5.0,387.3905334472656],[51.0,9927.0,0.0,2.0,476.68743896484375],[24.0,9187.0,1.0,9.0,471.18048095703125],[28.0,7973.0,0.0,5.0,327.9681396484375],[56.0,7348.0,1.0,1.0,371.9568176269531],[30.0,8649.0,1.0,8.0,389.7453308105469],[38.0,7833.0,0.0,4.0,41.555870056152344],[46.0,8490.0,0.0,5.0,314.4234619140625],[43.0,9014.0,0.0,6.0,312.8442077636719],[38.0,7952.0,1.0,0.0,449.5042724609375],[44.0,9767.0,0.0,2.0,304.9112243652344],[57.0,8949.0,0.0,2.0,400.3132019042969],[69.0,8858.0,0.0,9.0,68.20861053466797],[34.0,8477.0,1.0,8.0,188.64324951171875],[67.0,9557.0,0.0,9.0,421.7757263183594]],\"hovertemplate\":\"Cluster=%{x}\\u003cbr\\u003eAge=%{customdata[0]}\\u003cbr\\u003eIncome=%{customdata[1]}\\u003cbr\\u003eGender=%{customdata[2]}\\u003cbr\\u003eNumber_of_Visits=%{customdata[3]}\\u003cbr\\u003eAverage_Spending=%{customdata[4]}\\u003cextra\\u003e\\u003c\\u002fextra\\u003e\",\"legendgroup\":\"Cluster 1\",\"marker\":{\"color\":\"#EF553B\"},\"name\":\"Cluster 1\",\"notched\":true,\"offsetgroup\":\"Cluster 1\",\"showlegend\":false,\"x\":[\"Cluster 1\",\"Cluster 1\",\"Cluster 1\",\"Cluster 1\",\"Cluster 1\",\"Cluster 1\",\"Cluster 1\",\"Cluster 1\",\"Cluster 1\",\"Cluster 1\",\"Cluster 1\",\"Cluster 1\",\"Cluster 1\",\"Cluster 1\",\"Cluster 1\",\"Cluster 1\",\"Cluster 1\",\"Cluster 1\",\"Cluster 1\",\"Cluster 1\",\"Cluster 1\",\"Cluster 1\",\"Cluster 1\",\"Cluster 1\",\"Cluster 1\",\"Cluster 1\",\"Cluster 1\",\"Cluster 1\",\"Cluster 1\",\"Cluster 1\",\"Cluster 1\",\"Cluster 1\",\"Cluster 1\",\"Cluster 1\",\"Cluster 1\",\"Cluster 1\",\"Cluster 1\",\"Cluster 1\",\"Cluster 1\",\"Cluster 1\",\"Cluster 1\",\"Cluster 1\",\"Cluster 1\",\"Cluster 1\",\"Cluster 1\",\"Cluster 1\",\"Cluster 1\",\"Cluster 1\",\"Cluster 1\",\"Cluster 1\",\"Cluster 1\",\"Cluster 1\",\"Cluster 1\",\"Cluster 1\",\"Cluster 1\",\"Cluster 1\",\"Cluster 1\",\"Cluster 1\",\"Cluster 1\",\"Cluster 1\",\"Cluster 1\",\"Cluster 1\",\"Cluster 1\",\"Cluster 1\",\"Cluster 1\",\"Cluster 1\",\"Cluster 1\",\"Cluster 1\",\"Cluster 1\",\"Cluster 1\",\"Cluster 1\",\"Cluster 1\",\"Cluster 1\",\"Cluster 1\",\"Cluster 1\",\"Cluster 1\",\"Cluster 1\",\"Cluster 1\",\"Cluster 1\",\"Cluster 1\",\"Cluster 1\",\"Cluster 1\",\"Cluster 1\",\"Cluster 1\",\"Cluster 1\",\"Cluster 1\",\"Cluster 1\",\"Cluster 1\",\"Cluster 1\",\"Cluster 1\",\"Cluster 1\",\"Cluster 1\",\"Cluster 1\",\"Cluster 1\",\"Cluster 1\",\"Cluster 1\",\"Cluster 1\",\"Cluster 1\",\"Cluster 1\",\"Cluster 1\",\"Cluster 1\",\"Cluster 1\",\"Cluster 1\",\"Cluster 1\",\"Cluster 1\",\"Cluster 1\",\"Cluster 1\",\"Cluster 1\",\"Cluster 1\",\"Cluster 1\",\"Cluster 1\",\"Cluster 1\",\"Cluster 1\",\"Cluster 1\",\"Cluster 1\",\"Cluster 1\",\"Cluster 1\",\"Cluster 1\",\"Cluster 1\",\"Cluster 1\",\"Cluster 1\",\"Cluster 1\",\"Cluster 1\",\"Cluster 1\",\"Cluster 1\",\"Cluster 1\",\"Cluster 1\",\"Cluster 1\",\"Cluster 1\",\"Cluster 1\",\"Cluster 1\",\"Cluster 1\",\"Cluster 1\",\"Cluster 1\",\"Cluster 1\",\"Cluster 1\",\"Cluster 1\",\"Cluster 1\",\"Cluster 1\",\"Cluster 1\",\"Cluster 1\",\"Cluster 1\",\"Cluster 1\",\"Cluster 1\",\"Cluster 1\",\"Cluster 1\",\"Cluster 1\",\"Cluster 1\",\"Cluster 1\",\"Cluster 1\",\"Cluster 1\",\"Cluster 1\",\"Cluster 1\",\"Cluster 1\",\"Cluster 1\",\"Cluster 1\",\"Cluster 1\",\"Cluster 1\",\"Cluster 1\",\"Cluster 1\",\"Cluster 1\",\"Cluster 1\",\"Cluster 1\",\"Cluster 1\",\"Cluster 1\",\"Cluster 1\",\"Cluster 1\",\"Cluster 1\",\"Cluster 1\",\"Cluster 1\",\"Cluster 1\",\"Cluster 1\",\"Cluster 1\",\"Cluster 1\",\"Cluster 1\",\"Cluster 1\",\"Cluster 1\",\"Cluster 1\",\"Cluster 1\",\"Cluster 1\",\"Cluster 1\",\"Cluster 1\",\"Cluster 1\",\"Cluster 1\",\"Cluster 1\",\"Cluster 1\",\"Cluster 1\",\"Cluster 1\",\"Cluster 1\",\"Cluster 1\",\"Cluster 1\",\"Cluster 1\",\"Cluster 1\",\"Cluster 1\",\"Cluster 1\",\"Cluster 1\",\"Cluster 1\",\"Cluster 1\",\"Cluster 1\",\"Cluster 1\",\"Cluster 1\",\"Cluster 1\",\"Cluster 1\",\"Cluster 1\",\"Cluster 1\",\"Cluster 1\",\"Cluster 1\",\"Cluster 1\",\"Cluster 1\",\"Cluster 1\",\"Cluster 1\",\"Cluster 1\",\"Cluster 1\",\"Cluster 1\",\"Cluster 1\",\"Cluster 1\",\"Cluster 1\",\"Cluster 1\",\"Cluster 1\",\"Cluster 1\",\"Cluster 1\",\"Cluster 1\",\"Cluster 1\",\"Cluster 1\",\"Cluster 1\",\"Cluster 1\",\"Cluster 1\",\"Cluster 1\",\"Cluster 1\",\"Cluster 1\",\"Cluster 1\",\"Cluster 1\",\"Cluster 1\",\"Cluster 1\",\"Cluster 1\",\"Cluster 1\",\"Cluster 1\",\"Cluster 1\",\"Cluster 1\",\"Cluster 1\",\"Cluster 1\",\"Cluster 1\",\"Cluster 1\",\"Cluster 1\",\"Cluster 1\",\"Cluster 1\",\"Cluster 1\",\"Cluster 1\",\"Cluster 1\",\"Cluster 1\",\"Cluster 1\",\"Cluster 1\",\"Cluster 1\",\"Cluster 1\",\"Cluster 1\",\"Cluster 1\",\"Cluster 1\",\"Cluster 1\",\"Cluster 1\",\"Cluster 1\",\"Cluster 1\",\"Cluster 1\",\"Cluster 1\",\"Cluster 1\",\"Cluster 1\",\"Cluster 1\",\"Cluster 1\",\"Cluster 1\",\"Cluster 1\",\"Cluster 1\",\"Cluster 1\",\"Cluster 1\",\"Cluster 1\",\"Cluster 1\",\"Cluster 1\",\"Cluster 1\",\"Cluster 1\",\"Cluster 1\",\"Cluster 1\",\"Cluster 1\",\"Cluster 1\",\"Cluster 1\",\"Cluster 1\",\"Cluster 1\",\"Cluster 1\",\"Cluster 1\",\"Cluster 1\",\"Cluster 1\",\"Cluster 1\",\"Cluster 1\",\"Cluster 1\",\"Cluster 1\",\"Cluster 1\",\"Cluster 1\",\"Cluster 1\",\"Cluster 1\",\"Cluster 1\",\"Cluster 1\",\"Cluster 1\",\"Cluster 1\",\"Cluster 1\",\"Cluster 1\",\"Cluster 1\",\"Cluster 1\",\"Cluster 1\",\"Cluster 1\",\"Cluster 1\",\"Cluster 1\",\"Cluster 1\",\"Cluster 1\",\"Cluster 1\",\"Cluster 1\",\"Cluster 1\",\"Cluster 1\",\"Cluster 1\",\"Cluster 1\"],\"xaxis\":\"x2\",\"yaxis\":\"y2\",\"type\":\"box\"},{\"alignmentgroup\":\"True\",\"bingroup\":\"x\",\"hovertemplate\":\"Cluster=%{x}\\u003cbr\\u003ecount=%{y}\\u003cextra\\u003e\\u003c\\u002fextra\\u003e\",\"legendgroup\":\"Cluster 2\",\"marker\":{\"color\":\"#00cc96\",\"opacity\":0.7,\"pattern\":{\"shape\":\"\"}},\"name\":\"Cluster 2\",\"offsetgroup\":\"Cluster 2\",\"orientation\":\"v\",\"showlegend\":true,\"x\":[\"Cluster 2\",\"Cluster 2\",\"Cluster 2\",\"Cluster 2\",\"Cluster 2\",\"Cluster 2\",\"Cluster 2\",\"Cluster 2\",\"Cluster 2\",\"Cluster 2\",\"Cluster 2\",\"Cluster 2\",\"Cluster 2\",\"Cluster 2\",\"Cluster 2\",\"Cluster 2\",\"Cluster 2\",\"Cluster 2\",\"Cluster 2\",\"Cluster 2\",\"Cluster 2\",\"Cluster 2\",\"Cluster 2\",\"Cluster 2\",\"Cluster 2\",\"Cluster 2\",\"Cluster 2\",\"Cluster 2\",\"Cluster 2\",\"Cluster 2\",\"Cluster 2\",\"Cluster 2\",\"Cluster 2\",\"Cluster 2\",\"Cluster 2\",\"Cluster 2\",\"Cluster 2\",\"Cluster 2\",\"Cluster 2\",\"Cluster 2\",\"Cluster 2\",\"Cluster 2\",\"Cluster 2\",\"Cluster 2\",\"Cluster 2\",\"Cluster 2\",\"Cluster 2\",\"Cluster 2\",\"Cluster 2\",\"Cluster 2\",\"Cluster 2\",\"Cluster 2\",\"Cluster 2\",\"Cluster 2\",\"Cluster 2\",\"Cluster 2\",\"Cluster 2\",\"Cluster 2\",\"Cluster 2\",\"Cluster 2\",\"Cluster 2\",\"Cluster 2\",\"Cluster 2\",\"Cluster 2\",\"Cluster 2\",\"Cluster 2\",\"Cluster 2\",\"Cluster 2\",\"Cluster 2\",\"Cluster 2\",\"Cluster 2\",\"Cluster 2\",\"Cluster 2\",\"Cluster 2\",\"Cluster 2\",\"Cluster 2\",\"Cluster 2\",\"Cluster 2\",\"Cluster 2\",\"Cluster 2\",\"Cluster 2\",\"Cluster 2\",\"Cluster 2\",\"Cluster 2\",\"Cluster 2\",\"Cluster 2\",\"Cluster 2\",\"Cluster 2\",\"Cluster 2\",\"Cluster 2\",\"Cluster 2\",\"Cluster 2\",\"Cluster 2\",\"Cluster 2\",\"Cluster 2\",\"Cluster 2\",\"Cluster 2\",\"Cluster 2\",\"Cluster 2\",\"Cluster 2\",\"Cluster 2\",\"Cluster 2\",\"Cluster 2\",\"Cluster 2\",\"Cluster 2\",\"Cluster 2\",\"Cluster 2\",\"Cluster 2\",\"Cluster 2\",\"Cluster 2\",\"Cluster 2\",\"Cluster 2\",\"Cluster 2\",\"Cluster 2\",\"Cluster 2\",\"Cluster 2\",\"Cluster 2\",\"Cluster 2\",\"Cluster 2\",\"Cluster 2\",\"Cluster 2\",\"Cluster 2\",\"Cluster 2\",\"Cluster 2\",\"Cluster 2\",\"Cluster 2\",\"Cluster 2\",\"Cluster 2\",\"Cluster 2\",\"Cluster 2\",\"Cluster 2\",\"Cluster 2\",\"Cluster 2\",\"Cluster 2\",\"Cluster 2\",\"Cluster 2\",\"Cluster 2\",\"Cluster 2\",\"Cluster 2\",\"Cluster 2\",\"Cluster 2\",\"Cluster 2\",\"Cluster 2\",\"Cluster 2\",\"Cluster 2\",\"Cluster 2\",\"Cluster 2\",\"Cluster 2\",\"Cluster 2\",\"Cluster 2\",\"Cluster 2\",\"Cluster 2\",\"Cluster 2\",\"Cluster 2\",\"Cluster 2\",\"Cluster 2\",\"Cluster 2\",\"Cluster 2\",\"Cluster 2\",\"Cluster 2\",\"Cluster 2\",\"Cluster 2\",\"Cluster 2\",\"Cluster 2\",\"Cluster 2\",\"Cluster 2\",\"Cluster 2\",\"Cluster 2\",\"Cluster 2\",\"Cluster 2\",\"Cluster 2\",\"Cluster 2\",\"Cluster 2\",\"Cluster 2\",\"Cluster 2\",\"Cluster 2\",\"Cluster 2\",\"Cluster 2\",\"Cluster 2\",\"Cluster 2\",\"Cluster 2\",\"Cluster 2\",\"Cluster 2\",\"Cluster 2\",\"Cluster 2\",\"Cluster 2\",\"Cluster 2\",\"Cluster 2\",\"Cluster 2\",\"Cluster 2\",\"Cluster 2\",\"Cluster 2\",\"Cluster 2\",\"Cluster 2\",\"Cluster 2\",\"Cluster 2\",\"Cluster 2\",\"Cluster 2\",\"Cluster 2\",\"Cluster 2\",\"Cluster 2\",\"Cluster 2\",\"Cluster 2\",\"Cluster 2\",\"Cluster 2\",\"Cluster 2\",\"Cluster 2\",\"Cluster 2\",\"Cluster 2\",\"Cluster 2\",\"Cluster 2\",\"Cluster 2\",\"Cluster 2\",\"Cluster 2\",\"Cluster 2\",\"Cluster 2\",\"Cluster 2\",\"Cluster 2\",\"Cluster 2\",\"Cluster 2\",\"Cluster 2\",\"Cluster 2\",\"Cluster 2\",\"Cluster 2\",\"Cluster 2\",\"Cluster 2\",\"Cluster 2\",\"Cluster 2\",\"Cluster 2\",\"Cluster 2\",\"Cluster 2\",\"Cluster 2\",\"Cluster 2\",\"Cluster 2\",\"Cluster 2\",\"Cluster 2\",\"Cluster 2\",\"Cluster 2\",\"Cluster 2\",\"Cluster 2\",\"Cluster 2\",\"Cluster 2\",\"Cluster 2\",\"Cluster 2\",\"Cluster 2\",\"Cluster 2\",\"Cluster 2\",\"Cluster 2\",\"Cluster 2\",\"Cluster 2\",\"Cluster 2\",\"Cluster 2\",\"Cluster 2\",\"Cluster 2\",\"Cluster 2\",\"Cluster 2\",\"Cluster 2\",\"Cluster 2\",\"Cluster 2\",\"Cluster 2\",\"Cluster 2\",\"Cluster 2\",\"Cluster 2\",\"Cluster 2\",\"Cluster 2\",\"Cluster 2\",\"Cluster 2\",\"Cluster 2\",\"Cluster 2\",\"Cluster 2\",\"Cluster 2\",\"Cluster 2\",\"Cluster 2\",\"Cluster 2\",\"Cluster 2\",\"Cluster 2\",\"Cluster 2\",\"Cluster 2\",\"Cluster 2\",\"Cluster 2\",\"Cluster 2\",\"Cluster 2\",\"Cluster 2\",\"Cluster 2\",\"Cluster 2\",\"Cluster 2\",\"Cluster 2\",\"Cluster 2\",\"Cluster 2\",\"Cluster 2\",\"Cluster 2\",\"Cluster 2\",\"Cluster 2\",\"Cluster 2\",\"Cluster 2\",\"Cluster 2\",\"Cluster 2\",\"Cluster 2\",\"Cluster 2\",\"Cluster 2\",\"Cluster 2\",\"Cluster 2\",\"Cluster 2\",\"Cluster 2\",\"Cluster 2\",\"Cluster 2\",\"Cluster 2\",\"Cluster 2\",\"Cluster 2\",\"Cluster 2\",\"Cluster 2\",\"Cluster 2\",\"Cluster 2\",\"Cluster 2\",\"Cluster 2\",\"Cluster 2\",\"Cluster 2\",\"Cluster 2\",\"Cluster 2\",\"Cluster 2\",\"Cluster 2\",\"Cluster 2\",\"Cluster 2\",\"Cluster 2\",\"Cluster 2\",\"Cluster 2\",\"Cluster 2\",\"Cluster 2\",\"Cluster 2\",\"Cluster 2\",\"Cluster 2\",\"Cluster 2\",\"Cluster 2\",\"Cluster 2\",\"Cluster 2\",\"Cluster 2\",\"Cluster 2\",\"Cluster 2\",\"Cluster 2\",\"Cluster 2\",\"Cluster 2\",\"Cluster 2\",\"Cluster 2\",\"Cluster 2\",\"Cluster 2\",\"Cluster 2\",\"Cluster 2\",\"Cluster 2\"],\"xaxis\":\"x\",\"yaxis\":\"y\",\"type\":\"histogram\"},{\"alignmentgroup\":\"True\",\"customdata\":[[23.0,3083.0,0.0,5.0,431.0867614746094],[37.0,3291.0,1.0,8.0,445.3564453125],[18.0,1068.0,1.0,6.0,26.314451217651367],[58.0,3256.0,1.0,8.0,188.58326721191406],[62.0,1318.0,1.0,9.0,286.311279296875],[44.0,2898.0,0.0,3.0,461.1146545410156],[29.0,3038.0,1.0,0.0,195.89593505859375],[47.0,1385.0,0.0,1.0,295.8758239746094],[66.0,3737.0,0.0,5.0,174.1112060546875],[28.0,3578.0,0.0,7.0,381.6711730957031],[35.0,1208.0,0.0,0.0,232.21237182617188],[34.0,3574.0,1.0,4.0,246.27517700195312],[59.0,2215.0,0.0,2.0,395.357421875],[24.0,1052.0,1.0,0.0,263.1759338378906],[34.0,1103.0,1.0,0.0,444.95233154296875],[51.0,2482.0,0.0,0.0,167.79632568359375],[64.0,2723.0,0.0,4.0,293.3331604003906],[27.0,3449.0,0.0,8.0,262.9284362792969],[29.0,3705.0,1.0,1.0,248.74205017089844],[60.0,3959.0,1.0,3.0,96.43999481201172],[56.0,2999.0,1.0,2.0,99.72662353515625],[48.0,3650.0,0.0,1.0,479.88214111328125],[49.0,3156.0,0.0,6.0,312.0005798339844],[27.0,3840.0,1.0,2.0,288.7196960449219],[23.0,3164.0,1.0,1.0,289.89544677734375],[39.0,3480.0,1.0,4.0,52.930606842041016],[37.0,1137.0,0.0,7.0,427.8595886230469],[60.0,1588.0,1.0,6.0,297.0843505859375],[47.0,1187.0,0.0,1.0,493.45184326171875],[57.0,2298.0,1.0,7.0,295.7182312011719],[22.0,3854.0,0.0,6.0,297.7525939941406],[32.0,1995.0,0.0,2.0,243.74386596679688],[43.0,3030.0,1.0,1.0,372.5479431152344],[63.0,3104.0,0.0,9.0,321.9656066894531],[21.0,3326.0,0.0,0.0,248.989501953125],[69.0,1127.0,1.0,8.0,340.9053649902344],[65.0,1257.0,0.0,8.0,313.6705017089844],[31.0,3383.0,1.0,4.0,380.3646240234375],[54.0,1783.0,0.0,7.0,484.505615234375],[28.0,1899.0,1.0,1.0,171.01544189453125],[28.0,3353.0,0.0,3.0,215.49659729003906],[59.0,2004.0,0.0,6.0,286.74102783203125],[35.0,1406.0,1.0,7.0,222.8887939453125],[20.0,1694.0,1.0,9.0,364.4943542480469],[25.0,1589.0,0.0,1.0,364.5741271972656],[37.0,1129.0,0.0,9.0,339.1139831542969],[59.0,2580.0,1.0,9.0,118.69612121582031],[38.0,1176.0,0.0,4.0,200.56170654296875],[65.0,3575.0,0.0,1.0,214.0437774658203],[42.0,3545.0,1.0,4.0,53.94001770019531],[29.0,3675.0,0.0,8.0,357.8656921386719],[38.0,1346.0,1.0,7.0,491.1276550292969],[27.0,1760.0,0.0,7.0,289.1458435058594],[32.0,1017.0,1.0,6.0,412.3143310546875],[58.0,3809.0,0.0,5.0,439.2872009277344],[44.0,2105.0,1.0,0.0,295.88037109375],[64.0,2071.0,0.0,6.0,375.15911865234375],[47.0,1322.0,0.0,1.0,337.1813659667969],[64.0,2065.0,1.0,8.0,248.1041717529297],[66.0,1176.0,1.0,5.0,371.4813232421875],[52.0,3666.0,0.0,9.0,181.08676147460938],[56.0,2084.0,1.0,2.0,140.71603393554688],[54.0,3122.0,0.0,5.0,60.59623718261719],[30.0,3305.0,1.0,3.0,476.3703918457031],[33.0,3829.0,1.0,5.0,417.7034912109375],[51.0,1464.0,0.0,3.0,457.3482971191406],[18.0,2720.0,0.0,2.0,236.190185546875],[69.0,3360.0,0.0,7.0,88.02051544189453],[66.0,3442.0,1.0,9.0,139.03958129882812],[23.0,1292.0,1.0,2.0,152.89183044433594],[34.0,1808.0,1.0,3.0,242.74131774902344],[33.0,3265.0,0.0,0.0,444.15478515625],[47.0,2815.0,1.0,0.0,149.37962341308594],[50.0,3428.0,0.0,0.0,51.28633499145508],[48.0,2432.0,1.0,5.0,45.81167984008789],[20.0,3762.0,0.0,0.0,93.54700469970703],[45.0,2707.0,0.0,0.0,40.62623596191406],[54.0,1906.0,0.0,7.0,201.10037231445312],[42.0,1862.0,1.0,6.0,416.7854919433594],[46.0,1016.0,1.0,3.0,191.041015625],[53.0,3322.0,0.0,0.0,250.4568634033203],[68.0,1293.0,1.0,8.0,275.58404541015625],[29.0,2587.0,0.0,4.0,288.375244140625],[67.0,1557.0,0.0,5.0,300.88330078125],[62.0,1444.0,1.0,3.0,137.26901245117188],[49.0,1736.0,0.0,6.0,391.1864318847656],[58.0,2536.0,1.0,9.0,446.4676818847656],[37.0,1316.0,1.0,6.0,400.3100280761719],[28.0,3071.0,0.0,5.0,198.405029296875],[47.0,2732.0,1.0,6.0,307.9316711425781],[25.0,3546.0,0.0,4.0,466.2283935546875],[61.0,3046.0,0.0,3.0,424.8407287597656],[63.0,2535.0,0.0,0.0,282.1933898925781],[21.0,3017.0,0.0,0.0,73.40702056884766],[55.0,2853.0,0.0,2.0,104.80528259277344],[65.0,1686.0,1.0,3.0,199.77281188964844],[53.0,2036.0,1.0,8.0,45.52558898925781],[45.0,3957.0,1.0,9.0,193.4053192138672],[65.0,3715.0,0.0,5.0,301.9862365722656],[30.0,3608.0,0.0,3.0,259.00164794921875],[25.0,2131.0,1.0,9.0,206.40843200683594],[28.0,2650.0,0.0,1.0,151.0765838623047],[46.0,1561.0,1.0,1.0,354.64031982421875],[69.0,2303.0,1.0,8.0,479.27789306640625],[66.0,3226.0,1.0,5.0,102.81000518798828],[67.0,2160.0,0.0,7.0,245.25067138671875],[28.0,3330.0,0.0,3.0,303.0364074707031],[39.0,3547.0,1.0,1.0,37.390953063964844],[36.0,2029.0,1.0,8.0,379.41851806640625],[24.0,2222.0,1.0,2.0,151.49330139160156],[20.0,3209.0,0.0,0.0,71.89696502685547],[66.0,3510.0,0.0,2.0,115.76961517333984],[38.0,2535.0,0.0,6.0,253.061279296875],[65.0,1374.0,1.0,8.0,226.82586669921875],[19.0,2324.0,0.0,2.0,350.4674072265625],[57.0,1332.0,0.0,7.0,265.9417419433594],[56.0,2856.0,1.0,4.0,436.3517150878906],[31.0,1346.0,1.0,4.0,462.0067138671875],[69.0,3275.0,0.0,9.0,411.94012451171875],[18.0,3889.0,0.0,1.0,251.42379760742188],[58.0,3188.0,1.0,9.0,292.9730529785156],[44.0,2600.0,1.0,3.0,47.70073318481445],[54.0,2858.0,0.0,7.0,136.60264587402344],[57.0,1027.0,1.0,8.0,104.30758666992188],[68.0,1280.0,1.0,4.0,114.97064208984375],[68.0,2139.0,0.0,2.0,381.892822265625],[63.0,1837.0,0.0,3.0,417.2198486328125],[51.0,3435.0,0.0,4.0,309.5119934082031],[34.0,2602.0,0.0,5.0,440.4112243652344],[48.0,2565.0,0.0,4.0,226.2159423828125],[35.0,2466.0,0.0,3.0,173.9334259033203],[61.0,3545.0,1.0,3.0,476.263427734375],[29.0,2094.0,1.0,0.0,29.46377944946289],[51.0,3825.0,0.0,8.0,160.6028594970703],[67.0,1758.0,1.0,9.0,434.48291015625],[35.0,3689.0,0.0,2.0,495.6057434082031],[26.0,1852.0,0.0,4.0,30.832687377929688],[27.0,3351.0,1.0,3.0,397.21881103515625],[50.0,1816.0,0.0,0.0,20.800146102905273],[33.0,3180.0,0.0,9.0,135.89198303222656],[22.0,2351.0,1.0,1.0,162.14015197753906],[65.0,2028.0,1.0,7.0,238.42996215820312],[67.0,2272.0,1.0,7.0,389.26239013671875],[66.0,3151.0,0.0,7.0,362.39447021484375],[18.0,1042.0,1.0,5.0,93.94115447998047],[20.0,1428.0,1.0,1.0,157.13172912597656],[33.0,1789.0,1.0,8.0,183.60096740722656],[62.0,3598.0,0.0,7.0,278.6312561035156],[45.0,2191.0,1.0,2.0,216.99159240722656],[66.0,1803.0,1.0,6.0,119.90750122070312],[45.0,3495.0,1.0,4.0,116.90995025634766],[66.0,2097.0,1.0,6.0,57.96858215332031],[49.0,2237.0,0.0,1.0,466.6338195800781],[37.0,3618.0,0.0,3.0,400.696044921875],[52.0,1529.0,1.0,5.0,312.89508056640625],[45.0,1888.0,0.0,4.0,492.1481628417969],[60.0,3162.0,0.0,4.0,445.2266845703125],[31.0,1919.0,0.0,2.0,321.7635498046875],[59.0,3760.0,0.0,3.0,112.72057342529297],[54.0,2472.0,1.0,9.0,211.9031219482422],[65.0,2703.0,0.0,7.0,313.35284423828125],[52.0,1267.0,0.0,7.0,201.03054809570312],[69.0,1274.0,1.0,8.0,235.83120727539062],[40.0,3003.0,1.0,2.0,171.50991821289062],[24.0,1396.0,1.0,9.0,102.71449279785156],[64.0,1621.0,1.0,8.0,106.33484649658203],[51.0,1026.0,1.0,8.0,46.33789825439453],[40.0,3713.0,0.0,9.0,328.3211669921875],[67.0,2727.0,0.0,8.0,421.28857421875],[18.0,2132.0,1.0,2.0,369.7851867675781],[41.0,1393.0,1.0,7.0,252.67868041992188],[35.0,1101.0,1.0,1.0,157.13780212402344],[48.0,3972.0,1.0,6.0,223.6605682373047],[53.0,1195.0,0.0,1.0,369.2098693847656],[20.0,1044.0,1.0,9.0,142.49679565429688],[43.0,2114.0,0.0,1.0,131.188232421875],[65.0,3668.0,1.0,4.0,322.00140380859375],[19.0,3383.0,1.0,4.0,123.84870147705078],[32.0,2562.0,1.0,1.0,102.86573791503906],[41.0,1903.0,0.0,7.0,117.22161865234375],[21.0,3314.0,0.0,3.0,267.1228942871094],[58.0,3363.0,1.0,1.0,359.1867980957031],[26.0,1565.0,0.0,5.0,460.55926513671875],[63.0,2014.0,0.0,0.0,48.79979705810547],[57.0,1490.0,1.0,7.0,232.43064880371094],[53.0,3320.0,0.0,6.0,282.773193359375],[62.0,3946.0,0.0,4.0,123.29348754882812],[29.0,1328.0,0.0,8.0,471.9180603027344],[43.0,1820.0,0.0,4.0,45.62605285644531],[63.0,1615.0,1.0,7.0,48.6651611328125],[33.0,1678.0,0.0,6.0,479.8040466308594],[38.0,1847.0,0.0,3.0,173.59780883789062],[19.0,3423.0,0.0,2.0,470.09637451171875],[24.0,3974.0,1.0,5.0,101.8376235961914],[36.0,2699.0,1.0,1.0,427.52813720703125],[38.0,2397.0,0.0,3.0,40.589054107666016],[52.0,2231.0,0.0,7.0,291.3727111816406],[62.0,3616.0,1.0,9.0,210.876220703125],[43.0,3027.0,0.0,7.0,431.4026184082031],[53.0,1094.0,1.0,7.0,80.43534851074219],[31.0,1861.0,1.0,8.0,156.83241271972656],[40.0,3101.0,1.0,4.0,486.59368896484375],[69.0,2318.0,1.0,6.0,321.03497314453125],[68.0,1389.0,1.0,2.0,450.1373291015625],[45.0,1038.0,0.0,7.0,252.83721923828125],[35.0,1022.0,1.0,7.0,114.91619110107422],[44.0,1444.0,1.0,9.0,494.6976318359375],[58.0,1897.0,0.0,3.0,94.85365295410156],[58.0,1210.0,0.0,7.0,194.68707275390625],[61.0,1792.0,1.0,3.0,413.82293701171875],[55.0,2625.0,1.0,1.0,159.19338989257812],[53.0,1626.0,1.0,2.0,216.10391235351562],[56.0,1333.0,1.0,7.0,289.98828125],[61.0,1322.0,0.0,4.0,330.79754638671875],[54.0,2108.0,0.0,7.0,329.1424560546875],[24.0,2647.0,1.0,9.0,185.42173767089844],[39.0,2084.0,0.0,4.0,57.709041595458984],[66.0,3113.0,0.0,2.0,368.2928771972656],[49.0,1986.0,0.0,9.0,279.0276184082031],[54.0,2331.0,1.0,4.0,78.43350219726562],[49.0,3143.0,1.0,7.0,73.71598052978516],[63.0,1024.0,1.0,5.0,106.06464385986328],[41.0,1213.0,1.0,7.0,400.78558349609375],[44.0,3030.0,0.0,5.0,251.26808166503906],[31.0,3660.0,0.0,5.0,457.900390625],[43.0,1826.0,0.0,0.0,179.22933959960938],[24.0,1840.0,0.0,7.0,459.88897705078125],[55.0,2789.0,0.0,4.0,266.6973876953125],[51.0,3266.0,0.0,6.0,186.13104248046875],[37.0,2594.0,1.0,1.0,44.90360641479492],[19.0,2832.0,1.0,4.0,448.9519348144531],[55.0,3585.0,1.0,3.0,88.63175964355469],[52.0,1382.0,0.0,4.0,441.5068359375],[19.0,3370.0,0.0,5.0,496.4693603515625],[49.0,3509.0,1.0,7.0,145.3886260986328],[49.0,1098.0,0.0,2.0,276.1488037109375],[68.0,3193.0,1.0,8.0,114.72566223144531],[25.0,2567.0,1.0,6.0,389.3340759277344],[67.0,3518.0,0.0,7.0,49.82001876831055],[69.0,1072.0,1.0,0.0,152.24740600585938],[53.0,1635.0,1.0,8.0,399.68212890625],[57.0,3219.0,1.0,0.0,460.95025634765625],[46.0,2004.0,1.0,7.0,78.91228485107422],[27.0,2581.0,0.0,3.0,264.3430480957031],[21.0,3135.0,0.0,5.0,283.7342224121094],[56.0,2574.0,1.0,6.0,151.63528442382812],[36.0,2266.0,1.0,7.0,375.6836853027344],[41.0,1482.0,1.0,9.0,375.0750427246094],[43.0,1983.0,1.0,0.0,404.9362487792969],[62.0,3779.0,0.0,2.0,32.26338577270508],[20.0,2670.0,0.0,8.0,470.50323486328125],[18.0,1379.0,0.0,4.0,244.86746215820312],[49.0,2779.0,1.0,8.0,243.3149871826172],[64.0,1613.0,0.0,5.0,120.21302795410156],[26.0,2642.0,0.0,4.0,24.1644287109375],[28.0,2721.0,1.0,7.0,46.56121063232422],[32.0,3580.0,0.0,8.0,278.0989685058594],[64.0,2650.0,0.0,1.0,88.02758026123047],[19.0,1574.0,1.0,9.0,73.93775939941406],[40.0,1151.0,1.0,0.0,180.3218536376953],[52.0,1504.0,0.0,0.0,479.190673828125],[40.0,2567.0,1.0,1.0,51.6666374206543],[32.0,3173.0,0.0,7.0,222.37484741210938],[67.0,2158.0,1.0,6.0,474.08160400390625],[20.0,2878.0,0.0,5.0,492.0951843261719],[56.0,3993.0,1.0,7.0,105.59403228759766],[20.0,3838.0,0.0,0.0,228.9938507080078],[66.0,1711.0,0.0,0.0,229.65167236328125],[48.0,3522.0,0.0,7.0,127.13114929199219],[21.0,2878.0,1.0,7.0,425.7373352050781],[68.0,1472.0,1.0,9.0,104.59602355957031],[43.0,3663.0,1.0,0.0,377.11669921875],[61.0,3486.0,1.0,9.0,91.6618423461914],[34.0,1266.0,1.0,4.0,281.32342529296875],[51.0,3418.0,1.0,2.0,367.656982421875],[40.0,3570.0,1.0,7.0,458.4275207519531],[65.0,1721.0,0.0,1.0,78.26708221435547],[30.0,2812.0,1.0,1.0,316.2598876953125],[56.0,3065.0,0.0,7.0,416.34478759765625],[65.0,3818.0,0.0,7.0,192.85557556152344],[36.0,1457.0,0.0,0.0,80.73948669433594],[26.0,2661.0,1.0,0.0,130.36544799804688],[40.0,2130.0,1.0,1.0,314.88165283203125],[53.0,3128.0,0.0,9.0,466.8311767578125],[38.0,2565.0,0.0,8.0,87.69258880615234],[26.0,1528.0,1.0,8.0,81.66157531738281],[25.0,3413.0,0.0,2.0,84.31854248046875],[41.0,3748.0,0.0,3.0,341.400634765625],[51.0,1890.0,1.0,1.0,180.1874237060547],[43.0,1463.0,1.0,6.0,234.1939239501953],[66.0,3792.0,1.0,3.0,39.94020462036133],[31.0,2974.0,0.0,2.0,157.20257568359375],[64.0,1917.0,1.0,6.0,290.8772277832031],[42.0,1420.0,1.0,1.0,148.46099853515625],[69.0,3894.0,0.0,1.0,150.12281799316406],[34.0,3837.0,0.0,2.0,320.3807373046875],[27.0,1003.0,1.0,5.0,175.1611328125],[22.0,2066.0,1.0,1.0,461.9443359375],[49.0,1844.0,0.0,4.0,338.5071716308594],[56.0,1575.0,1.0,4.0,140.63162231445312],[31.0,2731.0,0.0,9.0,322.63751220703125],[68.0,3863.0,0.0,7.0,76.74060821533203],[32.0,1669.0,0.0,0.0,129.8804931640625],[55.0,3772.0,0.0,4.0,201.06178283691406],[33.0,2501.0,0.0,8.0,495.36212158203125],[38.0,1664.0,1.0,1.0,350.47344970703125],[27.0,3784.0,0.0,9.0,24.246726989746094],[59.0,1451.0,0.0,2.0,252.55455017089844],[59.0,3691.0,1.0,8.0,165.8406219482422],[54.0,1093.0,0.0,6.0,290.8044128417969],[33.0,2280.0,0.0,9.0,386.26123046875],[45.0,2904.0,0.0,3.0,119.41787719726562],[51.0,2027.0,1.0,6.0,135.08473205566406],[53.0,1239.0,0.0,6.0,95.92477416992188],[47.0,3359.0,1.0,2.0,443.40118408203125],[19.0,2014.0,0.0,6.0,301.653076171875],[60.0,2231.0,0.0,4.0,59.19805908203125],[38.0,2989.0,1.0,6.0,294.8345947265625],[39.0,3080.0,1.0,7.0,439.35784912109375],[27.0,1363.0,0.0,1.0,432.5395812988281],[23.0,1468.0,0.0,7.0,337.5068054199219],[20.0,3221.0,0.0,4.0,27.19959259033203],[63.0,1791.0,1.0,1.0,364.0071716308594],[50.0,1734.0,0.0,7.0,24.737207412719727],[62.0,3777.0,0.0,4.0,209.767333984375],[24.0,2923.0,0.0,1.0,312.10894775390625],[20.0,2738.0,1.0,5.0,41.76661682128906],[53.0,3606.0,1.0,7.0,131.1975555419922],[19.0,1489.0,0.0,9.0,73.76052856445312],[20.0,2713.0,0.0,8.0,76.32209014892578],[59.0,2828.0,1.0,0.0,283.34619140625],[64.0,3391.0,1.0,9.0,245.7047882080078],[32.0,1281.0,1.0,2.0,430.7437744140625],[36.0,3176.0,0.0,2.0,415.4494934082031],[19.0,3439.0,0.0,8.0,467.7148742675781],[49.0,3209.0,0.0,5.0,458.9928894042969],[52.0,2641.0,0.0,8.0,133.2379150390625],[19.0,1935.0,1.0,0.0,453.8372802734375],[32.0,3578.0,0.0,0.0,225.0797882080078],[58.0,3995.0,0.0,1.0,382.3136901855469],[21.0,2474.0,0.0,3.0,343.11126708984375],[41.0,2984.0,0.0,4.0,348.9501647949219],[58.0,3388.0,1.0,2.0,290.5179748535156],[69.0,2046.0,1.0,5.0,362.91046142578125],[45.0,3445.0,0.0,9.0,495.2362976074219],[67.0,2304.0,0.0,6.0,293.78814697265625],[38.0,3712.0,0.0,9.0,248.68478393554688],[23.0,3184.0,1.0,3.0,296.2851867675781]],\"hovertemplate\":\"Cluster=%{x}\\u003cbr\\u003eAge=%{customdata[0]}\\u003cbr\\u003eIncome=%{customdata[1]}\\u003cbr\\u003eGender=%{customdata[2]}\\u003cbr\\u003eNumber_of_Visits=%{customdata[3]}\\u003cbr\\u003eAverage_Spending=%{customdata[4]}\\u003cextra\\u003e\\u003c\\u002fextra\\u003e\",\"legendgroup\":\"Cluster 2\",\"marker\":{\"color\":\"#00cc96\"},\"name\":\"Cluster 2\",\"notched\":true,\"offsetgroup\":\"Cluster 2\",\"showlegend\":false,\"x\":[\"Cluster 2\",\"Cluster 2\",\"Cluster 2\",\"Cluster 2\",\"Cluster 2\",\"Cluster 2\",\"Cluster 2\",\"Cluster 2\",\"Cluster 2\",\"Cluster 2\",\"Cluster 2\",\"Cluster 2\",\"Cluster 2\",\"Cluster 2\",\"Cluster 2\",\"Cluster 2\",\"Cluster 2\",\"Cluster 2\",\"Cluster 2\",\"Cluster 2\",\"Cluster 2\",\"Cluster 2\",\"Cluster 2\",\"Cluster 2\",\"Cluster 2\",\"Cluster 2\",\"Cluster 2\",\"Cluster 2\",\"Cluster 2\",\"Cluster 2\",\"Cluster 2\",\"Cluster 2\",\"Cluster 2\",\"Cluster 2\",\"Cluster 2\",\"Cluster 2\",\"Cluster 2\",\"Cluster 2\",\"Cluster 2\",\"Cluster 2\",\"Cluster 2\",\"Cluster 2\",\"Cluster 2\",\"Cluster 2\",\"Cluster 2\",\"Cluster 2\",\"Cluster 2\",\"Cluster 2\",\"Cluster 2\",\"Cluster 2\",\"Cluster 2\",\"Cluster 2\",\"Cluster 2\",\"Cluster 2\",\"Cluster 2\",\"Cluster 2\",\"Cluster 2\",\"Cluster 2\",\"Cluster 2\",\"Cluster 2\",\"Cluster 2\",\"Cluster 2\",\"Cluster 2\",\"Cluster 2\",\"Cluster 2\",\"Cluster 2\",\"Cluster 2\",\"Cluster 2\",\"Cluster 2\",\"Cluster 2\",\"Cluster 2\",\"Cluster 2\",\"Cluster 2\",\"Cluster 2\",\"Cluster 2\",\"Cluster 2\",\"Cluster 2\",\"Cluster 2\",\"Cluster 2\",\"Cluster 2\",\"Cluster 2\",\"Cluster 2\",\"Cluster 2\",\"Cluster 2\",\"Cluster 2\",\"Cluster 2\",\"Cluster 2\",\"Cluster 2\",\"Cluster 2\",\"Cluster 2\",\"Cluster 2\",\"Cluster 2\",\"Cluster 2\",\"Cluster 2\",\"Cluster 2\",\"Cluster 2\",\"Cluster 2\",\"Cluster 2\",\"Cluster 2\",\"Cluster 2\",\"Cluster 2\",\"Cluster 2\",\"Cluster 2\",\"Cluster 2\",\"Cluster 2\",\"Cluster 2\",\"Cluster 2\",\"Cluster 2\",\"Cluster 2\",\"Cluster 2\",\"Cluster 2\",\"Cluster 2\",\"Cluster 2\",\"Cluster 2\",\"Cluster 2\",\"Cluster 2\",\"Cluster 2\",\"Cluster 2\",\"Cluster 2\",\"Cluster 2\",\"Cluster 2\",\"Cluster 2\",\"Cluster 2\",\"Cluster 2\",\"Cluster 2\",\"Cluster 2\",\"Cluster 2\",\"Cluster 2\",\"Cluster 2\",\"Cluster 2\",\"Cluster 2\",\"Cluster 2\",\"Cluster 2\",\"Cluster 2\",\"Cluster 2\",\"Cluster 2\",\"Cluster 2\",\"Cluster 2\",\"Cluster 2\",\"Cluster 2\",\"Cluster 2\",\"Cluster 2\",\"Cluster 2\",\"Cluster 2\",\"Cluster 2\",\"Cluster 2\",\"Cluster 2\",\"Cluster 2\",\"Cluster 2\",\"Cluster 2\",\"Cluster 2\",\"Cluster 2\",\"Cluster 2\",\"Cluster 2\",\"Cluster 2\",\"Cluster 2\",\"Cluster 2\",\"Cluster 2\",\"Cluster 2\",\"Cluster 2\",\"Cluster 2\",\"Cluster 2\",\"Cluster 2\",\"Cluster 2\",\"Cluster 2\",\"Cluster 2\",\"Cluster 2\",\"Cluster 2\",\"Cluster 2\",\"Cluster 2\",\"Cluster 2\",\"Cluster 2\",\"Cluster 2\",\"Cluster 2\",\"Cluster 2\",\"Cluster 2\",\"Cluster 2\",\"Cluster 2\",\"Cluster 2\",\"Cluster 2\",\"Cluster 2\",\"Cluster 2\",\"Cluster 2\",\"Cluster 2\",\"Cluster 2\",\"Cluster 2\",\"Cluster 2\",\"Cluster 2\",\"Cluster 2\",\"Cluster 2\",\"Cluster 2\",\"Cluster 2\",\"Cluster 2\",\"Cluster 2\",\"Cluster 2\",\"Cluster 2\",\"Cluster 2\",\"Cluster 2\",\"Cluster 2\",\"Cluster 2\",\"Cluster 2\",\"Cluster 2\",\"Cluster 2\",\"Cluster 2\",\"Cluster 2\",\"Cluster 2\",\"Cluster 2\",\"Cluster 2\",\"Cluster 2\",\"Cluster 2\",\"Cluster 2\",\"Cluster 2\",\"Cluster 2\",\"Cluster 2\",\"Cluster 2\",\"Cluster 2\",\"Cluster 2\",\"Cluster 2\",\"Cluster 2\",\"Cluster 2\",\"Cluster 2\",\"Cluster 2\",\"Cluster 2\",\"Cluster 2\",\"Cluster 2\",\"Cluster 2\",\"Cluster 2\",\"Cluster 2\",\"Cluster 2\",\"Cluster 2\",\"Cluster 2\",\"Cluster 2\",\"Cluster 2\",\"Cluster 2\",\"Cluster 2\",\"Cluster 2\",\"Cluster 2\",\"Cluster 2\",\"Cluster 2\",\"Cluster 2\",\"Cluster 2\",\"Cluster 2\",\"Cluster 2\",\"Cluster 2\",\"Cluster 2\",\"Cluster 2\",\"Cluster 2\",\"Cluster 2\",\"Cluster 2\",\"Cluster 2\",\"Cluster 2\",\"Cluster 2\",\"Cluster 2\",\"Cluster 2\",\"Cluster 2\",\"Cluster 2\",\"Cluster 2\",\"Cluster 2\",\"Cluster 2\",\"Cluster 2\",\"Cluster 2\",\"Cluster 2\",\"Cluster 2\",\"Cluster 2\",\"Cluster 2\",\"Cluster 2\",\"Cluster 2\",\"Cluster 2\",\"Cluster 2\",\"Cluster 2\",\"Cluster 2\",\"Cluster 2\",\"Cluster 2\",\"Cluster 2\",\"Cluster 2\",\"Cluster 2\",\"Cluster 2\",\"Cluster 2\",\"Cluster 2\",\"Cluster 2\",\"Cluster 2\",\"Cluster 2\",\"Cluster 2\",\"Cluster 2\",\"Cluster 2\",\"Cluster 2\",\"Cluster 2\",\"Cluster 2\",\"Cluster 2\",\"Cluster 2\",\"Cluster 2\",\"Cluster 2\",\"Cluster 2\",\"Cluster 2\",\"Cluster 2\",\"Cluster 2\",\"Cluster 2\",\"Cluster 2\",\"Cluster 2\",\"Cluster 2\",\"Cluster 2\",\"Cluster 2\",\"Cluster 2\",\"Cluster 2\",\"Cluster 2\",\"Cluster 2\",\"Cluster 2\",\"Cluster 2\",\"Cluster 2\",\"Cluster 2\",\"Cluster 2\",\"Cluster 2\",\"Cluster 2\",\"Cluster 2\",\"Cluster 2\",\"Cluster 2\",\"Cluster 2\",\"Cluster 2\",\"Cluster 2\",\"Cluster 2\",\"Cluster 2\",\"Cluster 2\",\"Cluster 2\",\"Cluster 2\",\"Cluster 2\",\"Cluster 2\",\"Cluster 2\",\"Cluster 2\",\"Cluster 2\",\"Cluster 2\",\"Cluster 2\",\"Cluster 2\",\"Cluster 2\",\"Cluster 2\",\"Cluster 2\",\"Cluster 2\",\"Cluster 2\",\"Cluster 2\",\"Cluster 2\",\"Cluster 2\",\"Cluster 2\",\"Cluster 2\",\"Cluster 2\",\"Cluster 2\",\"Cluster 2\",\"Cluster 2\",\"Cluster 2\",\"Cluster 2\"],\"xaxis\":\"x2\",\"yaxis\":\"y2\",\"type\":\"box\"}],                        {\"template\":{\"data\":{\"histogram2dcontour\":[{\"type\":\"histogram2dcontour\",\"colorbar\":{\"outlinewidth\":0,\"ticks\":\"\"},\"colorscale\":[[0.0,\"#0d0887\"],[0.1111111111111111,\"#46039f\"],[0.2222222222222222,\"#7201a8\"],[0.3333333333333333,\"#9c179e\"],[0.4444444444444444,\"#bd3786\"],[0.5555555555555556,\"#d8576b\"],[0.6666666666666666,\"#ed7953\"],[0.7777777777777778,\"#fb9f3a\"],[0.8888888888888888,\"#fdca26\"],[1.0,\"#f0f921\"]]}],\"choropleth\":[{\"type\":\"choropleth\",\"colorbar\":{\"outlinewidth\":0,\"ticks\":\"\"}}],\"histogram2d\":[{\"type\":\"histogram2d\",\"colorbar\":{\"outlinewidth\":0,\"ticks\":\"\"},\"colorscale\":[[0.0,\"#0d0887\"],[0.1111111111111111,\"#46039f\"],[0.2222222222222222,\"#7201a8\"],[0.3333333333333333,\"#9c179e\"],[0.4444444444444444,\"#bd3786\"],[0.5555555555555556,\"#d8576b\"],[0.6666666666666666,\"#ed7953\"],[0.7777777777777778,\"#fb9f3a\"],[0.8888888888888888,\"#fdca26\"],[1.0,\"#f0f921\"]]}],\"heatmap\":[{\"type\":\"heatmap\",\"colorbar\":{\"outlinewidth\":0,\"ticks\":\"\"},\"colorscale\":[[0.0,\"#0d0887\"],[0.1111111111111111,\"#46039f\"],[0.2222222222222222,\"#7201a8\"],[0.3333333333333333,\"#9c179e\"],[0.4444444444444444,\"#bd3786\"],[0.5555555555555556,\"#d8576b\"],[0.6666666666666666,\"#ed7953\"],[0.7777777777777778,\"#fb9f3a\"],[0.8888888888888888,\"#fdca26\"],[1.0,\"#f0f921\"]]}],\"heatmapgl\":[{\"type\":\"heatmapgl\",\"colorbar\":{\"outlinewidth\":0,\"ticks\":\"\"},\"colorscale\":[[0.0,\"#0d0887\"],[0.1111111111111111,\"#46039f\"],[0.2222222222222222,\"#7201a8\"],[0.3333333333333333,\"#9c179e\"],[0.4444444444444444,\"#bd3786\"],[0.5555555555555556,\"#d8576b\"],[0.6666666666666666,\"#ed7953\"],[0.7777777777777778,\"#fb9f3a\"],[0.8888888888888888,\"#fdca26\"],[1.0,\"#f0f921\"]]}],\"contourcarpet\":[{\"type\":\"contourcarpet\",\"colorbar\":{\"outlinewidth\":0,\"ticks\":\"\"}}],\"contour\":[{\"type\":\"contour\",\"colorbar\":{\"outlinewidth\":0,\"ticks\":\"\"},\"colorscale\":[[0.0,\"#0d0887\"],[0.1111111111111111,\"#46039f\"],[0.2222222222222222,\"#7201a8\"],[0.3333333333333333,\"#9c179e\"],[0.4444444444444444,\"#bd3786\"],[0.5555555555555556,\"#d8576b\"],[0.6666666666666666,\"#ed7953\"],[0.7777777777777778,\"#fb9f3a\"],[0.8888888888888888,\"#fdca26\"],[1.0,\"#f0f921\"]]}],\"surface\":[{\"type\":\"surface\",\"colorbar\":{\"outlinewidth\":0,\"ticks\":\"\"},\"colorscale\":[[0.0,\"#0d0887\"],[0.1111111111111111,\"#46039f\"],[0.2222222222222222,\"#7201a8\"],[0.3333333333333333,\"#9c179e\"],[0.4444444444444444,\"#bd3786\"],[0.5555555555555556,\"#d8576b\"],[0.6666666666666666,\"#ed7953\"],[0.7777777777777778,\"#fb9f3a\"],[0.8888888888888888,\"#fdca26\"],[1.0,\"#f0f921\"]]}],\"mesh3d\":[{\"type\":\"mesh3d\",\"colorbar\":{\"outlinewidth\":0,\"ticks\":\"\"}}],\"scatter\":[{\"fillpattern\":{\"fillmode\":\"overlay\",\"size\":10,\"solidity\":0.2},\"type\":\"scatter\"}],\"parcoords\":[{\"type\":\"parcoords\",\"line\":{\"colorbar\":{\"outlinewidth\":0,\"ticks\":\"\"}}}],\"scatterpolargl\":[{\"type\":\"scatterpolargl\",\"marker\":{\"colorbar\":{\"outlinewidth\":0,\"ticks\":\"\"}}}],\"bar\":[{\"error_x\":{\"color\":\"#2a3f5f\"},\"error_y\":{\"color\":\"#2a3f5f\"},\"marker\":{\"line\":{\"color\":\"#E5ECF6\",\"width\":0.5},\"pattern\":{\"fillmode\":\"overlay\",\"size\":10,\"solidity\":0.2}},\"type\":\"bar\"}],\"scattergeo\":[{\"type\":\"scattergeo\",\"marker\":{\"colorbar\":{\"outlinewidth\":0,\"ticks\":\"\"}}}],\"scatterpolar\":[{\"type\":\"scatterpolar\",\"marker\":{\"colorbar\":{\"outlinewidth\":0,\"ticks\":\"\"}}}],\"histogram\":[{\"marker\":{\"pattern\":{\"fillmode\":\"overlay\",\"size\":10,\"solidity\":0.2}},\"type\":\"histogram\"}],\"scattergl\":[{\"type\":\"scattergl\",\"marker\":{\"colorbar\":{\"outlinewidth\":0,\"ticks\":\"\"}}}],\"scatter3d\":[{\"type\":\"scatter3d\",\"line\":{\"colorbar\":{\"outlinewidth\":0,\"ticks\":\"\"}},\"marker\":{\"colorbar\":{\"outlinewidth\":0,\"ticks\":\"\"}}}],\"scattermapbox\":[{\"type\":\"scattermapbox\",\"marker\":{\"colorbar\":{\"outlinewidth\":0,\"ticks\":\"\"}}}],\"scatterternary\":[{\"type\":\"scatterternary\",\"marker\":{\"colorbar\":{\"outlinewidth\":0,\"ticks\":\"\"}}}],\"scattercarpet\":[{\"type\":\"scattercarpet\",\"marker\":{\"colorbar\":{\"outlinewidth\":0,\"ticks\":\"\"}}}],\"carpet\":[{\"aaxis\":{\"endlinecolor\":\"#2a3f5f\",\"gridcolor\":\"white\",\"linecolor\":\"white\",\"minorgridcolor\":\"white\",\"startlinecolor\":\"#2a3f5f\"},\"baxis\":{\"endlinecolor\":\"#2a3f5f\",\"gridcolor\":\"white\",\"linecolor\":\"white\",\"minorgridcolor\":\"white\",\"startlinecolor\":\"#2a3f5f\"},\"type\":\"carpet\"}],\"table\":[{\"cells\":{\"fill\":{\"color\":\"#EBF0F8\"},\"line\":{\"color\":\"white\"}},\"header\":{\"fill\":{\"color\":\"#C8D4E3\"},\"line\":{\"color\":\"white\"}},\"type\":\"table\"}],\"barpolar\":[{\"marker\":{\"line\":{\"color\":\"#E5ECF6\",\"width\":0.5},\"pattern\":{\"fillmode\":\"overlay\",\"size\":10,\"solidity\":0.2}},\"type\":\"barpolar\"}],\"pie\":[{\"automargin\":true,\"type\":\"pie\"}]},\"layout\":{\"autotypenumbers\":\"strict\",\"colorway\":[\"#636efa\",\"#EF553B\",\"#00cc96\",\"#ab63fa\",\"#FFA15A\",\"#19d3f3\",\"#FF6692\",\"#B6E880\",\"#FF97FF\",\"#FECB52\"],\"font\":{\"color\":\"#2a3f5f\"},\"hovermode\":\"closest\",\"hoverlabel\":{\"align\":\"left\"},\"paper_bgcolor\":\"white\",\"plot_bgcolor\":\"#E5ECF6\",\"polar\":{\"bgcolor\":\"#E5ECF6\",\"angularaxis\":{\"gridcolor\":\"white\",\"linecolor\":\"white\",\"ticks\":\"\"},\"radialaxis\":{\"gridcolor\":\"white\",\"linecolor\":\"white\",\"ticks\":\"\"}},\"ternary\":{\"bgcolor\":\"#E5ECF6\",\"aaxis\":{\"gridcolor\":\"white\",\"linecolor\":\"white\",\"ticks\":\"\"},\"baxis\":{\"gridcolor\":\"white\",\"linecolor\":\"white\",\"ticks\":\"\"},\"caxis\":{\"gridcolor\":\"white\",\"linecolor\":\"white\",\"ticks\":\"\"}},\"coloraxis\":{\"colorbar\":{\"outlinewidth\":0,\"ticks\":\"\"}},\"colorscale\":{\"sequential\":[[0.0,\"#0d0887\"],[0.1111111111111111,\"#46039f\"],[0.2222222222222222,\"#7201a8\"],[0.3333333333333333,\"#9c179e\"],[0.4444444444444444,\"#bd3786\"],[0.5555555555555556,\"#d8576b\"],[0.6666666666666666,\"#ed7953\"],[0.7777777777777778,\"#fb9f3a\"],[0.8888888888888888,\"#fdca26\"],[1.0,\"#f0f921\"]],\"sequentialminus\":[[0.0,\"#0d0887\"],[0.1111111111111111,\"#46039f\"],[0.2222222222222222,\"#7201a8\"],[0.3333333333333333,\"#9c179e\"],[0.4444444444444444,\"#bd3786\"],[0.5555555555555556,\"#d8576b\"],[0.6666666666666666,\"#ed7953\"],[0.7777777777777778,\"#fb9f3a\"],[0.8888888888888888,\"#fdca26\"],[1.0,\"#f0f921\"]],\"diverging\":[[0,\"#8e0152\"],[0.1,\"#c51b7d\"],[0.2,\"#de77ae\"],[0.3,\"#f1b6da\"],[0.4,\"#fde0ef\"],[0.5,\"#f7f7f7\"],[0.6,\"#e6f5d0\"],[0.7,\"#b8e186\"],[0.8,\"#7fbc41\"],[0.9,\"#4d9221\"],[1,\"#276419\"]]},\"xaxis\":{\"gridcolor\":\"white\",\"linecolor\":\"white\",\"ticks\":\"\",\"title\":{\"standoff\":15},\"zerolinecolor\":\"white\",\"automargin\":true,\"zerolinewidth\":2},\"yaxis\":{\"gridcolor\":\"white\",\"linecolor\":\"white\",\"ticks\":\"\",\"title\":{\"standoff\":15},\"zerolinecolor\":\"white\",\"automargin\":true,\"zerolinewidth\":2},\"scene\":{\"xaxis\":{\"backgroundcolor\":\"#E5ECF6\",\"gridcolor\":\"white\",\"linecolor\":\"white\",\"showbackground\":true,\"ticks\":\"\",\"zerolinecolor\":\"white\",\"gridwidth\":2},\"yaxis\":{\"backgroundcolor\":\"#E5ECF6\",\"gridcolor\":\"white\",\"linecolor\":\"white\",\"showbackground\":true,\"ticks\":\"\",\"zerolinecolor\":\"white\",\"gridwidth\":2},\"zaxis\":{\"backgroundcolor\":\"#E5ECF6\",\"gridcolor\":\"white\",\"linecolor\":\"white\",\"showbackground\":true,\"ticks\":\"\",\"zerolinecolor\":\"white\",\"gridwidth\":2}},\"shapedefaults\":{\"line\":{\"color\":\"#2a3f5f\"}},\"annotationdefaults\":{\"arrowcolor\":\"#2a3f5f\",\"arrowhead\":0,\"arrowwidth\":1},\"geo\":{\"bgcolor\":\"white\",\"landcolor\":\"#E5ECF6\",\"subunitcolor\":\"white\",\"showland\":true,\"showlakes\":true,\"lakecolor\":\"white\"},\"title\":{\"x\":0.05},\"mapbox\":{\"style\":\"light\"}}},\"xaxis\":{\"anchor\":\"y\",\"domain\":[0.0,1.0],\"categoryorder\":\"array\",\"categoryarray\":[\"Cluster 0\",\"Cluster 1\",\"Cluster 2\"],\"title\":{\"text\":\"Cluster\"}},\"yaxis\":{\"anchor\":\"x\",\"domain\":[0.0,0.7326],\"title\":{\"text\":\"count\"}},\"xaxis2\":{\"anchor\":\"y2\",\"domain\":[0.0,1.0],\"matches\":\"x\",\"showticklabels\":false,\"showgrid\":true},\"yaxis2\":{\"anchor\":\"x2\",\"domain\":[0.7426,1.0],\"matches\":\"y2\",\"showticklabels\":false,\"showline\":false,\"ticks\":\"\",\"showgrid\":false},\"legend\":{\"title\":{\"text\":\"Cluster\"},\"tracegroupgap\":0},\"margin\":{\"t\":60},\"barmode\":\"relative\",\"height\":600},                        {\"responsive\": true}                    ).then(function(){\n",
              "                            \n",
              "var gd = document.getElementById('9a68ecc0-ffd8-4709-9555-97ae82767789');\n",
              "var x = new MutationObserver(function (mutations, observer) {{\n",
              "        var display = window.getComputedStyle(gd).display;\n",
              "        if (!display || display === 'none') {{\n",
              "            console.log([gd, 'removed!']);\n",
              "            Plotly.purge(gd);\n",
              "            observer.disconnect();\n",
              "        }}\n",
              "}});\n",
              "\n",
              "// Listen for the removal of the full notebook cells\n",
              "var notebookContainer = gd.closest('#notebook-container');\n",
              "if (notebookContainer) {{\n",
              "    x.observe(notebookContainer, {childList: true});\n",
              "}}\n",
              "\n",
              "// Listen for the clearing of the current output cell\n",
              "var outputEl = gd.closest('.output');\n",
              "if (outputEl) {{\n",
              "    x.observe(outputEl, {childList: true});\n",
              "}}\n",
              "\n",
              "                        })                };                            </script>        </div>\n",
              "</body>\n",
              "</html>"
            ]
          },
          "metadata": {}
        }
      ]
    },
    {
      "cell_type": "code",
      "source": [],
      "metadata": {
        "id": "zWqhMnERzZuY"
      },
      "execution_count": null,
      "outputs": []
    }
  ]
}